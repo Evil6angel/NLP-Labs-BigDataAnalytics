{
 "cells": [
  {
   "cell_type": "markdown",
   "metadata": {},
   "source": [
    "# **Lab 1 - Kenza Bouqdir**"
   ]
  },
  {
   "cell_type": "markdown",
   "metadata": {},
   "source": [
    "# **1: Text Processing and Minimum Edit Distance**"
   ]
  },
  {
   "cell_type": "markdown",
   "metadata": {},
   "source": [
    "## **1. Setup and Imports**"
   ]
  },
  {
   "cell_type": "code",
   "execution_count": 1,
   "metadata": {},
   "outputs": [],
   "source": [
    "# Importing required libraries\n",
    "import requests\n",
    "from bs4 import BeautifulSoup\n",
    "import nltk\n",
    "from nltk.tokenize import word_tokenize, sent_tokenize\n",
    "from nltk.corpus import stopwords\n",
    "from nltk.stem import PorterStemmer, LancasterStemmer, WordNetLemmatizer\n",
    "import pandas as pd"
   ]
  },
  {
   "cell_type": "code",
   "execution_count": 2,
   "metadata": {},
   "outputs": [
    {
     "name": "stderr",
     "output_type": "stream",
     "text": [
      "[nltk_data] Downloading package punkt to\n",
      "[nltk_data]     C:\\Users\\Administrator\\AppData\\Roaming\\nltk_data...\n",
      "[nltk_data]   Package punkt is already up-to-date!\n",
      "[nltk_data] Downloading package stopwords to\n",
      "[nltk_data]     C:\\Users\\Administrator\\AppData\\Roaming\\nltk_data...\n",
      "[nltk_data]   Package stopwords is already up-to-date!\n",
      "[nltk_data] Downloading package wordnet to\n",
      "[nltk_data]     C:\\Users\\Administrator\\AppData\\Roaming\\nltk_data...\n",
      "[nltk_data]   Package wordnet is already up-to-date!\n"
     ]
    },
    {
     "data": {
      "text/plain": [
       "True"
      ]
     },
     "execution_count": 2,
     "metadata": {},
     "output_type": "execute_result"
    }
   ],
   "source": [
    "# Downloading required NLTK resources\n",
    "nltk.download('punkt')\n",
    "nltk.download('stopwords')\n",
    "nltk.download('wordnet')"
   ]
  },
  {
   "cell_type": "markdown",
   "metadata": {},
   "source": [
    "## **2. Text Extraction**"
   ]
  },
  {
   "cell_type": "code",
   "execution_count": 3,
   "metadata": {},
   "outputs": [
    {
     "name": "stdout",
     "output_type": "stream",
     "text": [
      "Text has been successfully extracted and saved to 'nlp_wiki.txt'\n"
     ]
    }
   ],
   "source": [
    "# URL for the Wikipedia article\n",
    "url = \"https://en.wikipedia.org/wiki/Natural_language_processing\"\n",
    "\n",
    "# Fetch the webpage content\n",
    "response = requests.get(url)\n",
    "soup = BeautifulSoup(response.text, 'html.parser')\n",
    "\n",
    "# Extract main article text (excluding references, navigation, etc.)\n",
    "text = \"\"\n",
    "for paragraph in soup.find_all('p'):\n",
    "    text += paragraph.get_text() + \"\\n\"\n",
    "\n",
    "# Save the extracted text to a file\n",
    "with open('nlp_wiki.txt', 'w', encoding='utf-8') as f:\n",
    "    f.write(text)\n",
    "\n",
    "print(\"Text has been successfully extracted and saved to 'nlp_wiki.txt'\")"
   ]
  },
  {
   "cell_type": "markdown",
   "metadata": {},
   "source": [
    "## **3. Token Processing and Frequency Analysis**"
   ]
  },
  {
   "cell_type": "code",
   "execution_count": 4,
   "metadata": {},
   "outputs": [],
   "source": [
    "# Tokenize and remove stopwords\n",
    "tokens = word_tokenize(text.lower())\n",
    "stop_words = set(stopwords.words('english'))\n",
    "filtered_tokens = [token for token in tokens if token.isalnum() and token not in stop_words ]\n",
    "\n",
    "#calc token frequencies\n",
    "token_freq= {}\n",
    "for token in filtered_tokens:\n",
    "    token_freq[token] = token_freq.get(token, 0) +1\n",
    "\n",
    "#sort tokens by freq\n",
    "sorted_tokens = sorted(token_freq.items(), key=lambda x: x[1], reverse=True)\n",
    "\n",
    "#sort token by freq in a file\n",
    "with open('token_freq.txt', 'w', encoding='utf-8') as f:\n",
    "    for token, freq in sorted_tokens:\n",
    "        f.write(f\"{token}: {freq}\\n\")\n",
    "\n",
    "most_freq_words = sorted_tokens[0][0]#find most freq non stop words\n",
    "\n",
    "#extract sentences containing the most frequnt words\n",
    "sentences = sent_tokenize(text)\n",
    "freq_word_sentences = [\n",
    "    sent for sent in sentences if most_freq_words in sent.lower()\n",
    "]"
   ]
  },
  {
   "cell_type": "markdown",
   "metadata": {},
   "source": [
    "**Finding Sentences Using UNIX Commands * UNIX Command for Sentence Extraction**\n",
    "\n",
    "The following UNIX command can be used to find sentences containing our most frequent word:\n",
    "```bash\n",
    "grep -i 'language' nlp_wiki.txt\n",
    "\n",
    "Options used:\n",
    "\n",
    "    -i: Makes the search case-insensitive   \n",
    "    Pattern: Searches for the most frequent word\n",
    "    File: Searches in our extracted text file\n",
    "\n",
    "Note: For Windows users, alternatives include:\n",
    "\n",
    "    PowerShell: Select-String -Path \"nlp_wiki.txt\" -Pattern \"language\" -CaseSensitive:$false\n",
    "    CMD: findstr /i \"language\" nlp_wiki.txt"
   ]
  },
  {
   "cell_type": "markdown",
   "metadata": {},
   "source": [
    "## **4. Stemming and Lemmatization Analysis**"
   ]
  },
  {
   "cell_type": "code",
   "execution_count": 5,
   "metadata": {},
   "outputs": [
    {
     "name": "stdout",
     "output_type": "stream",
     "text": [
      "Stemming and Lemmatization Examples:\n",
      "\n",
      "Porter Stemmer: \n",
      "understanding: understand\n",
      "using: use\n",
      "language: languag\n",
      "\n",
      "Lancaster Stemmer: \n",
      "understanding: understand\n",
      "using: us\n",
      "language: langu\n",
      "\n",
      "Lemmatization:\n",
      "understanding: understanding\n",
      "using: using\n",
      "language: language\n"
     ]
    }
   ],
   "source": [
    "# Initialize stemmers and lemmatizer\n",
    "porter_stemmer = PorterStemmer()\n",
    "lancaster_stemmer = LancasterStemmer()\n",
    "lemmatizer = WordNetLemmatizer()\n",
    "\n",
    "example_words = ['understanding', 'using', 'language']\n",
    "print(\"Stemming and Lemmatization Examples:\")\n",
    "print(\"\\nPorter Stemmer: \")\n",
    "for word in example_words:\n",
    "    print(f\"{word}: {porter_stemmer.stem(word)}\")\n",
    "\n",
    "print(\"\\nLancaster Stemmer: \")\n",
    "for word in example_words:\n",
    "    print(f\"{word}: {lancaster_stemmer.stem(word)}\")\n",
    "\n",
    "print(\"\\nLemmatization:\")\n",
    "for word in example_words:\n",
    "    print(f\"{word}: {lemmatizer.lemmatize(word)}\")\n"
   ]
  },
  {
   "cell_type": "markdown",
   "metadata": {},
   "source": [
    "**Stemming and Lemmatization Discussion**"
   ]
  },
  {
   "cell_type": "markdown",
   "metadata": {},
   "source": [
    "**Porter vs Lancaster Stemmers**\n",
    "The examples above demonstrate key differences between the stemmers:\n",
    "\n",
    "*Porter Stemmer (More Conservative)*\n",
    "- Produces more readable stems\n",
    "- Maintains more of the original word structure\n",
    "- Better for text that needs to remain somewhat readable\n",
    "- Example: 'language' → 'languag'\n",
    "\n",
    "*Lancaster Stemmer (More Aggressive)*\n",
    "- Creates shorter stems\n",
    "- Sometimes overstems words\n",
    "- Can make stems harder to interpret\n",
    "- Example: 'language' → 'langu'\n",
    "- Example: 'using' → 'us'\n",
    "\n",
    "**When to Use Each Approach**\n",
    "\n",
    "Lemmatization is Better For:\n",
    "- Tasks requiring grammatically correct words\n",
    "- Machine translation\n",
    "- Text generation\n",
    "- Natural language understanding\n",
    "- When accuracy is more important than speed\n",
    "\n",
    "Stemming is Better For:\n",
    "- When processing speed is crucial\n",
    "- Information retrieval\n",
    "- Search engines\n",
    "- Text classification\n",
    "- Basic text matching tasks"
   ]
  },
  {
   "cell_type": "markdown",
   "metadata": {},
   "source": [
    "## **5. Minimum Edit Distance Implementation**"
   ]
  },
  {
   "cell_type": "code",
   "execution_count": 6,
   "metadata": {},
   "outputs": [
    {
     "name": "stdout",
     "output_type": "stream",
     "text": [
      "\n",
      "Minimum Edit Distance Calculations: \n",
      "Distance betwenn sunday & saturday is : 3\n",
      "Distance betwenn AGATGC & AGTATCT is : 3\n",
      "Distance betwenn Levenshtein & Lavenshtein is : 1\n"
     ]
    }
   ],
   "source": [
    "def min_edit_distance(str1, str2):\n",
    "    m, n = len(str1), len(str2)\n",
    "\n",
    "    dp = [[0] * (n + 1) for _ in range(m + 1)]    # Create a matrix to store results of subproblems\n",
    "\n",
    "    #fill the first row and column\n",
    "    for i in range(m+1):\n",
    "        dp[0][0] = i\n",
    "    for j in range(n+1):\n",
    "        dp[0][j] = j\n",
    "\n",
    "    #fill rest of the matrix\n",
    "    for i in range(1, m+1):\n",
    "        for j in range(1, n+1):\n",
    "            if str1[i-1] == str2[j-1]:\n",
    "                dp[i][j] = dp[i-1][j-1]\n",
    "            else:\n",
    "                dp[i][j] = 1 + min(dp[i-1][j],\n",
    "                                    dp[i][j-1],\n",
    "                                    dp[i-1][j-1])\n",
    "    return dp[m][n]\n",
    "\n",
    "test_pairs = [\n",
    "    (\"sunday\", \"saturday\"),\n",
    "    (\"AGATGC\", \"AGTATCT\"),\n",
    "    (\"Levenshtein\", \"Lavenshtein\")\n",
    "]\n",
    "\n",
    "print(\"\\nMinimum Edit Distance Calculations: \")\n",
    "for word1, word2 in test_pairs:\n",
    "    distance = min_edit_distance(word1,word2)\n",
    "    print(f\"Distance betwenn {word1} & {word2} is : {distance}\")"
   ]
  },
  {
   "cell_type": "code",
   "execution_count": 7,
   "metadata": {},
   "outputs": [
    {
     "name": "stdout",
     "output_type": "stream",
     "text": [
      "\n",
      "Edit distance between 'language' and 'languagx': 1\n"
     ]
    }
   ],
   "source": [
    "# Example of using the most frequent word for edit distance\n",
    "# Intentionally misspell the most frequent word\n",
    "original_word = \"language\"\n",
    "misspelled_word = original_word[:-1] + ('x' if original_word[-1] != 'x' else 'y')\n",
    "\n",
    "print(f\"\\nEdit distance between '{original_word}' and '{misspelled_word}': \"\n",
    "      f\"{min_edit_distance(original_word, misspelled_word)}\")"
   ]
  },
  {
   "cell_type": "markdown",
   "metadata": {},
   "source": [
    "# **2: N-gram model**"
   ]
  },
  {
   "cell_type": "markdown",
   "metadata": {},
   "source": [
    "In this part, I've implemented an N-gram language model that processes text data and analyzes word sequences. Here's a detailed explanation of each component and the results obtained."
   ]
  },
  {
   "cell_type": "code",
   "execution_count": 8,
   "metadata": {},
   "outputs": [],
   "source": [
    "import pandas as pd\n",
    "import numpy as np\n",
    "import random\n",
    "import re\n",
    "from collections import Counter\n",
    "import matplotlib.pyplot as plt\n",
    "import seaborn as sns\n",
    "from itertools import islice"
   ]
  },
  {
   "cell_type": "markdown",
   "metadata": {},
   "source": [
    "# Question 1: Loading and Preprocessing Data"
   ]
  },
  {
   "cell_type": "markdown",
   "metadata": {},
   "source": [
    "**Implement loading and preprocessing function**\n"
   ]
  },
  {
   "cell_type": "markdown",
   "metadata": {},
   "source": [
    "First, I implemented the load_and_preprocess function to handle text data from the Twitter dataset. This function:\n",
    "* Reads the input file\n",
    "* Tokenizes text into words using regex\n",
    "* Converts all text to lowercase\n",
    "* Returns a list of tokenized sentences"
   ]
  },
  {
   "cell_type": "code",
   "execution_count": 9,
   "metadata": {},
   "outputs": [],
   "source": [
    "random.seed(42)"
   ]
  },
  {
   "cell_type": "code",
   "execution_count": 10,
   "metadata": {},
   "outputs": [],
   "source": [
    "def load_and_preprocess(file_path):\n",
    "    \"\"\"\n",
    "    Loads and preprocesses a text dataset, returning a list of lists\n",
    "    where each list[i] contains the tokens of sentence at index i.\n",
    "    \"\"\"\n",
    "    with open(file_path, 'r', encoding='utf-8') as f:\n",
    "        text = f.readlines()\n",
    "    sentences = [re.findall(r'\\b\\w+\\b', line.lower()) for line in text if line.strip()]\n",
    "    return [sent for sent in sentences if sent]"
   ]
  },
  {
   "cell_type": "markdown",
   "metadata": {},
   "source": [
    "**Load and split the data**"
   ]
  },
  {
   "cell_type": "code",
   "execution_count": 11,
   "metadata": {},
   "outputs": [
    {
     "name": "stdout",
     "output_type": "stream",
     "text": [
      "Training Data Sample (first 3 sentences):\n",
      "[['i', 'hope', 'this', 'fox', '25th', 'anniversary', 'special', 'mentions', 'the', 'short', 'lived', 'program', 'm', 'a', 'n', 't', 'i', 's'], ['a', 'little', 'oovoo', 'sesh', 'before', 'bed', 'was', 'exactly', 'what', 'i', 'needed'], ['how', 'do', 'i', 'go', 'about', 'getting', 'you', 'to', 'review', 'tweet', 'about', 'my', 'app']]\n",
      "\n",
      "Testing Data Sample (first 3 sentences):\n",
      "[['and', 'hard', 'to', 'keep', 'up', 'you', 'all', 'are', 'great', 'thank', 'you'], ['superbad', 'is', 'on'], ['what', 'would', 'you', 'like', 'to', 'hear', 'on', 'future', 'patcast', 's', 'what', 'would', 'you', 'like', 'to', 'see', 'on', 'our', 'blog', 'looking', 'for', 'feedback', 'and', 'ready', 'to', 'make', 'new', 'changes']]\n"
     ]
    }
   ],
   "source": [
    "# Load and split data\n",
    "file_path = 'en_US.twitter.txt'\n",
    "sentences = load_and_preprocess(file_path)\n",
    "random.shuffle(sentences)\n",
    "train_size = int(0.8 * len(sentences))\n",
    "train_data, test_data = sentences[:train_size], sentences[train_size:]\n",
    "\n",
    "print(\"Training Data Sample (first 3 sentences):\")\n",
    "print(train_data[:3])\n",
    "print(\"\\nTesting Data Sample (first 3 sentences):\")\n",
    "print(test_data[:3])"
   ]
  },
  {
   "cell_type": "markdown",
   "metadata": {},
   "source": [
    "**Sample Output Analysis**\n",
    "\n",
    "**Training Data Sample**\n",
    "\n",
    "The first three training sentences demonstrate typical Twitter characteristics\n",
    "\n",
    "[\n",
    "\n",
    "    ['i', 'hope', 'this', 'fox', '25th', 'anniversary'...],  # TV/media related\n",
    "\n",
    "    ['a', 'little', 'oovoo', 'sesh', 'before', 'bed'...],   # Informal language\n",
    "\n",
    "    ['how', 'do', 'i', 'go', 'about', 'getting'...]         # Question format\n",
    "\n",
    "]\n",
    "\n",
    "*Key observations:*\n",
    "\n",
    "* Mix of formal and informal language (\"oovoo\", \"sesh\")\n",
    "* Numbers and special characters present (\"25th\")\n",
    "* Varying sentence lengths\n",
    "* Common Twitter topics (media, personal updates, questions)\n",
    "\n",
    "**Testing Data Sample**\n",
    "\n",
    "[\n",
    "\n",
    "    ['and', 'hard', 'to', 'keep', 'up'...],    # Casual conversation\n",
    "\n",
    "    ['superbad', 'is', 'on'],                  # Short status update\n",
    "\n",
    "    ['what', 'would', 'you', 'like'...]        # Long, structured query\n",
    "    \n",
    "]\n",
    "\n",
    "The testing set shows:\n",
    "* Diverse sentence lengths (3 to 28 tokens)\n",
    "* Different types of tweets (statements, questions)\n",
    "* Typical social media engagement patterns\n"
   ]
  },
  {
   "cell_type": "markdown",
   "metadata": {},
   "source": [
    "# Question 2: Vocabulary Processing"
   ]
  },
  {
   "cell_type": "markdown",
   "metadata": {},
   "source": [
    "**Implement vocabulary functions**"
   ]
  },
  {
   "cell_type": "markdown",
   "metadata": {},
   "source": [
    "I created three key functions for vocabulary processing:\n",
    "* compute_word_counts: Counts word frequencies in the corpus\n",
    "* filter_vocabulary: Creates vocabulary with words appearing above a threshold\n",
    "* replace_with_UNK: Replaces rare words with <UNK> token"
   ]
  },
  {
   "cell_type": "code",
   "execution_count": 12,
   "metadata": {},
   "outputs": [],
   "source": [
    "def compute_word_counts(sentences):\n",
    "    \"\"\"Returns a dictionary of words with their counts.\"\"\"\n",
    "    return dict(Counter(word for sentence in sentences for word in sentence))\n",
    "\n",
    "def filter_vocabulary(sentences, threshold=2):\n",
    "    \"\"\"Returns words that appear more than threshold times.\"\"\"\n",
    "    word_counts = compute_word_counts(sentences)\n",
    "    return {word for word, count in word_counts.items() if count > threshold}\n",
    "\n",
    "def replace_with_UNK(sentences, vocabulary):\n",
    "    \"\"\"Replaces words not in vocabulary with <UNK>.\"\"\"\n",
    "    return [[word if word in vocabulary else '<UNK>' for word in sentence] \n",
    "            for sentence in sentences]"
   ]
  },
  {
   "cell_type": "markdown",
   "metadata": {},
   "source": [
    "**Apply vocabulary processing**"
   ]
  },
  {
   "cell_type": "code",
   "execution_count": 13,
   "metadata": {},
   "outputs": [
    {
     "name": "stdout",
     "output_type": "stream",
     "text": [
      "Original training sample:\n",
      "[['i', 'hope', 'this', 'fox', '25th', 'anniversary', 'special', 'mentions', 'the', 'short', 'lived', 'program', 'm', 'a', 'n', 't', 'i', 's'], ['a', 'little', 'oovoo', 'sesh', 'before', 'bed', 'was', 'exactly', 'what', 'i', 'needed']]\n",
      "\n",
      "Processed training sample (with <UNK>):\n",
      "[['i', 'hope', 'this', 'fox', '25th', 'anniversary', 'special', 'mentions', 'the', 'short', 'lived', 'program', 'm', 'a', 'n', 't', 'i', 's'], ['a', 'little', 'oovoo', 'sesh', 'before', 'bed', 'was', 'exactly', 'what', 'i', 'needed']]\n",
      "\n",
      "Sample word counts (first 5 words):\n",
      "[('i', 734637), ('hope', 28487), ('this', 131371), ('fox', 1467), ('25th', 353)]\n"
     ]
    }
   ],
   "source": [
    "# Process vocabulary\n",
    "vocab = filter_vocabulary(train_data, threshold=2)\n",
    "processed_train_data = replace_with_UNK(train_data, vocab)\n",
    "processed_test_data = replace_with_UNK(test_data, vocab)\n",
    "\n",
    "# Print samples\n",
    "print(\"Original training sample:\")\n",
    "print(train_data[:2])\n",
    "print(\"\\nProcessed training sample (with <UNK>):\")\n",
    "print(processed_train_data[:2])\n",
    "\n",
    "# Validate word counts\n",
    "word_counts = compute_word_counts(train_data)\n",
    "print(\"\\nSample word counts (first 5 words):\")\n",
    "print(list(word_counts.items())[:5])"
   ]
  },
  {
   "cell_type": "markdown",
   "metadata": {},
   "source": [
    "**Output Analysis**\n",
    "\n",
    "**Word Frequency Distribution**\n",
    "\n",
    "The sample word counts reveal interesting patterns:\n",
    "[\n",
    "\n",
    "    ('i', 734637),      # Personal pronoun \"i\" dominates with 734,637 occurrences\n",
    "\n",
    "    ('hope', 28487),    # Common verb\n",
    "\n",
    "    ('this', 131371),   # Demonstrative pronoun\n",
    "\n",
    "    ('fox', 1467),      # Proper nouns like \"fox\" show moderate frequency (1,467)\n",
    "\n",
    "    ('25th', 353)       # Specific numbers like \"25th\" appear relatively rarely (353)\n",
    "\n",
    "]\n",
    "\n",
    "**Vocabulary Processing Effect**\n",
    "\n",
    "Comparing original vs. processed samples:\n",
    "\n",
    "[\n",
    "    \n",
    "    ['i', 'hope', 'this', 'fox', '25th', 'anniversary'...],\n",
    "\n",
    "    ['a', 'little', 'oovoo', 'sesh', 'before', 'bed'...]\n",
    "    \n",
    "]\n",
    "\n",
    "\n",
    "* Most words in the sample exceeded the threshold (>2)\n",
    "* Common Twitter vocabulary was preserved\n",
    "* The vocabulary effectively captures the dataset's language characteristics\n",
    "* The <UNK> token replacement system is working as intended\n",
    "\n",
    "This vocabulary processing step successfully prepared our data for n-gram model training by establishing a robust word frequency baseline while maintaining the integrity of common language patterns"
   ]
  },
  {
   "cell_type": "markdown",
   "metadata": {},
   "source": [
    "# Question 3: N-gram Counting\n"
   ]
  },
  {
   "cell_type": "markdown",
   "metadata": {},
   "source": [
    "**Implement n-gram counting function**"
   ]
  },
  {
   "cell_type": "markdown",
   "metadata": {},
   "source": [
    "The count_ngrams function implements n-gram counting with these features:\n",
    "* Adds start-of-sentence tokens (<s>)\n",
    "* Adds end-of-sentence token (<e>)\n",
    "* Creates n-grams as tuples\n",
    "* Counts occurrences in a dictionary"
   ]
  },
  {
   "cell_type": "code",
   "execution_count": 14,
   "metadata": {},
   "outputs": [],
   "source": [
    "def count_ngrams(sentences, n):\n",
    "    ngram_counts = Counter()\n",
    "    for sentence in sentences:\n",
    "        padded_sent = ['<s>'] * (n-1) + sentence + ['<e>']\n",
    "        for i in range(len(padded_sent) - n + 1):\n",
    "            ngram = tuple(padded_sent[i:i+n])\n",
    "            ngram_counts[ngram] += 1\n",
    "    return dict(ngram_counts)"
   ]
  },
  {
   "cell_type": "markdown",
   "metadata": {},
   "source": [
    "**Test n-gram counting**"
   ]
  },
  {
   "cell_type": "code",
   "execution_count": 15,
   "metadata": {},
   "outputs": [
    {
     "name": "stdout",
     "output_type": "stream",
     "text": [
      "Bigram counts:\n",
      "('<s>', 'i'): 2\n",
      "('i', 'love'): 2\n",
      "('love', 'coding'): 1\n",
      "('coding', '<e>'): 1\n",
      "('love', 'python'): 1\n",
      "\n",
      "Trigram counts:\n",
      "('<s>', '<s>', 'i'): 2\n",
      "('<s>', 'i', 'love'): 2\n",
      "('i', 'love', 'coding'): 1\n",
      "('love', 'coding', '<e>'): 1\n",
      "('i', 'love', 'python'): 1\n"
     ]
    }
   ],
   "source": [
    "# Test with example sentences\n",
    "test_sentences = [['i', 'love', 'coding'], ['i', 'love', 'python']]\n",
    "bigram_counts = count_ngrams(test_sentences, 2)\n",
    "trigram_counts = count_ngrams(test_sentences, 3)\n",
    "\n",
    "print(\"Bigram counts:\")\n",
    "for ngram, count in list(bigram_counts.items())[:5]:\n",
    "    print(f\"{ngram}: {count}\")\n",
    "\n",
    "print(\"\\nTrigram counts:\")\n",
    "for ngram, count in list(trigram_counts.items())[:5]:\n",
    "    print(f\"{ngram}: {count}\")"
   ]
  },
  {
   "cell_type": "markdown",
   "metadata": {},
   "source": [
    "**N-gram Analysis Results Interpretation**\n",
    "\n",
    "The results show the frequency analysis of bigrams (2-word sequences) and trigrams (3-word sequences) in two similar sentences. Notable observations:\n",
    "\n",
    "**Bigram Analysis**\n",
    "* The sequence (('s', 'i')) appears twice, indicating both sentences start with \"i\"\n",
    "* ('i', 'love') also appears twice, showing \"i love\" is a common pattern\n",
    "* The variations occur in the final words, with \"coding\" and \"python\" each appearing once\n",
    "\n",
    "**Trigram Analysis**\n",
    "* Similar to bigrams, sentence starts ('s', 's', 'i') appear twice\n",
    "* The full phrases \"i love coding\" and \"i love python\" each appear once as trigrams\n",
    "* The analysis uses 's' as sentence start marker and 'e' as end marker\n",
    "\n",
    "This indicates a consistent sentence structure with variation only in the final word."
   ]
  },
  {
   "cell_type": "markdown",
   "metadata": {},
   "source": [
    "# Question 4: Count Table Generation"
   ]
  },
  {
   "cell_type": "markdown",
   "metadata": {},
   "source": [
    "**Implement count table generation**"
   ]
  },
  {
   "cell_type": "markdown",
   "metadata": {},
   "source": [
    "I implemented the generate_count_table function to create transition count matrices. The function:\n",
    "* Handles special tokens (<s>, <e>, <UNK>)\n",
    "* Creates a pandas DataFrame for counts\n",
    "* Maps n-grams to rows and vocabulary to columns"
   ]
  },
  {
   "cell_type": "code",
   "execution_count": 16,
   "metadata": {},
   "outputs": [],
   "source": [
    "def generate_count_table(ngram_plus1_occurrences, lexicon):\n",
    "    if not ngram_plus1_occurrences:\n",
    "        raise ValueError(\"ngram_plus1_occurrences cannot be empty\")\n",
    "    if not lexicon:\n",
    "        raise ValueError(\"lexicon cannot be empty\")\n",
    "\n",
    "    # Add special tokens to lexicon\n",
    "    full_lexicon = list(set(lexicon) | {'<e>', '<UNK>', '<s>'})\n",
    "    \n",
    "    # Extract n-grams (contexts) from (n+1)-grams\n",
    "    ngrams = set(ngram[:-1] for ngram in ngram_plus1_occurrences.keys())\n",
    "    \n",
    "    # Create index labels, flattening single-element tuples\n",
    "    index_labels = [ngram[0] if len(ngram) == 1 else ngram for ngram in ngrams]\n",
    "    \n",
    "    # Initialize count table with zeros\n",
    "    count_table = pd.DataFrame(0,\n",
    "                             index=index_labels,\n",
    "                             columns=full_lexicon)\n",
    "    \n",
    "    # Fill in the counts\n",
    "    for ngram_plus1, count in ngram_plus1_occurrences.items():\n",
    "        context, next_word = ngram_plus1[:-1], ngram_plus1[-1]\n",
    "        # Flatten context if it's a single-element tuple\n",
    "        if len(context) == 1:\n",
    "            context = context[0]\n",
    "        count_table.loc[context, next_word] = count\n",
    "    \n",
    "    return count_table"
   ]
  },
  {
   "cell_type": "markdown",
   "metadata": {},
   "source": [
    "**Test with an example**"
   ]
  },
  {
   "cell_type": "code",
   "execution_count": 17,
   "metadata": {},
   "outputs": [
    {
     "name": "stdout",
     "output_type": "stream",
     "text": [
      "Count Table for Example Phrases:\n",
      "      cat  is  dog  my  so  <UNK>  <e>  this  <s>  love  cute  i\n",
      "cat     0   1    0   0   0      0    0     0    0     0     0  0\n",
      "this    1   0    0   0   0      0    0     0    0     0     0  0\n",
      "i       0   0    0   0   0      0    0     0    0     1     0  0\n",
      "so      0   0    0   0   0      0    0     0    0     0     1  0\n",
      "cute    0   0    0   0   0      0    1     0    0     0     0  0\n",
      "<s>     0   0    0   0   0      0    0     1    0     0     0  1\n",
      "dog     0   0    0   0   0      0    1     0    0     0     0  0\n",
      "love    0   0    0   1   0      0    0     0    0     0     0  0\n",
      "is      0   0    0   0   1      0    0     0    0     0     0  0\n",
      "my      0   0    1   0   0      0    0     0    0     0     0  0\n"
     ]
    }
   ],
   "source": [
    "phrases = [['i', 'love', 'my', 'dog'], ['this', 'cat', 'is', 'so', 'cute']]\n",
    "word_list = list(set(word for phrase in phrases for word in phrase))\n",
    "bigram_occurrences = count_ngrams(phrases, 2)\n",
    "count_table = generate_count_table(bigram_occurrences, word_list)\n",
    "\n",
    "print(\"Count Table for Example Phrases:\")\n",
    "print(count_table)"
   ]
  },
  {
   "cell_type": "markdown",
   "metadata": {},
   "source": [
    "**Bigram Count Table Analysis**\n",
    "\n",
    "This table represents a frequency matrix for word transitions (bigrams) in the given phrases:\n",
    "- \"i love my dog\"\n",
    "- \"this cat is so cute\"\n",
    "\n",
    "**Table Structure**\n",
    "- Rows represent the first word of each bigram (current word)\n",
    "- Columns represent the second word (next word)\n",
    "- Values show how many times each transition occurs\n",
    "- Special tokens: '<'s'>' (sentence start), '<'e'>' (sentence end), '<'UNK'>' (unknown words)\n",
    "\n",
    "**Key Transitions Observed**\n",
    "1. From sentence start ('<'s'>'):\n",
    "   - '<'s'>' → 'i' (1 time)\n",
    "   - '<'s'>' → 'this' (1 time)\n",
    "\n",
    "2. Word chains:\n",
    "   - 'i' → 'love' (1 time)\n",
    "   - 'love' → 'my' (1 time)\n",
    "   - 'my' → 'dog' (1 time)\n",
    "   - 'this' → 'cat' (1 time)\n",
    "   - 'cat' → 'is' (1 time)\n",
    "   - 'is' → 'so' (1 time)\n",
    "   - 'so' → 'cute' (1 time)\n",
    "\n",
    "3. Sentence endings:\n",
    "   - 'dog' → '<'e'>' (1 time)\n",
    "   - 'cute' → '<'e'>' (1 time)\n",
    "\n",
    "This matrix effectively captures all word-to-word transitions in both sentences, showing how each word connects to the next one."
   ]
  },
  {
   "cell_type": "markdown",
   "metadata": {},
   "source": [
    "# Question 5: Probability Table Computation"
   ]
  },
  {
   "cell_type": "markdown",
   "metadata": {},
   "source": [
    "**Implement probability table computation**"
   ]
  },
  {
   "cell_type": "markdown",
   "metadata": {},
   "source": [
    "The final step was implementing compute_probability_table with Laplace smoothing:\n",
    "* Applies smoothing factor to all counts\n",
    "* Normalizes rows to create valid probability distributions\n",
    "* Handles edge cases properly"
   ]
  },
  {
   "cell_type": "code",
   "execution_count": 18,
   "metadata": {},
   "outputs": [],
   "source": [
    "def compute_probability_table(ngram_plus1_counts, lexicon, smoothing_factor=1.0):\n",
    "    # Get count table\n",
    "    count_table = generate_count_table(ngram_plus1_counts, lexicon)\n",
    "    \n",
    "    # Apply Laplace smoothing\n",
    "    smoothed_counts = count_table + smoothing_factor\n",
    "    \n",
    "    # Normalize rows to get probabilities\n",
    "    probability_table = smoothed_counts.div(smoothed_counts.sum(axis=1), axis=0)\n",
    "    \n",
    "    return probability_table"
   ]
  },
  {
   "cell_type": "markdown",
   "metadata": {},
   "source": [
    "**Test probability table computation**\n"
   ]
  },
  {
   "cell_type": "code",
   "execution_count": 19,
   "metadata": {},
   "outputs": [
    {
     "name": "stdout",
     "output_type": "stream",
     "text": [
      "\n",
      "Probability Table:\n",
      "           cat        is       dog        my        so     <UNK>       <e>  \\\n",
      "cat   0.076923  0.153846  0.076923  0.076923  0.076923  0.076923  0.076923   \n",
      "this  0.153846  0.076923  0.076923  0.076923  0.076923  0.076923  0.076923   \n",
      "i     0.076923  0.076923  0.076923  0.076923  0.076923  0.076923  0.076923   \n",
      "so    0.076923  0.076923  0.076923  0.076923  0.076923  0.076923  0.076923   \n",
      "cute  0.076923  0.076923  0.076923  0.076923  0.076923  0.076923  0.153846   \n",
      "<s>   0.071429  0.071429  0.071429  0.071429  0.071429  0.071429  0.071429   \n",
      "dog   0.076923  0.076923  0.076923  0.076923  0.076923  0.076923  0.153846   \n",
      "love  0.076923  0.076923  0.076923  0.153846  0.076923  0.076923  0.076923   \n",
      "is    0.076923  0.076923  0.076923  0.076923  0.153846  0.076923  0.076923   \n",
      "my    0.076923  0.076923  0.153846  0.076923  0.076923  0.076923  0.076923   \n",
      "\n",
      "          this       <s>      love      cute         i  \n",
      "cat   0.076923  0.076923  0.076923  0.076923  0.076923  \n",
      "this  0.076923  0.076923  0.076923  0.076923  0.076923  \n",
      "i     0.076923  0.076923  0.153846  0.076923  0.076923  \n",
      "so    0.076923  0.076923  0.076923  0.153846  0.076923  \n",
      "cute  0.076923  0.076923  0.076923  0.076923  0.076923  \n",
      "<s>   0.142857  0.071429  0.071429  0.071429  0.142857  \n",
      "dog   0.076923  0.076923  0.076923  0.076923  0.076923  \n",
      "love  0.076923  0.076923  0.076923  0.076923  0.076923  \n",
      "is    0.076923  0.076923  0.076923  0.076923  0.076923  \n",
      "my    0.076923  0.076923  0.076923  0.076923  0.076923  \n",
      "\n",
      "Row sums (should be 1.0): cat     1.0\n",
      "this    1.0\n",
      "i       1.0\n",
      "so      1.0\n",
      "cute    1.0\n",
      "<s>     1.0\n",
      "dog     1.0\n",
      "love    1.0\n",
      "is      1.0\n",
      "my      1.0\n",
      "dtype: float64\n"
     ]
    }
   ],
   "source": [
    "prob_table = compute_probability_table(bigram_occurrences, word_list)\n",
    "print(\"\\nProbability Table:\")\n",
    "print(prob_table)\n",
    "print(\"\\nRow sums (should be 1.0):\", prob_table.sum(axis=1))"
   ]
  },
  {
   "cell_type": "markdown",
   "metadata": {},
   "source": [
    "**Bigram Probability Table Analysis**\n",
    "\n",
    "*Overview*\n",
    "This table shows the transition probabilities between words after applying Laplace smoothing (with smoothing_factor=1.0). It represents the probability of seeing each word (columns) given the previous word (rows).\n",
    "\n",
    "*Key Observations*\n",
    "\n",
    "**Smoothing Effects**\n",
    "- The table uses Laplace smoothing, which adds 1 to all counts to handle unseen transitions\n",
    "- Base probability for most transitions is 0.076923 (1/13), representing the smoothed probability\n",
    "- Row sums equal 1.0, confirming proper probability distribution\n",
    "\n",
    "**Notable High Probability Transitions**\n",
    "1. Starting probabilities (from '<'s'>'):\n",
    "   - P('<'s'>' → 'i') = 0.142857\n",
    "   - P('<'s'>' → 'this') = 0.142857\n",
    "   \n",
    "2. Observed transitions with higher probabilities (0.153846):\n",
    "   - P('i' → 'love')\n",
    "   - P('cat' → 'is')\n",
    "   - P('so' → 'cute')\n",
    "   - P('my' → 'dog')\n",
    "\n",
    "**Smoothing Impact**\n",
    "- Even impossible transitions receive small non-zero probabilities\n",
    "- Actual observed transitions get higher probabilities but are smoothed down from 1.0\n",
    "- This prevents zero probabilities while maintaining relative likelihood of observed transitions\n",
    "\n",
    "This smoothed probability table can be used for:\n",
    "- Predicting next words in sequences\n",
    "- Evaluating likelihood of word sequences\n",
    "- Generating new text based on transition probabilities"
   ]
  },
  {
   "cell_type": "markdown",
   "metadata": {},
   "source": [
    "# **Visualizations**"
   ]
  },
  {
   "cell_type": "code",
   "execution_count": 20,
   "metadata": {},
   "outputs": [],
   "source": [
    "def plot_word_frequency(word_counts, top_n=20):\n",
    "    \"\"\"Plots frequency distribution of top N words.\"\"\"\n",
    "    plt.figure(figsize=(12, 6))\n",
    "    sorted_counts = dict(sorted(word_counts.items(), key=lambda x: x[1], reverse=True)[:top_n])\n",
    "    \n",
    "    sns.barplot(x=list(sorted_counts.values()), \n",
    "                y=list(sorted_counts.keys()),\n",
    "                palette='viridis')\n",
    "    \n",
    "    plt.title(f'Top {top_n} Word Frequencies')\n",
    "    plt.xlabel('Frequency')\n",
    "    plt.ylabel('Words')\n",
    "    plt.tight_layout()\n",
    "    plt.show()"
   ]
  },
  {
   "cell_type": "code",
   "execution_count": 21,
   "metadata": {},
   "outputs": [],
   "source": [
    "def plot_ngram_heatmap(prob_table, top_n=10):\n",
    "    \"\"\"Creates heatmap of transition probabilities.\"\"\"\n",
    "    top_ngrams = prob_table.sum(axis=1).nlargest(top_n).index\n",
    "    plot_data = prob_table.loc[top_ngrams]\n",
    "    \n",
    "    plt.figure(figsize=(12, 8))\n",
    "    sns.heatmap(plot_data, cmap='YlOrRd', \n",
    "                xticklabels=True, yticklabels=True,\n",
    "                cbar_kws={'label': 'Probability'})\n",
    "    \n",
    "    plt.title('N-gram Transition Probabilities Heatmap')\n",
    "    plt.xlabel('Next Word')\n",
    "    plt.ylabel('Current N-gram')\n",
    "    plt.xticks(rotation=45, ha='right')\n",
    "    plt.tight_layout()\n",
    "    plt.show()"
   ]
  },
  {
   "cell_type": "code",
   "execution_count": 22,
   "metadata": {},
   "outputs": [
    {
     "name": "stdout",
     "output_type": "stream",
     "text": [
      "Generating visualizations...\n"
     ]
    },
    {
     "name": "stderr",
     "output_type": "stream",
     "text": [
      "C:\\Users\\Administrator\\AppData\\Local\\Temp\\ipykernel_23928\\3948368979.py:6: FutureWarning: \n",
      "\n",
      "Passing `palette` without assigning `hue` is deprecated and will be removed in v0.14.0. Assign the `y` variable to `hue` and set `legend=False` for the same effect.\n",
      "\n",
      "  sns.barplot(x=list(sorted_counts.values()),\n"
     ]
    },
    {
     "data": {
      "image/png": "[encoded data removed]",
      "text/plain": [
       "<Figure size 1200x600 with 1 Axes>"
      ]
     },
     "metadata": {},
     "output_type": "display_data"
    },
    {
     "data": {
      "image/png": "[encoded data removed]",
      "text/plain": [
       "<Figure size 1200x800 with 2 Axes>"
      ]
     },
     "metadata": {},
     "output_type": "display_data"
    }
   ],
   "source": [
    "print(\"Generating visualizations...\")\n",
    "plot_word_frequency(word_counts)\n",
    "plot_ngram_heatmap(prob_table)"
   ]
  },
  {
   "cell_type": "markdown",
   "metadata": {},
   "source": [
    "**Analysis of Word Frequencies and N-gram Transitions**\n",
    "\n",
    "**Word Frequency Distribution (Image 1)**\n",
    "The bar chart shows the top 20 most frequent words in the corpus:\n",
    "\n",
    "*Key Observations*\n",
    "\n",
    "1. Most Common Words:\n",
    "   - \"the\", \"i\", and \"to\" are the three most frequent words\n",
    "   - These top words are primarily function words (articles, prepositions, pronouns)\n",
    "   - Frequencies range from ~700,000 (most frequent) to ~150,000 (least frequent)\n",
    "\n",
    "2. Distribution Pattern:\n",
    "   - Sharp decline in frequency from top words to lower-ranked words\n",
    "   - Function words dominate the top positions as expected\n",
    "\n",
    "**N-gram Transition Heatmap (Image 2)**\n",
    "\n",
    "The heatmap visualizes transition probabilities between words:\n",
    "\n",
    "*Key Transitions*\n",
    "\n",
    "1. Strong Probabilities (darker red squares):\n",
    "   - \"my\" → \"dog\"\n",
    "   - \"i\" → \"love\"\n",
    "   - \"so\" → \"cute\"\n",
    "   - \"is\" → \"so\"\n",
    "   - \"cat\" → \"is\"\n",
    "\n",
    "2. Pattern Analysis:\n",
    "   - Most transitions have low probabilities (light yellow)\n",
    "   - Clear sequential patterns emerge for specific phrases\n",
    "   - Shows structure of common word combinations in the text"
   ]
  },
  {
   "cell_type": "markdown",
   "metadata": {},
   "source": [
    "**Final Analysis with Real Data**"
   ]
  },
  {
   "cell_type": "code",
   "execution_count": 23,
   "metadata": {},
   "outputs": [
    {
     "name": "stdout",
     "output_type": "stream",
     "text": [
      "Final Analysis with Dataset Sample:\n",
      "\n",
      "Count Table Sample (5x5):\n",
      "            telegram  quality  state  softball  spam\n",
      "9p                 0        0      0         0     0\n",
      "performing         0        0      0         0     0\n",
      "learn              0        0      0         0     0\n",
      "netting            0        0      0         0     0\n",
      "ourselves          0        0      0         0     0\n",
      "\n",
      "Probability Table Sample (5x5):\n",
      "            telegram   quality     state  softball      spam\n",
      "9p          0.000293  0.000293  0.000293  0.000293  0.000293\n",
      "performing  0.000293  0.000293  0.000293  0.000293  0.000293\n",
      "learn       0.000293  0.000293  0.000293  0.000293  0.000293\n",
      "netting     0.000293  0.000293  0.000293  0.000293  0.000293\n",
      "ourselves   0.000293  0.000293  0.000293  0.000293  0.000293\n"
     ]
    }
   ],
   "source": [
    "train_sample = processed_train_data[:1000]\n",
    "train_bigrams = count_ngrams(train_sample, 2)\n",
    "train_words = list(set(word for sent in train_sample for word in sent))\n",
    "\n",
    "final_count_table = generate_count_table(train_bigrams, train_words)\n",
    "final_prob_table = compute_probability_table(train_bigrams, train_words)\n",
    "\n",
    "print(\"Final Analysis with Dataset Sample:\")\n",
    "print(\"\\nCount Table Sample (5x5):\")\n",
    "print(final_count_table.iloc[:5, :5])\n",
    "print(\"\\nProbability Table Sample (5x5):\")\n",
    "print(final_prob_table.iloc[:5, :5])"
   ]
  },
  {
   "cell_type": "markdown",
   "metadata": {},
   "source": [
    "**Analysis of Bigram Language Model Sample Data**\n",
    "\n",
    "*Count Table Analysis*\n",
    "The count table sample (5x5) shows:\n",
    "- All values are 0, indicating these specific word combinations never occurred in the training sample\n",
    "- Words like 'manchester', 'hanes', 'tiebreaker' appear to be rare/specific terms\n",
    "- The sample demonstrates the sparsity problem common in n-gram models\n",
    "\n",
    "*Probability Table Analysis*\n",
    "The probability table sample (5x5) shows:\n",
    "- Uniform probability of 0.000293 across all transitions\n",
    "- This uniform distribution is a result of Laplace smoothing\n",
    "- The probability value (1/3413) suggests:\n",
    "  - Large vocabulary size\n",
    "  - Heavy smoothing effect on rare/unseen transitions\n",
    "\n",
    "**Key Insights**\n",
    "1. Sparsity:\n",
    "   - Most word combinations in the sample never occur\n",
    "   - Demonstrates the \"curse of dimensionality\" in language modeling\n",
    "\n",
    "2. Smoothing Effects:\n",
    "   - Laplace smoothing has given equal small probabilities to all transitions\n",
    "   - Prevents zero probabilities for unseen combinations\n",
    "   - May over-smooth rare but valid transitions\n",
    "\n",
    "3. Vocabulary Observations:\n",
    "   - Mix of common and unusual words\n",
    "   - Suggests diverse text source\n",
    "   - Large vocabulary size impacts probability distribution\n",
    "\n",
    "This analysis suggests the model might benefit from:\n",
    "- Larger training sample\n",
    "- Different smoothing techniques\n",
    "- Vocabulary pruning\n",
    "- Higher-order n-grams for better context"
   ]
  }
 ],
 "metadata": {
  "kernelspec": {
   "display_name": "Python 3",
   "language": "python",
   "name": "python3"
  },
  "language_info": {
   "codemirror_mode": {
    "name": "ipython",
    "version": 3
   },
   "file_extension": ".py",
   "mimetype": "text/x-python",
   "name": "python",
   "nbconvert_exporter": "python",
   "pygments_lexer": "ipython3",
   "version": "3.13.0"
  }
 },
 "nbformat": 4,
 "nbformat_minor": 2
}
