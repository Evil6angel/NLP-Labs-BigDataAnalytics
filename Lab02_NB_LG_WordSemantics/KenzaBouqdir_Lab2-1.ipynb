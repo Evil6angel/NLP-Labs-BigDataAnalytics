{
  "nbformat": 4,
  "nbformat_minor": 0,
  "metadata": {
    "colab": {
      "provenance": [],
      "gpuType": "T4"
    },
    "kernelspec": {
      "name": "python3",
      "display_name": "Python 3"
    },
    "language_info": {
      "name": "python"
    },
    "accelerator": "GPU"
  },
  "cells": [
    {
      "cell_type": "markdown",
      "source": [
        "# **I - Naïve Bayes Sentiment Classification**\n",
        "\n",
        "In this part 1 of the notebook, we will build a Naïve Bayes classifier to classify tweets as either positive or negative. The steps include preprocessing the data, building a frequency dictionary, training the model, and evaluating its performance.\n"
      ],
      "metadata": {
        "id": "FbJA-GzdS-ro"
      }
    },
    {
      "cell_type": "markdown",
      "source": [
        "## **1. Import Libraries**\n",
        "First, we import the necessary libraries and download the required resources.\n",
        "\n"
      ],
      "metadata": {
        "id": "45YhaFfjTP-K"
      }
    },
    {
      "cell_type": "code",
      "execution_count": 1,
      "metadata": {
        "id": "FhmjKb3mNype"
      },
      "outputs": [],
      "source": [
        "import re\n",
        "import string\n",
        "import numpy as np\n",
        "from nltk.corpus import twitter_samples, stopwords\n",
        "from nltk.tokenize import TweetTokenizer\n",
        "from nltk.stem import PorterStemmer\n",
        "import nltk\n",
        "from collections import defaultdict"
      ]
    },
    {
      "cell_type": "code",
      "source": [
        "nltk.download('twitter_samples')\n",
        "nltk.download('stopwords')"
      ],
      "metadata": {
        "colab": {
          "base_uri": "https://localhost:8080/"
        },
        "id": "B_uz9U6VOb-2",
        "outputId": "0cfde148-a495-4873-f2aa-ef9a62cfa584"
      },
      "execution_count": 2,
      "outputs": [
        {
          "output_type": "stream",
          "name": "stderr",
          "text": [
            "[nltk_data] Downloading package twitter_samples to /root/nltk_data...\n",
            "[nltk_data]   Unzipping corpora/twitter_samples.zip.\n",
            "[nltk_data] Downloading package stopwords to /root/nltk_data...\n",
            "[nltk_data]   Package stopwords is already up-to-date!\n"
          ]
        },
        {
          "output_type": "execute_result",
          "data": {
            "text/plain": [
              "True"
            ]
          },
          "metadata": {},
          "execution_count": 2
        }
      ]
    },
    {
      "cell_type": "markdown",
      "source": [
        "## **2. Load and Explore the Dataset**\n",
        "\n",
        "We load the dataset of positive and negative tweets and explore its structure."
      ],
      "metadata": {
        "id": "zH0TwA33TY3Y"
      }
    },
    {
      "cell_type": "code",
      "source": [
        "# Load the dataset\n",
        "positive_tweets = twitter_samples.strings('positive_tweets.json')\n",
        "negative_tweets = twitter_samples.strings('negative_tweets.json')\n",
        "\n",
        "# Print dataset statistics\n",
        "print(f\"Number of positive tweets: {len(positive_tweets)}\")\n",
        "print(f\"Number of negative tweets: {len(negative_tweets)}\")\n",
        "print(\"\\nExample of a positive tweet:\", positive_tweets[0])\n",
        "print(\"Example of a negative tweet:\", negative_tweets[0])"
      ],
      "metadata": {
        "colab": {
          "base_uri": "https://localhost:8080/"
        },
        "id": "-DkvZdW1O_9F",
        "outputId": "1e957398-6304-4705-9b10-f7d81e94ee35"
      },
      "execution_count": 3,
      "outputs": [
        {
          "output_type": "stream",
          "name": "stdout",
          "text": [
            "Number of positive tweets: 5000\n",
            "Number of negative tweets: 5000\n",
            "\n",
            "Example of a positive tweet: #FollowFriday @France_Inte @PKuchly57 @Milipol_Paris for being top engaged members in my community this week :)\n",
            "Example of a negative tweet: hopeless for tmr :(\n"
          ]
        }
      ]
    },
    {
      "cell_type": "markdown",
      "source": [
        "## **3. Preprocessing**\n",
        "\n",
        "We define a function to preprocess tweets by removing special characters, tokenizing, removing stopwords, and stemming."
      ],
      "metadata": {
        "id": "-dFjcztpTm1B"
      }
    },
    {
      "cell_type": "code",
      "source": [
        "# Initialize tokenizer, stemmer, and stopwords\n",
        "tokenizer = TweetTokenizer(preserve_case=False, strip_handles=True, reduce_len=True)\n",
        "stemmer = PorterStemmer()\n",
        "stopwords_english = stopwords.words('english')"
      ],
      "metadata": {
        "id": "kOrAy9DsPHxv"
      },
      "execution_count": 4,
      "outputs": []
    },
    {
      "cell_type": "code",
      "source": [
        "def preprocess_tweet(tweet):\n",
        "    \"\"\"\n",
        "    Preprocess a single tweet:\n",
        "    1. Remove hyperlinks, special characters, and numbers\n",
        "    2. Tokenize the tweet\n",
        "    3. Remove stopwords and punctuation\n",
        "    4. Perform stemming\n",
        "\n",
        "    Args:\n",
        "        tweet: String containing a tweet\n",
        "\n",
        "    Returns:\n",
        "        processed_tokens: List of processed tokens from the tweet\n",
        "    \"\"\"\n",
        "    # Remove hyperlinks, special characters, and numbers\n",
        "    tweet = re.sub(r'https?://[^\\s]+', '', tweet)  # Remove hyperlinks\n",
        "    tweet = re.sub(r'@[^\\s]+', '', tweet)  # Remove @mentions\n",
        "    tweet = re.sub(r'#', '', tweet)  # Remove hashtag symbol\n",
        "    tweet = re.sub(r'[0-9]+', '', tweet)  # Remove numbers\n",
        "\n",
        "    # Tokenize\n",
        "    tokens = tokenizer.tokenize(tweet)\n",
        "\n",
        "    # Remove stopwords and punctuation, then apply stemming\n",
        "    processed_tokens = []\n",
        "    for word in tokens:\n",
        "        if (word not in stopwords_english and\n",
        "            word not in string.punctuation and\n",
        "            len(word) > 1):  # Remove single characters\n",
        "            # Stemming\n",
        "            stemmed_word = stemmer.stem(word)\n",
        "            processed_tokens.append(stemmed_word)\n",
        "\n",
        "    return processed_tokens"
      ],
      "metadata": {
        "id": "vRfEugqOPLeH"
      },
      "execution_count": 5,
      "outputs": []
    },
    {
      "cell_type": "markdown",
      "source": [
        "## **4. Build Frequency Dictionary**\n",
        "We create a frequency dictionary to count how often each word appears in positive and negative tweets."
      ],
      "metadata": {
        "id": "K7YBA1oyT1ep"
      }
    },
    {
      "cell_type": "code",
      "source": [
        "def build_freqs(tweets, labels):\n",
        "    \"\"\"\n",
        "    Build a dictionary mapping tokens to their frequencies in each class\n",
        "    \"\"\"\n",
        "    freqs = defaultdict(int)\n",
        "    for tweet, label in zip(tweets, labels):\n",
        "        for token in preprocess_tweet(tweet):\n",
        "            freqs[(token, label)] += 1\n",
        "    return freqs"
      ],
      "metadata": {
        "id": "tPzIxW0LPOja"
      },
      "execution_count": 6,
      "outputs": []
    },
    {
      "cell_type": "code",
      "source": [
        "# Prepare the dataset\n",
        "all_tweets = positive_tweets + negative_tweets\n",
        "labels = [1] * len(positive_tweets) + [0] * len(negative_tweets)"
      ],
      "metadata": {
        "id": "27FufUv0ParQ"
      },
      "execution_count": 7,
      "outputs": []
    },
    {
      "cell_type": "code",
      "source": [
        "# Shuffle the dataset\n",
        "np.random.seed(42)\n",
        "shuffle_indices = np.random.permutation(len(all_tweets))\n",
        "all_tweets = [all_tweets[i] for i in shuffle_indices]\n",
        "labels = [labels[i] for i in shuffle_indices]"
      ],
      "metadata": {
        "id": "U5Sk6-OPP18I"
      },
      "execution_count": 8,
      "outputs": []
    },
    {
      "cell_type": "code",
      "source": [
        "# Build the frequency dictionary\n",
        "freqs = build_freqs(all_tweets, labels)"
      ],
      "metadata": {
        "id": "6Qbkee_CP8FQ"
      },
      "execution_count": 9,
      "outputs": []
    },
    {
      "cell_type": "markdown",
      "source": [
        "## **5. Naïve Bayes Classifier**\n",
        "\n",
        "We define the Naïve Bayes classifier, including methods for training and prediction."
      ],
      "metadata": {
        "id": "LjGYmRZhUE_S"
      }
    },
    {
      "cell_type": "code",
      "source": [
        "class NaiveBayes:\n",
        "    def __init__(self):\n",
        "        self.logprior = 0\n",
        "        self.loglikelihood = {}\n",
        "\n",
        "    def train(self, freqs, train_x, train_y):\n",
        "        \"\"\"\n",
        "        Train the Naive Bayes classifier\n",
        "        \"\"\"\n",
        "        vocab = set([word for (word, _) in freqs.keys()])\n",
        "        V = len(vocab)\n",
        "\n",
        "        N_pos = sum(freqs[(word, 1)] for word in vocab)\n",
        "        N_neg = sum(freqs[(word, 0)] for word in vocab)\n",
        "\n",
        "        D = len(train_y)\n",
        "        D_pos = sum(train_y)\n",
        "        D_neg = D - D_pos\n",
        "\n",
        "        self.logprior = np.log(D_pos / D_neg)\n",
        "\n",
        "        for word in vocab:\n",
        "            freq_pos = freqs.get((word, 1), 0)\n",
        "            freq_neg = freqs.get((word, 0), 0)\n",
        "            p_w_pos = (freq_pos + 1) / (N_pos + V)\n",
        "            p_w_neg = (freq_neg + 1) / (N_neg + V)\n",
        "            self.loglikelihood[word] = np.log(p_w_pos / p_w_neg)\n",
        "\n",
        "    def predict(self, tweet):\n",
        "        \"\"\"\n",
        "        Predict the sentiment of a tweet\n",
        "        \"\"\"\n",
        "        word_list = preprocess_tweet(tweet)\n",
        "        p = self.logprior\n",
        "        for word in word_list:\n",
        "            if word in self.loglikelihood:\n",
        "                p += self.loglikelihood[word]\n",
        "        return p > 0\n",
        "\n",
        "    def evaluate(self, test_x, test_y):\n",
        "        \"\"\"\n",
        "        Evaluate the model on a test set\n",
        "        \"\"\"\n",
        "        correct = 0\n",
        "        for tweet, label in zip(test_x, test_y):\n",
        "            prediction = self.predict(tweet)\n",
        "            if prediction == (label == 1):\n",
        "                correct += 1\n",
        "        return correct / len(test_y)"
      ],
      "metadata": {
        "id": "DMZ0tH-sPXx3"
      },
      "execution_count": 10,
      "outputs": []
    },
    {
      "cell_type": "markdown",
      "source": [
        "## **6. Train and Evaluate the Model**\n",
        "\n",
        "We split the dataset into training and testing sets, train the model, and evaluate its accuracy."
      ],
      "metadata": {
        "id": "Ri_8L8e_VAtc"
      }
    },
    {
      "cell_type": "code",
      "source": [
        "# Split into train and test sets (80% train, 20% test)\n",
        "split_idx = int(0.8 * len(all_tweets))\n",
        "train_x = all_tweets[:split_idx]\n",
        "train_y = labels[:split_idx]\n",
        "test_x = all_tweets[split_idx:]\n",
        "test_y = labels[split_idx:]"
      ],
      "metadata": {
        "id": "3lU0Q0GnP5MA"
      },
      "execution_count": 11,
      "outputs": []
    },
    {
      "cell_type": "code",
      "source": [
        "# Train the Naive Bayes model\n",
        "nb_model = NaiveBayes()\n",
        "nb_model.train(freqs, train_x, train_y)"
      ],
      "metadata": {
        "id": "c1CfHRw9P8mK"
      },
      "execution_count": 12,
      "outputs": []
    },
    {
      "cell_type": "code",
      "source": [
        "# Test the model\n",
        "correct = 0\n",
        "for tweet, label in zip(test_x, test_y):\n",
        "    prediction = nb_model.predict(tweet)\n",
        "    if prediction == (label == 1):\n",
        "        correct += 1\n",
        "\n",
        "accuracy = correct / len(test_y)\n",
        "print(f\"Accuracy: {accuracy:.4f}\")"
      ],
      "metadata": {
        "colab": {
          "base_uri": "https://localhost:8080/"
        },
        "id": "tnXa-Hl2QAUx",
        "outputId": "9c168d79-f773-4ffd-a14a-d40e270e8296"
      },
      "execution_count": 13,
      "outputs": [
        {
          "output_type": "stream",
          "name": "stdout",
          "text": [
            "Accuracy: 0.9995\n"
          ]
        }
      ]
    },
    {
      "cell_type": "markdown",
      "source": [
        "## **7. Test on Unseen Tweets**\n",
        "\n",
        "We test the model on some custom tweets to see how it performs.\n"
      ],
      "metadata": {
        "id": "CIknT20FVmNW"
      }
    },
    {
      "cell_type": "code",
      "source": [
        "# Test on some unseen tweets\n",
        "test_tweets = [\n",
        "    \"I love this weather, it's so beautiful!\",\n",
        "    \"This movie was terrible and a waste of time\",\n",
        "    \"I can't believe how amazing this product is!\"\n",
        "]\n",
        "\n",
        "for tweet in test_tweets:\n",
        "    prediction = nb_model.predict(tweet)\n",
        "    sentiment = \"positive\" if prediction else \"negative\"\n",
        "    print(f\"Tweet: {tweet}\")\n",
        "    print(f\"Sentiment: {sentiment}\\n\")"
      ],
      "metadata": {
        "colab": {
          "base_uri": "https://localhost:8080/"
        },
        "id": "XjZ312cRQPmx",
        "outputId": "20309c32-0297-45ad-feeb-2e8a604a9e1f"
      },
      "execution_count": 14,
      "outputs": [
        {
          "output_type": "stream",
          "name": "stdout",
          "text": [
            "Tweet: I love this weather, it's so beautiful!\n",
            "Sentiment: positive\n",
            "\n",
            "Tweet: This movie was terrible and a waste of time\n",
            "Sentiment: negative\n",
            "\n",
            "Tweet: I can't believe how amazing this product is!\n",
            "Sentiment: positive\n",
            "\n"
          ]
        }
      ]
    },
    {
      "cell_type": "markdown",
      "source": [
        "# **II - Logistic Regression for Toxic Comment Classification**\n",
        "\n",
        "In this notebook, we build a machine learning pipeline to classify online comments as **toxic**, **insult**, or **positive**. The dataset originates from the Jigsaw Toxic Comment Classification project. We will:\n",
        "\n",
        "- Load and explore the dataset.\n",
        "- Combine multiple toxicity labels into a single target.\n",
        "- Augment the data with additional positive and ambiguous insult comments.\n",
        "- Engineer features including text-based (using TF-IDF) and additional features (emoji presence, punctuation, uppercase words, sarcasm indicators).\n",
        "- Train and evaluate a Logistic Regression model.\n",
        "- Analyze feature importance and save the final model.\n"
      ],
      "metadata": {
        "id": "2LxyRWkqY1el"
      }
    },
    {
      "cell_type": "code",
      "source": [
        "from google.colab import drive\n",
        "drive.mount('/content/drive')"
      ],
      "metadata": {
        "colab": {
          "base_uri": "https://localhost:8080/"
        },
        "id": "dqB20KgFKO3J",
        "outputId": "18764cfe-d734-42ce-d179-6bcf818c0ba1"
      },
      "execution_count": 15,
      "outputs": [
        {
          "output_type": "stream",
          "name": "stdout",
          "text": [
            "Drive already mounted at /content/drive; to attempt to forcibly remount, call drive.mount(\"/content/drive\", force_remount=True).\n"
          ]
        }
      ]
    },
    {
      "cell_type": "code",
      "source": [
        "!ls /content/drive/MyDrive"
      ],
      "metadata": {
        "colab": {
          "base_uri": "https://localhost:8080/"
        },
        "id": "v83f_73rKyvf",
        "outputId": "1614521e-8459-4895-c2a6-24a7b73167fc"
      },
      "execution_count": 16,
      "outputs": [
        {
          "output_type": "stream",
          "name": "stdout",
          "text": [
            " AG_news_samples.csv   Connections.csv\t jigsaw-toxic-comment-train.xlsx\n",
            " Classroom\t       data\t\t KenzaBouqdir_copy.pdf\n",
            "'Colab Notebooks'     'Discrete math'\t sent-transf_recommendations_embeddings.csv\n"
          ]
        }
      ]
    },
    {
      "cell_type": "code",
      "source": [
        "! pip install emoji"
      ],
      "metadata": {
        "colab": {
          "base_uri": "https://localhost:8080/"
        },
        "id": "vWb-LhzJLtXb",
        "outputId": "986efb0c-143d-4f0f-b77e-0e63cc37af52"
      },
      "execution_count": 17,
      "outputs": [
        {
          "output_type": "stream",
          "name": "stdout",
          "text": [
            "Collecting emoji\n",
            "  Downloading emoji-2.14.1-py3-none-any.whl.metadata (5.7 kB)\n",
            "Downloading emoji-2.14.1-py3-none-any.whl (590 kB)\n",
            "\u001b[?25l   \u001b[90m━━━━━━━━━━━━━━━━━━━━━━━━━━━━━━━━━━━━━━━━\u001b[0m \u001b[32m0.0/590.6 kB\u001b[0m \u001b[31m?\u001b[0m eta \u001b[36m-:--:--\u001b[0m\r\u001b[2K   \u001b[91m━━━━━━━━━━\u001b[0m\u001b[90m╺\u001b[0m\u001b[90m━━━━━━━━━━━━━━━━━━━━━━━━━━━━━\u001b[0m \u001b[32m153.6/590.6 kB\u001b[0m \u001b[31m4.6 MB/s\u001b[0m eta \u001b[36m0:00:01\u001b[0m\r\u001b[2K   \u001b[91m━━━━━━━━━━━━━━━━━━━━━━━━━━━━━━━━━━━━━━━\u001b[0m\u001b[91m╸\u001b[0m \u001b[32m583.7/590.6 kB\u001b[0m \u001b[31m10.5 MB/s\u001b[0m eta \u001b[36m0:00:01\u001b[0m\r\u001b[2K   \u001b[90m━━━━━━━━━━━━━━━━━━━━━━━━━━━━━━━━━━━━━━━━\u001b[0m \u001b[32m590.6/590.6 kB\u001b[0m \u001b[31m8.0 MB/s\u001b[0m eta \u001b[36m0:00:00\u001b[0m\n",
            "\u001b[?25hInstalling collected packages: emoji\n",
            "Successfully installed emoji-2.14.1\n"
          ]
        }
      ]
    },
    {
      "cell_type": "code",
      "source": [
        "! pip install emot"
      ],
      "metadata": {
        "colab": {
          "base_uri": "https://localhost:8080/"
        },
        "id": "U3VWgUrpL3Oc",
        "outputId": "71a98d05-2856-46d7-9c57-21a22937136a"
      },
      "execution_count": 18,
      "outputs": [
        {
          "output_type": "stream",
          "name": "stdout",
          "text": [
            "Collecting emot\n",
            "  Downloading emot-3.1-py3-none-any.whl.metadata (396 bytes)\n",
            "Downloading emot-3.1-py3-none-any.whl (61 kB)\n",
            "\u001b[?25l   \u001b[90m━━━━━━━━━━━━━━━━━━━━━━━━━━━━━━━━━━━━━━━━\u001b[0m \u001b[32m0.0/61.5 kB\u001b[0m \u001b[31m?\u001b[0m eta \u001b[36m-:--:--\u001b[0m\r\u001b[2K   \u001b[90m━━━━━━━━━━━━━━━━━━━━━━━━━━━━━━━━━━━━━━━━\u001b[0m \u001b[32m61.5/61.5 kB\u001b[0m \u001b[31m2.0 MB/s\u001b[0m eta \u001b[36m0:00:00\u001b[0m\n",
            "\u001b[?25hInstalling collected packages: emot\n",
            "Successfully installed emot-3.1\n"
          ]
        }
      ]
    },
    {
      "cell_type": "markdown",
      "source": [
        "### **Environment Setup & Imports**"
      ],
      "metadata": {
        "id": "XvjUDmYwJ_UA"
      }
    },
    {
      "cell_type": "code",
      "source": [
        "# Import required libraries\n",
        "import pandas as pd\n",
        "import numpy as np\n",
        "import re\n",
        "import time\n",
        "import pickle\n",
        "import matplotlib.pyplot as plt\n",
        "import seaborn as sns\n",
        "import nltk\n",
        "import emoji\n",
        "\n",
        "from sklearn.model_selection import train_test_split\n",
        "from sklearn.feature_extraction.text import TfidfVectorizer\n",
        "from sklearn.linear_model import LogisticRegression\n",
        "from sklearn.metrics import (classification_report, confusion_matrix,\n",
        "                             accuracy_score, precision_score, recall_score, f1_score)\n",
        "from imblearn.over_sampling import RandomOverSampler\n",
        "\n",
        "# Download necessary NLTK resources\n",
        "nltk.download('stopwords')\n",
        "nltk.download('punkt')\n"
      ],
      "metadata": {
        "colab": {
          "base_uri": "https://localhost:8080/"
        },
        "id": "wLTp_4DCJ4hD",
        "outputId": "59e783ad-cd17-4be1-8d53-b50d0d895825"
      },
      "execution_count": 19,
      "outputs": [
        {
          "output_type": "stream",
          "name": "stderr",
          "text": [
            "[nltk_data] Downloading package stopwords to /root/nltk_data...\n",
            "[nltk_data]   Package stopwords is already up-to-date!\n",
            "[nltk_data] Downloading package punkt to /root/nltk_data...\n",
            "[nltk_data]   Package punkt is already up-to-date!\n"
          ]
        },
        {
          "output_type": "execute_result",
          "data": {
            "text/plain": [
              "True"
            ]
          },
          "metadata": {},
          "execution_count": 19
        }
      ]
    },
    {
      "cell_type": "markdown",
      "source": [
        "## **1. Data Loading & Initial Exploration**\n",
        "\n",
        "We begin by loading the Jigsaw Toxic Comment dataset and exploring its structure.\n",
        "\n"
      ],
      "metadata": {
        "id": "LEFdCQ0uKGeB"
      }
    },
    {
      "cell_type": "markdown",
      "source": [
        "###**1. Data Loading**"
      ],
      "metadata": {
        "id": "9oOprRQQK_-3"
      }
    },
    {
      "cell_type": "code",
      "source": [
        "# Load the dataset from CSV\n",
        "print(\"Loading dataset...\")\n",
        "df = pd.read_excel('/content/drive/MyDrive/jigsaw-toxic-comment-train.xlsx')\n",
        "\n",
        "# Display basic information about the dataset\n",
        "print(\"Dataset shape:\", df.shape)\n",
        "print(\"\\nFirst few rows:\")\n",
        "print(df.head())\n",
        "print(\"\\nColumn information:\")\n",
        "print(df.info())\n",
        "\n",
        "# Check original label counts for the key columns\n",
        "print(\"\\nOriginal label counts:\")\n",
        "print(df[['toxic', 'severe_toxic', 'insult', 'identity_hate']].sum())\n"
      ],
      "metadata": {
        "colab": {
          "base_uri": "https://localhost:8080/"
        },
        "id": "Naq_G2NwKGQw",
        "outputId": "9381b693-88f2-403b-b4cf-d2f4f360ab58"
      },
      "execution_count": 20,
      "outputs": [
        {
          "output_type": "stream",
          "name": "stdout",
          "text": [
            "Loading dataset...\n",
            "Dataset shape: (223549, 8)\n",
            "\n",
            "First few rows:\n",
            "                 id                                       comment_text  toxic  \\\n",
            "0  0000997932d777bf  Explanation\\nWhy the edits made under my usern...      0   \n",
            "1  000103f0d9cfb60f  D'aww! He matches this background colour I'm s...      0   \n",
            "2  000113f07ec002fd  Hey man, I'm really not trying to edit war. It...      0   \n",
            "3  0001b41b1c6bb37e  \"\\nMore\\nI can't make any real suggestions on ...      0   \n",
            "4  0001d958c54c6e35  You, sir, are my hero. Any chance you remember...      0   \n",
            "\n",
            "   severe_toxic  obscene  threat  insult  identity_hate  \n",
            "0             0        0       0       0              0  \n",
            "1             0        0       0       0              0  \n",
            "2             0        0       0       0              0  \n",
            "3             0        0       0       0              0  \n",
            "4             0        0       0       0              0  \n",
            "\n",
            "Column information:\n",
            "<class 'pandas.core.frame.DataFrame'>\n",
            "RangeIndex: 223549 entries, 0 to 223548\n",
            "Data columns (total 8 columns):\n",
            " #   Column         Non-Null Count   Dtype \n",
            "---  ------         --------------   ----- \n",
            " 0   id             223549 non-null  object\n",
            " 1   comment_text   223378 non-null  object\n",
            " 2   toxic          223549 non-null  int64 \n",
            " 3   severe_toxic   223549 non-null  int64 \n",
            " 4   obscene        223549 non-null  int64 \n",
            " 5   threat         223549 non-null  int64 \n",
            " 6   insult         223549 non-null  int64 \n",
            " 7   identity_hate  223549 non-null  int64 \n",
            "dtypes: int64(6), object(2)\n",
            "memory usage: 13.6+ MB\n",
            "None\n",
            "\n",
            "Original label counts:\n",
            "toxic            21384\n",
            "severe_toxic      1962\n",
            "insult           11304\n",
            "identity_hate     2117\n",
            "dtype: int64\n"
          ]
        }
      ]
    },
    {
      "cell_type": "markdown",
      "source": [
        "### Key Insights\n",
        "\n",
        "- **Dataset Size:**  \n",
        "  - 223,549 comments (rows) and 8 columns.\n",
        "\n",
        "- **Data Quality:**  \n",
        "  - Nearly all columns are complete, although there are a few missing values in `comment_text`.\n",
        "\n",
        "- **Label Distribution:**  \n",
        "  - **toxic:** 21,384 comments  \n",
        "  - **severe_toxic:** 1,962 comments  \n",
        "  - **insult:** 11,304 comments  \n",
        "  - **identity_hate:** 2,117 comments\n",
        "\n",
        "These points indicate a large dataset with a significant number of toxic and insulting comments, which is essential for building our classification model.\n"
      ],
      "metadata": {
        "id": "2n1Lx9ToSaT9"
      }
    },
    {
      "cell_type": "markdown",
      "source": [
        "##**2. Label Combination and Filtering**"
      ],
      "metadata": {
        "id": "osc8b-QuLJV2"
      }
    },
    {
      "cell_type": "markdown",
      "source": [
        "As per the requirements, we need to combine \"toxic,\" \"severe_toxic,\" and \"identity_hate\" into a single \"Toxic\" label, and keep \"insult\" as a separate category.\n"
      ],
      "metadata": {
        "id": "OfI0OVIULtuw"
      }
    },
    {
      "cell_type": "code",
      "source": [
        "print(\"\\nCombining and filtering labels...\")\n",
        "\n",
        "# Combine 'toxic', 'severe_toxic', and 'identity_hate' into one 'toxic' label\n",
        "df['toxic_combined'] = ((df['toxic'] == 1) | (df['severe_toxic'] == 1) | (df['identity_hate'] == 1)).astype(int)\n",
        "\n",
        "# Ensure 'insult' column is in integer format\n",
        "df['insult'] = df['insult'].astype(int)\n"
      ],
      "metadata": {
        "colab": {
          "base_uri": "https://localhost:8080/"
        },
        "id": "J2T1FGKrLsDe",
        "outputId": "2591d1fa-d662-4885-d11b-832e26a1ae1e"
      },
      "execution_count": 21,
      "outputs": [
        {
          "output_type": "stream",
          "name": "stdout",
          "text": [
            "\n",
            "Combining and filtering labels...\n"
          ]
        }
      ]
    },
    {
      "cell_type": "code",
      "source": [
        "print(\"\\nCombining and filtering labels...\")\n",
        "\n",
        "# Combine 'toxic', 'severe_toxic', and 'identity_hate' into one 'toxic' label\n",
        "df['toxic_combined'] = ((df['toxic'] == 1) | (df['severe_toxic'] == 1) | (df['identity_hate'] == 1)).astype(int)\n",
        "\n",
        "# Ensure 'insult' column is in integer format\n",
        "df['insult'] = df['insult'].astype(int)\n",
        "\n",
        "# Assign a single label per comment:\n",
        "# If a comment is marked as insult, assign 'insult'; else if it is toxic, assign 'toxic';\n",
        "# comments that are neither toxic nor insult are not used.\n",
        "def assign_label(row):\n",
        "    if row['insult'] == 1:\n",
        "        return 'insult'\n",
        "    elif row['toxic_combined'] == 1:\n",
        "        return 'toxic'\n",
        "    else:\n",
        "        return None  # To be filtered out"
      ],
      "metadata": {
        "colab": {
          "base_uri": "https://localhost:8080/"
        },
        "id": "5kasEAT-MBaX",
        "outputId": "fe2c943d-6854-4f82-e3b9-709643f11a5d"
      },
      "execution_count": 22,
      "outputs": [
        {
          "output_type": "stream",
          "name": "stdout",
          "text": [
            "\n",
            "Combining and filtering labels...\n"
          ]
        }
      ]
    },
    {
      "cell_type": "code",
      "source": [
        "df['label'] = df.apply(assign_label, axis=1)\n",
        "\n",
        "# Filter out comments that do not belong to the 'toxic' or 'insult' categories\n",
        "df_filtered = df[df['label'].notna()].copy()\n",
        "df_filtered = df_filtered[['id', 'comment_text', 'label']]\n",
        "\n",
        "# Check distribution of filtered labels\n",
        "print(\"\\nFiltered label distribution (only 'toxic' and 'insult'):\")\n",
        "print(df_filtered['label'].value_counts())\n",
        "\n",
        "# Visualize the label distribution\n",
        "plt.figure(figsize=(8, 5))\n",
        "df_filtered['label'].value_counts().plot(kind='bar', color=['#FF5555', '#5555FF'])\n",
        "plt.title('Distribution of Filtered Labels')\n",
        "plt.xlabel('Label')\n",
        "plt.ylabel('Count')\n",
        "plt.xticks(rotation=0)\n",
        "plt.tight_layout()\n",
        "plt.show()"
      ],
      "metadata": {
        "colab": {
          "base_uri": "https://localhost:8080/",
          "height": 611
        },
        "id": "WshVWyMVMD39",
        "outputId": "f0ec1a0f-19e9-4669-de06-e82195d5a29f"
      },
      "execution_count": 23,
      "outputs": [
        {
          "output_type": "stream",
          "name": "stdout",
          "text": [
            "\n",
            "Filtered label distribution (only 'toxic' and 'insult'):\n",
            "label\n",
            "insult    11304\n",
            "toxic     10769\n",
            "Name: count, dtype: int64\n"
          ]
        },
        {
          "output_type": "display_data",
          "data": {
            "text/plain": [
              "<Figure size 800x500 with 1 Axes>"
            ],
            "image/png": "[encoded data removed]"
          },
          "metadata": {}
        }
      ]
    },
    {
      "cell_type": "markdown",
      "source": [
        "## **3. Data Augmentation**"
      ],
      "metadata": {
        "id": "Zo01f2e3MQdI"
      }
    },
    {
      "cell_type": "markdown",
      "source": [
        "Following the requirements, we augment the dataset with:\n",
        "1. Positive comments with emojis\n",
        "2. Ambiguous negative comments with emojis (sarcasm, mockery) labeled as insults\n"
      ],
      "metadata": {
        "id": "yTGuV7XJMXG9"
      }
    },
    {
      "cell_type": "markdown",
      "source": [
        "###**3.1 Data Augmentation with Positive and Ambiguous Negative Comments**\n"
      ],
      "metadata": {
        "id": "pdvks3KpMsZH"
      }
    },
    {
      "cell_type": "code",
      "source": [
        "# Define list of positive comments with emojis\n",
        "positive_comments = [\n",
        "    \"You're setting the bar high! Keep pushing boundaries! 💪🔥💡\",\n",
        "    \"This is absolutely brilliant! Thank you for sharing your insights! 👏\",\n",
        "    \"What a thoughtful analysis! I learned so much from this 🙌\",\n",
        "    \"Your perspective is refreshing and valuable! 😊 Thank you!\",\n",
        "    \"Amazing work! You've clearly put a lot of thought into this 👍\",\n",
        "    \"This comment made my day brighter! ☀️ Thank you!\",\n",
        "    \"I'm impressed by your knowledge and clarity of expression! 💯\",\n",
        "    \"Such a positive contribution to the discussion! 🌟\",\n",
        "    \"I appreciate your optimism and constructive feedback! 💖\",\n",
        "    \"Your ideas are innovative and inspiring! 🚀\",\n",
        "    \"Thank you for this well-articulated and helpful comment! 🙏\",\n",
        "    \"You've given me something new to consider, much appreciated! 💭\",\n",
        "    \"This is exactly the kind of positive dialogue we need! ✨\",\n",
        "    \"I value your perspective and the respectful way you share it! 🤝\",\n",
        "    \"What a delightful and insightful comment! 😄👍\",\n",
        "    \"You've brightened this thread with your kindness! 🌈\",\n",
        "    \"Such an eloquent and thoughtful contribution! 📚\",\n",
        "    \"Your comment shows real empathy and understanding! ❤️\",\n",
        "    \"I'm grateful for your positive energy and insights! 🌻\",\n",
        "    \"This is such a supportive and encouraging comment! 🌱\"\n",
        "]\n",
        "\n",
        "# Define list of ambiguous negative comments with emojis (sarcasm, mockery)\n",
        "ambiguous_insults = [\n",
        "    \"This is... cute. Like a toddler trying to do math. 😂\",\n",
        "    \"Bless your heart for thinking this was good. 🙄\",\n",
        "    \"Wow, groundbreaking stuff here. I can't believe no one thought of this before. 😴\",\n",
        "    \"Are you always this articulate or is today special? 😉\",\n",
        "    \"I'm impressed you managed to type that with your limited intellectual capacity. 🤯\",\n",
        "    \"Your logic is almost as flawless as your grammar. 👌\",\n",
        "    \"Thanks for sharing your 'expertise' with all of us. 🧠\",\n",
        "    \"Did you come up with that all by yourself? How adorable. 🥺\",\n",
        "    \"I can explain it to you, but I can't understand it for you. 😅\",\n",
        "    \"When I want your opinion, I'll give it to you. 😘\",\n",
        "    \"I'd agree with you, but then we'd both be wrong. 🤷‍♂️\",\n",
        "    \"Your argument has all the depth of a puddle. 💦\",\n",
        "    \"Who hurt you to make you think that was a good point? 💔\",\n",
        "    \"Nice opinion. Did you get it on sale? 🛒\",\n",
        "    \"You're about as sharp as a marble, aren't you? 🔮\",\n",
        "    \"I'm trying to see things from your perspective, but I can't get my head that far up. 🙃\",\n",
        "    \"If ignorance is bliss, you must be the happiest person alive. 😊\",\n",
        "    \"I don't have the time or crayons to explain this to you. 🖍️\",\n",
        "    \"Not sure if you're trying to be funny or if this is your actual personality. 🤔\",\n",
        "    \"Oh honey, thinking isn't your strong suit, is it? 💭\"\n",
        "]\n"
      ],
      "metadata": {
        "id": "8qrfyNHyMTif"
      },
      "execution_count": 24,
      "outputs": []
    },
    {
      "cell_type": "code",
      "source": [
        "# Create DataFrames for the new comments\n",
        "positive_df = pd.DataFrame({\n",
        "    'id': range(10000000, 10000000 + len(positive_comments)),\n",
        "    'comment_text': positive_comments,\n",
        "    'label': 'positive'\n",
        "})\n",
        "\n",
        "insult_aug_df = pd.DataFrame({\n",
        "    'id': range(20000000, 20000000 + len(ambiguous_insults)),\n",
        "    'comment_text': ambiguous_insults,\n",
        "    'label': 'insult'\n",
        "})\n",
        "\n",
        "# Combine the augmented data with the filtered dataset\n",
        "df_final = pd.concat([df_filtered, positive_df, insult_aug_df], ignore_index=True)\n",
        "\n",
        "# Check the final label distribution\n",
        "print(\"\\nFinal label distribution after augmentation:\")\n",
        "print(df_final['label'].value_counts())\n",
        "\n",
        "# Visualize the final label distribution\n",
        "plt.figure(figsize=(8, 5))\n",
        "df_final['label'].value_counts().plot(kind='bar', color=['#FF5555', '#5555FF', '#55FF55'])\n",
        "plt.title('Distribution of Labels After Augmentation')\n",
        "plt.xlabel('Label')\n",
        "plt.ylabel('Count')\n",
        "plt.xticks(rotation=0)\n",
        "plt.tight_layout()\n",
        "plt.show()"
      ],
      "metadata": {
        "colab": {
          "base_uri": "https://localhost:8080/",
          "height": 628
        },
        "id": "VDCeBVxiMzYI",
        "outputId": "4dc57b81-a5b2-4785-aa70-9ece84dee58c"
      },
      "execution_count": 25,
      "outputs": [
        {
          "output_type": "stream",
          "name": "stdout",
          "text": [
            "\n",
            "Final label distribution after augmentation:\n",
            "label\n",
            "insult      11324\n",
            "toxic       10769\n",
            "positive       20\n",
            "Name: count, dtype: int64\n"
          ]
        },
        {
          "output_type": "display_data",
          "data": {
            "text/plain": [
              "<Figure size 800x500 with 1 Axes>"
            ],
            "image/png": "[encoded data removed]"
          },
          "metadata": {}
        }
      ]
    },
    {
      "cell_type": "markdown",
      "source": [
        "***Observation:*** The dataset remains heavily imbalanced toward negative labels, with very few positive examples."
      ],
      "metadata": {
        "id": "D_Xdr3L1S2V9"
      }
    },
    {
      "cell_type": "code",
      "source": [
        "# Display examples of each category\n",
        "print(\"\\nExample from each category:\")\n",
        "for label in df_final['label'].unique():\n",
        "    print(f\"\\n{label.upper()} example:\")\n",
        "    display(df_final[df_final['label'] == label]['comment_text'].iloc[0])"
      ],
      "metadata": {
        "colab": {
          "base_uri": "https://localhost:8080/",
          "height": 230
        },
        "id": "mzizzeyANFsV",
        "outputId": "d170b829-7624-4c67-ecbb-aa36946fe2a4"
      },
      "execution_count": 26,
      "outputs": [
        {
          "output_type": "stream",
          "name": "stdout",
          "text": [
            "\n",
            "Example from each category:\n",
            "\n",
            "INSULT example:\n"
          ]
        },
        {
          "output_type": "display_data",
          "data": {
            "text/plain": [
              "'COCKSUCKER BEFORE YOU PISS AROUND ON MY WORK'"
            ],
            "application/vnd.google.colaboratory.intrinsic+json": {
              "type": "string"
            }
          },
          "metadata": {}
        },
        {
          "output_type": "stream",
          "name": "stdout",
          "text": [
            "\n",
            "TOXIC example:\n"
          ]
        },
        {
          "output_type": "display_data",
          "data": {
            "text/plain": [
              "'Hey... what is it..\\n@ | talk .\\nWhat is it... an exclusive group of some WP TALIBANS...who are good at destroying, self-appointed purist who GANG UP any one who asks them questions abt their ANTI-SOCIAL and DESTRUCTIVE (non)-contribution at WP?\\n\\nAsk Sityush to clean up his behavior than issue me nonsensical warnings...'"
            ],
            "application/vnd.google.colaboratory.intrinsic+json": {
              "type": "string"
            }
          },
          "metadata": {}
        },
        {
          "output_type": "stream",
          "name": "stdout",
          "text": [
            "\n",
            "POSITIVE example:\n"
          ]
        },
        {
          "output_type": "display_data",
          "data": {
            "text/plain": [
              "\"You're setting the bar high! Keep pushing boundaries! 💪🔥💡\""
            ],
            "application/vnd.google.colaboratory.intrinsic+json": {
              "type": "string"
            }
          },
          "metadata": {}
        }
      ]
    },
    {
      "cell_type": "markdown",
      "source": [
        "##**4. Feature Engineering**"
      ],
      "metadata": {
        "id": "Gv-0T4KFNIJG"
      }
    },
    {
      "cell_type": "markdown",
      "source": [
        "We design appropriate features to help the model identify toxic content, with special attention to emojis as required.\n"
      ],
      "metadata": {
        "id": "pF_xIAg_NPGd"
      }
    },
    {
      "cell_type": "code",
      "source": [
        "# Function to preprocess text: lowercasing, URL and HTML removal, and converting emojis to text\n",
        "def preprocess_text(text):\n",
        "    if isinstance(text, str):\n",
        "        text = text.lower()  # Normalize case\n",
        "        text = re.sub(r'https?://\\S+|www\\.\\S+', ' url ', text)  # Remove URLs\n",
        "        text = re.sub(r'<.*?>', '', text)  # Remove HTML tags\n",
        "        text = emoji.demojize(text)  # Convert emojis to their descriptions\n",
        "        return text\n",
        "    return \"\""
      ],
      "metadata": {
        "id": "3_AdaXqONNJN"
      },
      "execution_count": 27,
      "outputs": []
    },
    {
      "cell_type": "code",
      "source": [
        "# Apply preprocessing to all comments\n",
        "df_final['processed_text'] = df_final['comment_text'].apply(preprocess_text)"
      ],
      "metadata": {
        "id": "DhMsFCEbNYld"
      },
      "execution_count": 28,
      "outputs": []
    },
    {
      "cell_type": "code",
      "source": [
        "# Feature 1: Binary flag for presence of emojis in the original text\n",
        "def contains_emoji(text):\n",
        "    # Check if text is a string; if not, return 0\n",
        "    if not isinstance(text, str):\n",
        "        return 0\n",
        "    return 1 if emoji.emoji_count(text) > 0 else 0\n",
        "\n",
        "# Now apply the function safely\n",
        "df_final['has_emoji'] = df_final['comment_text'].apply(contains_emoji)\n"
      ],
      "metadata": {
        "id": "UC6EsxGdNcW2"
      },
      "execution_count": 29,
      "outputs": []
    },
    {
      "cell_type": "code",
      "source": [
        "# Feature 2: Count of special characters (e.g., punctuation that may indicate toxicity)\n",
        "def count_special_chars(text):\n",
        "    if isinstance(text, str):\n",
        "        return len(re.findall(r'[!?@#$%^&*()_+={}\\[\\]:;\"\\'|<>,.?/~`]', text))\n",
        "    return 0\n",
        "\n",
        "df_final['special_chars_count'] = df_final['comment_text'].apply(count_special_chars)\n"
      ],
      "metadata": {
        "id": "WvH7SWYvOL0H"
      },
      "execution_count": 30,
      "outputs": []
    },
    {
      "cell_type": "code",
      "source": [
        "# Feature 3: Count of uppercase words (which may indicate shouting)\n",
        "def count_uppercase_words(text):\n",
        "    if isinstance(text, str):\n",
        "        return len(re.findall(r'\\b[A-Z]{2,}\\b', text))\n",
        "    return 0\n",
        "\n",
        "df_final['uppercase_words_count'] = df_final['comment_text'].apply(count_uppercase_words)\n"
      ],
      "metadata": {
        "id": "ScGLJs47OOqI"
      },
      "execution_count": 31,
      "outputs": []
    },
    {
      "cell_type": "code",
      "source": [
        "# Feature 4: Sarcasm indicators (e.g., ellipses, multiple exclamation/question marks)\n",
        "def count_sarcasm_indicators(text):\n",
        "    if isinstance(text, str):\n",
        "        ellipsis_count = text.count(\"...\")\n",
        "        multiple_exclamation = len(re.findall(r'!{2,}', text))\n",
        "        question_exclamation = len(re.findall(r'\\?!|\\!\\?', text))\n",
        "        return ellipsis_count + multiple_exclamation + question_exclamation\n",
        "    return 0\n",
        "\n",
        "df_final['sarcasm_indicators'] = df_final['comment_text'].apply(count_sarcasm_indicators)\n"
      ],
      "metadata": {
        "id": "QYFffxbyOS7F"
      },
      "execution_count": 32,
      "outputs": []
    },
    {
      "cell_type": "code",
      "source": [
        "# Display a sample of the processed data with new features\n",
        "print(\"\\nSample of processed data with features:\")\n",
        "sample_data = df_final[['comment_text', 'processed_text', 'has_emoji',\n",
        "                        'special_chars_count', 'uppercase_words_count',\n",
        "                        'sarcasm_indicators', 'label']].sample(5)\n",
        "display(sample_data)"
      ],
      "metadata": {
        "colab": {
          "base_uri": "https://localhost:8080/",
          "height": 241
        },
        "id": "Z32FXC6HOT5w",
        "outputId": "4fb9fad9-1cb2-4bef-c49f-04595cd69dd7"
      },
      "execution_count": 33,
      "outputs": [
        {
          "output_type": "stream",
          "name": "stdout",
          "text": [
            "\n",
            "Sample of processed data with features:\n"
          ]
        },
        {
          "output_type": "display_data",
          "data": {
            "text/plain": [
              "                                            comment_text  \\\n",
              "4924   !!!!!!!!!!!! \\nWHO THE FVCK WROTE THIS ARTICLE...   \n",
              "16439  \" \\n\\n == Blofeld == \\n\\n Can you ask your fri...   \n",
              "5211   I'm going to be honest with you, I'm not going...   \n",
              "9089   I shall purge this web site of the weak! \\n\\nh...   \n",
              "17065  \" \\n ::::::Dammit, J.del, you know very well I...   \n",
              "\n",
              "                                          processed_text  has_emoji  \\\n",
              "4924   !!!!!!!!!!!! \\nwho the fvck wrote this article...          0   \n",
              "16439  \" \\n\\n == blofeld == \\n\\n can you ask your fri...          0   \n",
              "5211   i'm going to be honest with you, i'm not going...          0   \n",
              "9089   i shall purge this web site of the weak! \\n\\nh...          0   \n",
              "17065  \" \\n ::::::dammit, j.del, you know very well i...          0   \n",
              "\n",
              "       special_chars_count  uppercase_words_count  sarcasm_indicators   label  \n",
              "4924                    17                     17                   1  insult  \n",
              "16439                    9                      0                   0   toxic  \n",
              "5211                   112                      8                   0   toxic  \n",
              "9089                     1                      0                   0   toxic  \n",
              "17065                   17                      1                   1  insult  "
            ],
            "text/html": [
              "\n",
              "  <div id=\"df-86d6734c-2c78-464a-be5a-e8271baae6a5\" class=\"colab-df-container\">\n",
              "    <div>\n",
              "<style scoped>\n",
              "    .dataframe tbody tr th:only-of-type {\n",
              "        vertical-align: middle;\n",
              "    }\n",
              "\n",
              "    .dataframe tbody tr th {\n",
              "        vertical-align: top;\n",
              "    }\n",
              "\n",
              "    .dataframe thead th {\n",
              "        text-align: right;\n",
              "    }\n",
              "</style>\n",
              "<table border=\"1\" class=\"dataframe\">\n",
              "  <thead>\n",
              "    <tr style=\"text-align: right;\">\n",
              "      <th></th>\n",
              "      <th>comment_text</th>\n",
              "      <th>processed_text</th>\n",
              "      <th>has_emoji</th>\n",
              "      <th>special_chars_count</th>\n",
              "      <th>uppercase_words_count</th>\n",
              "      <th>sarcasm_indicators</th>\n",
              "      <th>label</th>\n",
              "    </tr>\n",
              "  </thead>\n",
              "  <tbody>\n",
              "    <tr>\n",
              "      <th>4924</th>\n",
              "      <td>!!!!!!!!!!!! \\nWHO THE FVCK WROTE THIS ARTICLE...</td>\n",
              "      <td>!!!!!!!!!!!! \\nwho the fvck wrote this article...</td>\n",
              "      <td>0</td>\n",
              "      <td>17</td>\n",
              "      <td>17</td>\n",
              "      <td>1</td>\n",
              "      <td>insult</td>\n",
              "    </tr>\n",
              "    <tr>\n",
              "      <th>16439</th>\n",
              "      <td>\" \\n\\n == Blofeld == \\n\\n Can you ask your fri...</td>\n",
              "      <td>\" \\n\\n == blofeld == \\n\\n can you ask your fri...</td>\n",
              "      <td>0</td>\n",
              "      <td>9</td>\n",
              "      <td>0</td>\n",
              "      <td>0</td>\n",
              "      <td>toxic</td>\n",
              "    </tr>\n",
              "    <tr>\n",
              "      <th>5211</th>\n",
              "      <td>I'm going to be honest with you, I'm not going...</td>\n",
              "      <td>i'm going to be honest with you, i'm not going...</td>\n",
              "      <td>0</td>\n",
              "      <td>112</td>\n",
              "      <td>8</td>\n",
              "      <td>0</td>\n",
              "      <td>toxic</td>\n",
              "    </tr>\n",
              "    <tr>\n",
              "      <th>9089</th>\n",
              "      <td>I shall purge this web site of the weak! \\n\\nh...</td>\n",
              "      <td>i shall purge this web site of the weak! \\n\\nh...</td>\n",
              "      <td>0</td>\n",
              "      <td>1</td>\n",
              "      <td>0</td>\n",
              "      <td>0</td>\n",
              "      <td>toxic</td>\n",
              "    </tr>\n",
              "    <tr>\n",
              "      <th>17065</th>\n",
              "      <td>\" \\n ::::::Dammit, J.del, you know very well I...</td>\n",
              "      <td>\" \\n ::::::dammit, j.del, you know very well i...</td>\n",
              "      <td>0</td>\n",
              "      <td>17</td>\n",
              "      <td>1</td>\n",
              "      <td>1</td>\n",
              "      <td>insult</td>\n",
              "    </tr>\n",
              "  </tbody>\n",
              "</table>\n",
              "</div>\n",
              "    <div class=\"colab-df-buttons\">\n",
              "\n",
              "  <div class=\"colab-df-container\">\n",
              "    <button class=\"colab-df-convert\" onclick=\"convertToInteractive('df-86d6734c-2c78-464a-be5a-e8271baae6a5')\"\n",
              "            title=\"Convert this dataframe to an interactive table.\"\n",
              "            style=\"display:none;\">\n",
              "\n",
              "  <svg xmlns=\"http://www.w3.org/2000/svg\" height=\"24px\" viewBox=\"0 -960 960 960\">\n",
              "    <path d=\"M120-120v-720h720v720H120Zm60-500h600v-160H180v160Zm220 220h160v-160H400v160Zm0 220h160v-160H400v160ZM180-400h160v-160H180v160Zm440 0h160v-160H620v160ZM180-180h160v-160H180v160Zm440 0h160v-160H620v160Z\"/>\n",
              "  </svg>\n",
              "    </button>\n",
              "\n",
              "  <style>\n",
              "    .colab-df-container {\n",
              "      display:flex;\n",
              "      gap: 12px;\n",
              "    }\n",
              "\n",
              "    .colab-df-convert {\n",
              "      background-color: #E8F0FE;\n",
              "      border: none;\n",
              "      border-radius: 50%;\n",
              "      cursor: pointer;\n",
              "      display: none;\n",
              "      fill: #1967D2;\n",
              "      height: 32px;\n",
              "      padding: 0 0 0 0;\n",
              "      width: 32px;\n",
              "    }\n",
              "\n",
              "    .colab-df-convert:hover {\n",
              "      background-color: #E2EBFA;\n",
              "      box-shadow: 0px 1px 2px rgba(60, 64, 67, 0.3), 0px 1px 3px 1px rgba(60, 64, 67, 0.15);\n",
              "      fill: #174EA6;\n",
              "    }\n",
              "\n",
              "    .colab-df-buttons div {\n",
              "      margin-bottom: 4px;\n",
              "    }\n",
              "\n",
              "    [theme=dark] .colab-df-convert {\n",
              "      background-color: #3B4455;\n",
              "      fill: #D2E3FC;\n",
              "    }\n",
              "\n",
              "    [theme=dark] .colab-df-convert:hover {\n",
              "      background-color: #434B5C;\n",
              "      box-shadow: 0px 1px 3px 1px rgba(0, 0, 0, 0.15);\n",
              "      filter: drop-shadow(0px 1px 2px rgba(0, 0, 0, 0.3));\n",
              "      fill: #FFFFFF;\n",
              "    }\n",
              "  </style>\n",
              "\n",
              "    <script>\n",
              "      const buttonEl =\n",
              "        document.querySelector('#df-86d6734c-2c78-464a-be5a-e8271baae6a5 button.colab-df-convert');\n",
              "      buttonEl.style.display =\n",
              "        google.colab.kernel.accessAllowed ? 'block' : 'none';\n",
              "\n",
              "      async function convertToInteractive(key) {\n",
              "        const element = document.querySelector('#df-86d6734c-2c78-464a-be5a-e8271baae6a5');\n",
              "        const dataTable =\n",
              "          await google.colab.kernel.invokeFunction('convertToInteractive',\n",
              "                                                    [key], {});\n",
              "        if (!dataTable) return;\n",
              "\n",
              "        const docLinkHtml = 'Like what you see? Visit the ' +\n",
              "          '<a target=\"_blank\" href=https://colab.research.google.com/notebooks/data_table.ipynb>data table notebook</a>'\n",
              "          + ' to learn more about interactive tables.';\n",
              "        element.innerHTML = '';\n",
              "        dataTable['output_type'] = 'display_data';\n",
              "        await google.colab.output.renderOutput(dataTable, element);\n",
              "        const docLink = document.createElement('div');\n",
              "        docLink.innerHTML = docLinkHtml;\n",
              "        element.appendChild(docLink);\n",
              "      }\n",
              "    </script>\n",
              "  </div>\n",
              "\n",
              "\n",
              "<div id=\"df-7f00656a-c6ef-45dd-b745-fd7f25e2a90a\">\n",
              "  <button class=\"colab-df-quickchart\" onclick=\"quickchart('df-7f00656a-c6ef-45dd-b745-fd7f25e2a90a')\"\n",
              "            title=\"Suggest charts\"\n",
              "            style=\"display:none;\">\n",
              "\n",
              "<svg xmlns=\"http://www.w3.org/2000/svg\" height=\"24px\"viewBox=\"0 0 24 24\"\n",
              "     width=\"24px\">\n",
              "    <g>\n",
              "        <path d=\"M19 3H5c-1.1 0-2 .9-2 2v14c0 1.1.9 2 2 2h14c1.1 0 2-.9 2-2V5c0-1.1-.9-2-2-2zM9 17H7v-7h2v7zm4 0h-2V7h2v10zm4 0h-2v-4h2v4z\"/>\n",
              "    </g>\n",
              "</svg>\n",
              "  </button>\n",
              "\n",
              "<style>\n",
              "  .colab-df-quickchart {\n",
              "      --bg-color: #E8F0FE;\n",
              "      --fill-color: #1967D2;\n",
              "      --hover-bg-color: #E2EBFA;\n",
              "      --hover-fill-color: #174EA6;\n",
              "      --disabled-fill-color: #AAA;\n",
              "      --disabled-bg-color: #DDD;\n",
              "  }\n",
              "\n",
              "  [theme=dark] .colab-df-quickchart {\n",
              "      --bg-color: #3B4455;\n",
              "      --fill-color: #D2E3FC;\n",
              "      --hover-bg-color: #434B5C;\n",
              "      --hover-fill-color: #FFFFFF;\n",
              "      --disabled-bg-color: #3B4455;\n",
              "      --disabled-fill-color: #666;\n",
              "  }\n",
              "\n",
              "  .colab-df-quickchart {\n",
              "    background-color: var(--bg-color);\n",
              "    border: none;\n",
              "    border-radius: 50%;\n",
              "    cursor: pointer;\n",
              "    display: none;\n",
              "    fill: var(--fill-color);\n",
              "    height: 32px;\n",
              "    padding: 0;\n",
              "    width: 32px;\n",
              "  }\n",
              "\n",
              "  .colab-df-quickchart:hover {\n",
              "    background-color: var(--hover-bg-color);\n",
              "    box-shadow: 0 1px 2px rgba(60, 64, 67, 0.3), 0 1px 3px 1px rgba(60, 64, 67, 0.15);\n",
              "    fill: var(--button-hover-fill-color);\n",
              "  }\n",
              "\n",
              "  .colab-df-quickchart-complete:disabled,\n",
              "  .colab-df-quickchart-complete:disabled:hover {\n",
              "    background-color: var(--disabled-bg-color);\n",
              "    fill: var(--disabled-fill-color);\n",
              "    box-shadow: none;\n",
              "  }\n",
              "\n",
              "  .colab-df-spinner {\n",
              "    border: 2px solid var(--fill-color);\n",
              "    border-color: transparent;\n",
              "    border-bottom-color: var(--fill-color);\n",
              "    animation:\n",
              "      spin 1s steps(1) infinite;\n",
              "  }\n",
              "\n",
              "  @keyframes spin {\n",
              "    0% {\n",
              "      border-color: transparent;\n",
              "      border-bottom-color: var(--fill-color);\n",
              "      border-left-color: var(--fill-color);\n",
              "    }\n",
              "    20% {\n",
              "      border-color: transparent;\n",
              "      border-left-color: var(--fill-color);\n",
              "      border-top-color: var(--fill-color);\n",
              "    }\n",
              "    30% {\n",
              "      border-color: transparent;\n",
              "      border-left-color: var(--fill-color);\n",
              "      border-top-color: var(--fill-color);\n",
              "      border-right-color: var(--fill-color);\n",
              "    }\n",
              "    40% {\n",
              "      border-color: transparent;\n",
              "      border-right-color: var(--fill-color);\n",
              "      border-top-color: var(--fill-color);\n",
              "    }\n",
              "    60% {\n",
              "      border-color: transparent;\n",
              "      border-right-color: var(--fill-color);\n",
              "    }\n",
              "    80% {\n",
              "      border-color: transparent;\n",
              "      border-right-color: var(--fill-color);\n",
              "      border-bottom-color: var(--fill-color);\n",
              "    }\n",
              "    90% {\n",
              "      border-color: transparent;\n",
              "      border-bottom-color: var(--fill-color);\n",
              "    }\n",
              "  }\n",
              "</style>\n",
              "\n",
              "  <script>\n",
              "    async function quickchart(key) {\n",
              "      const quickchartButtonEl =\n",
              "        document.querySelector('#' + key + ' button');\n",
              "      quickchartButtonEl.disabled = true;  // To prevent multiple clicks.\n",
              "      quickchartButtonEl.classList.add('colab-df-spinner');\n",
              "      try {\n",
              "        const charts = await google.colab.kernel.invokeFunction(\n",
              "            'suggestCharts', [key], {});\n",
              "      } catch (error) {\n",
              "        console.error('Error during call to suggestCharts:', error);\n",
              "      }\n",
              "      quickchartButtonEl.classList.remove('colab-df-spinner');\n",
              "      quickchartButtonEl.classList.add('colab-df-quickchart-complete');\n",
              "    }\n",
              "    (() => {\n",
              "      let quickchartButtonEl =\n",
              "        document.querySelector('#df-7f00656a-c6ef-45dd-b745-fd7f25e2a90a button');\n",
              "      quickchartButtonEl.style.display =\n",
              "        google.colab.kernel.accessAllowed ? 'block' : 'none';\n",
              "    })();\n",
              "  </script>\n",
              "</div>\n",
              "\n",
              "  <div id=\"id_863d246b-e015-4caa-a838-29b5c815b7ba\">\n",
              "    <style>\n",
              "      .colab-df-generate {\n",
              "        background-color: #E8F0FE;\n",
              "        border: none;\n",
              "        border-radius: 50%;\n",
              "        cursor: pointer;\n",
              "        display: none;\n",
              "        fill: #1967D2;\n",
              "        height: 32px;\n",
              "        padding: 0 0 0 0;\n",
              "        width: 32px;\n",
              "      }\n",
              "\n",
              "      .colab-df-generate:hover {\n",
              "        background-color: #E2EBFA;\n",
              "        box-shadow: 0px 1px 2px rgba(60, 64, 67, 0.3), 0px 1px 3px 1px rgba(60, 64, 67, 0.15);\n",
              "        fill: #174EA6;\n",
              "      }\n",
              "\n",
              "      [theme=dark] .colab-df-generate {\n",
              "        background-color: #3B4455;\n",
              "        fill: #D2E3FC;\n",
              "      }\n",
              "\n",
              "      [theme=dark] .colab-df-generate:hover {\n",
              "        background-color: #434B5C;\n",
              "        box-shadow: 0px 1px 3px 1px rgba(0, 0, 0, 0.15);\n",
              "        filter: drop-shadow(0px 1px 2px rgba(0, 0, 0, 0.3));\n",
              "        fill: #FFFFFF;\n",
              "      }\n",
              "    </style>\n",
              "    <button class=\"colab-df-generate\" onclick=\"generateWithVariable('sample_data')\"\n",
              "            title=\"Generate code using this dataframe.\"\n",
              "            style=\"display:none;\">\n",
              "\n",
              "  <svg xmlns=\"http://www.w3.org/2000/svg\" height=\"24px\"viewBox=\"0 0 24 24\"\n",
              "       width=\"24px\">\n",
              "    <path d=\"M7,19H8.4L18.45,9,17,7.55,7,17.6ZM5,21V16.75L18.45,3.32a2,2,0,0,1,2.83,0l1.4,1.43a1.91,1.91,0,0,1,.58,1.4,1.91,1.91,0,0,1-.58,1.4L9.25,21ZM18.45,9,17,7.55Zm-12,3A5.31,5.31,0,0,0,4.9,8.1,5.31,5.31,0,0,0,1,6.5,5.31,5.31,0,0,0,4.9,4.9,5.31,5.31,0,0,0,6.5,1,5.31,5.31,0,0,0,8.1,4.9,5.31,5.31,0,0,0,12,6.5,5.46,5.46,0,0,0,6.5,12Z\"/>\n",
              "  </svg>\n",
              "    </button>\n",
              "    <script>\n",
              "      (() => {\n",
              "      const buttonEl =\n",
              "        document.querySelector('#id_863d246b-e015-4caa-a838-29b5c815b7ba button.colab-df-generate');\n",
              "      buttonEl.style.display =\n",
              "        google.colab.kernel.accessAllowed ? 'block' : 'none';\n",
              "\n",
              "      buttonEl.onclick = () => {\n",
              "        google.colab.notebook.generateWithVariable('sample_data');\n",
              "      }\n",
              "      })();\n",
              "    </script>\n",
              "  </div>\n",
              "\n",
              "    </div>\n",
              "  </div>\n"
            ],
            "application/vnd.google.colaboratory.intrinsic+json": {
              "type": "dataframe",
              "variable_name": "sample_data",
              "summary": "{\n  \"name\": \"sample_data\",\n  \"rows\": 5,\n  \"fields\": [\n    {\n      \"column\": \"comment_text\",\n      \"properties\": {\n        \"dtype\": \"string\",\n        \"num_unique_values\": 5,\n        \"samples\": [\n          \"\\\" \\n\\n == Blofeld == \\n\\n Can you ask your friend not to post his shit on 's talk? Thanks.  \\\"\",\n          \"\\\" \\n ::::::Dammit, J.del, you know very well I can't see U-tube from my PC... Bastard.  !   \\\"\",\n          \"I'm going to be honest with you, I'm not going to pass your articles as GA, because frankly, they suck. But that doesn't mean an agreement can't be reached upon where your articles could still potentially reach GA.\\n\\nFirst thing you need to know, is that Good Article status is a crock of shit. The criteria for it is a fair model, and it is not the problem. The problem is that it is not governed by a committee. Any bozo, like yourself, is allowed to review an article and ultimately decide if the article, in their mind, merits inclusion into CGD (Club Green Dot). The bar sits firmly in the mud. Snakes slither across it. My articles, on the other hand, never have enjoyed the benefits of exception. With extreme prejudice, they have been held to the highest possible standard set by the criteria.\\n\\nNow we get to your GA review of Howling Bells, which I would like a full explanation for. That's one of the agreements that I have set forth, in order for you to avoid failure of your articles, by me. You can decide if you would like to abide by this resolution or not. Tell me something, are you on drugs, prescription or otherwise? If that offends you I apologize, but your review made me think of three things. Either somebody took a shit on your face and you couldn't see through it, you had a big D in your ass, or you were in a state of incoherence brought on by substance abuse. I must confess, I'm ashamed that I'm even having to talk to some punk ass high school kid who listens to crappy music. Not that I feel that I hold a higher place in this world than you, because Lord knows that's not the case. It's just that, I'm sittin' here having to deal with some goddamn little kid over the computer. Even at your age, I know you understand where I'm coming from.\\n\\nThere's not much of a reward getting an article to GA status, aside from that dot. A small part of me would like to see the article at GA, but it really doesn't concern me a whole lot whether it gets there or not. Howling Bells is at GA and that's basically good enough for me. As far as Halfway Gone goes, at this point, it's outta my hands. You're just gonna have to accept the fact the article could possibly be de-listed. Consider that your penalty for fuckin' around with other people's hard work.\\n\\nOk, so there are two agreements I have come up with that I think are very acceptable.\\n\\nA full explanation of your GA review of Howling Bells (album). I'll guide you through it on the review page. If you decide to play ball, good on ya.\\nYou must say the following to me, here on my talk page: I, , am just a punk ass teenager, who loves Justin Beiber, loves the crappy music of Justin Beiber, and loves crappy music from many other crappy artists.\\nThe font has to be huge too, none of this small crap. Also, see if you can do it in some kind of color, that would be cool.\\n\\nNow, I will not pass your articles if you agree to this, but I will not fail them. Instead, I will explain on the review pages that any reviewing of the articles that I have done up until this point should be disregarded. My reasoning will be because of my inexperience as a first time reviewer has led me to realize that I am not capable for such a task. I will wash my hands of the articles, take them off hold, and request that another editor undertake the review. If you are unwilling to accept these agreements, than you leave me no other choice but to expeditiously fail the articles. Let me know what you wanna do kid.  (meow)\"\n        ],\n        \"semantic_type\": \"\",\n        \"description\": \"\"\n      }\n    },\n    {\n      \"column\": \"processed_text\",\n      \"properties\": {\n        \"dtype\": \"string\",\n        \"num_unique_values\": 5,\n        \"samples\": [\n          \"\\\" \\n\\n == blofeld == \\n\\n can you ask your friend not to post his shit on 's talk? thanks.  \\\"\",\n          \"\\\" \\n ::::::dammit, j.del, you know very well i can't see u-tube from my pc... bastard.  !   \\\"\",\n          \"i'm going to be honest with you, i'm not going to pass your articles as ga, because frankly, they suck. but that doesn't mean an agreement can't be reached upon where your articles could still potentially reach ga.\\n\\nfirst thing you need to know, is that good article status is a crock of shit. the criteria for it is a fair model, and it is not the problem. the problem is that it is not governed by a committee. any bozo, like yourself, is allowed to review an article and ultimately decide if the article, in their mind, merits inclusion into cgd (club green dot). the bar sits firmly in the mud. snakes slither across it. my articles, on the other hand, never have enjoyed the benefits of exception. with extreme prejudice, they have been held to the highest possible standard set by the criteria.\\n\\nnow we get to your ga review of howling bells, which i would like a full explanation for. that's one of the agreements that i have set forth, in order for you to avoid failure of your articles, by me. you can decide if you would like to abide by this resolution or not. tell me something, are you on drugs, prescription or otherwise? if that offends you i apologize, but your review made me think of three things. either somebody took a shit on your face and you couldn't see through it, you had a big d in your ass, or you were in a state of incoherence brought on by substance abuse. i must confess, i'm ashamed that i'm even having to talk to some punk ass high school kid who listens to crappy music. not that i feel that i hold a higher place in this world than you, because lord knows that's not the case. it's just that, i'm sittin' here having to deal with some goddamn little kid over the computer. even at your age, i know you understand where i'm coming from.\\n\\nthere's not much of a reward getting an article to ga status, aside from that dot. a small part of me would like to see the article at ga, but it really doesn't concern me a whole lot whether it gets there or not. howling bells is at ga and that's basically good enough for me. as far as halfway gone goes, at this point, it's outta my hands. you're just gonna have to accept the fact the article could possibly be de-listed. consider that your penalty for fuckin' around with other people's hard work.\\n\\nok, so there are two agreements i have come up with that i think are very acceptable.\\n\\na full explanation of your ga review of howling bells (album). i'll guide you through it on the review page. if you decide to play ball, good on ya.\\nyou must say the following to me, here on my talk page: i, , am just a punk ass teenager, who loves justin beiber, loves the crappy music of justin beiber, and loves crappy music from many other crappy artists.\\nthe font has to be huge too, none of this small crap. also, see if you can do it in some kind of color, that would be cool.\\n\\nnow, i will not pass your articles if you agree to this, but i will not fail them. instead, i will explain on the review pages that any reviewing of the articles that i have done up until this point should be disregarded. my reasoning will be because of my inexperience as a first time reviewer has led me to realize that i am not capable for such a task. i will wash my hands of the articles, take them off hold, and request that another editor undertake the review. if you are unwilling to accept these agreements, than you leave me no other choice but to expeditiously fail the articles. let me know what you wanna do kid.  (meow)\"\n        ],\n        \"semantic_type\": \"\",\n        \"description\": \"\"\n      }\n    },\n    {\n      \"column\": \"has_emoji\",\n      \"properties\": {\n        \"dtype\": \"number\",\n        \"std\": 0,\n        \"min\": 0,\n        \"max\": 0,\n        \"num_unique_values\": 1,\n        \"samples\": [\n          0\n        ],\n        \"semantic_type\": \"\",\n        \"description\": \"\"\n      }\n    },\n    {\n      \"column\": \"special_chars_count\",\n      \"properties\": {\n        \"dtype\": \"number\",\n        \"std\": 45,\n        \"min\": 1,\n        \"max\": 112,\n        \"num_unique_values\": 4,\n        \"samples\": [\n          9\n        ],\n        \"semantic_type\": \"\",\n        \"description\": \"\"\n      }\n    },\n    {\n      \"column\": \"uppercase_words_count\",\n      \"properties\": {\n        \"dtype\": \"number\",\n        \"std\": 7,\n        \"min\": 0,\n        \"max\": 17,\n        \"num_unique_values\": 4,\n        \"samples\": [\n          0\n        ],\n        \"semantic_type\": \"\",\n        \"description\": \"\"\n      }\n    },\n    {\n      \"column\": \"sarcasm_indicators\",\n      \"properties\": {\n        \"dtype\": \"number\",\n        \"std\": 0,\n        \"min\": 0,\n        \"max\": 1,\n        \"num_unique_values\": 2,\n        \"samples\": [\n          0\n        ],\n        \"semantic_type\": \"\",\n        \"description\": \"\"\n      }\n    },\n    {\n      \"column\": \"label\",\n      \"properties\": {\n        \"dtype\": \"category\",\n        \"num_unique_values\": 2,\n        \"samples\": [\n          \"toxic\"\n        ],\n        \"semantic_type\": \"\",\n        \"description\": \"\"\n      }\n    }\n  ]\n}"
            }
          },
          "metadata": {}
        }
      ]
    },
    {
      "cell_type": "markdown",
      "source": [
        "##**5. Data Splitting and Feature Extraction**\n",
        "\n",
        "We prepare our dataset for model training by splitting it into training and test sets  \n",
        "and extracting TF-IDF features from the preprocessed text.\n"
      ],
      "metadata": {
        "id": "2OmmgPNROpxm"
      }
    },
    {
      "cell_type": "code",
      "source": [
        "# 5. Data Splitting\n",
        "features = ['processed_text', 'has_emoji', 'special_chars_count', 'uppercase_words_count', 'sarcasm_indicators']\n",
        "X = df_final[features]\n",
        "y = df_final['label']\n",
        "\n",
        "# Split the data into training and testing sets with stratification by label\n",
        "X_train, X_test, y_train, y_test = train_test_split(X, y, test_size=0.2, random_state=42, stratify=y)\n",
        "print(\"\\nTraining set shape:\", X_train.shape)\n",
        "print(\"Testing set shape:\", X_test.shape)\n",
        "\n",
        "# 6. TF-IDF Vectorization for Text Data\n",
        "print(\"\\nExtracting TF-IDF features from text...\")\n",
        "tfidf = TfidfVectorizer(\n",
        "    min_df=5,\n",
        "    max_df=0.8,\n",
        "    sublinear_tf=True,\n",
        "    use_idf=True,\n",
        "    ngram_range=(1, 2),\n",
        "    stop_words='english',\n",
        "    max_features=50000,\n",
        "    strip_accents='unicode'\n",
        ")\n",
        "\n",
        "# Fit the TF-IDF vectorizer on the training set and transform both training and test sets\n",
        "X_train_tfidf = tfidf.fit_transform(X_train['processed_text'])\n",
        "X_test_tfidf = tfidf.transform(X_test['processed_text'])\n",
        "print(f\"TF-IDF feature matrix shape: {X_train_tfidf.shape}\")\n",
        "\n",
        "# Combine TF-IDF features with the additional engineered features\n",
        "X_train_other = X_train[['has_emoji', 'special_chars_count', 'uppercase_words_count', 'sarcasm_indicators']].values\n",
        "X_test_other = X_test[['has_emoji', 'special_chars_count', 'uppercase_words_count', 'sarcasm_indicators']].values\n",
        "\n",
        "X_train_combined = np.hstack((X_train_tfidf.toarray(), X_train_other))\n",
        "X_test_combined = np.hstack((X_test_tfidf.toarray(), X_test_other))\n",
        "print(\"Combined feature matrix shape:\", X_train_combined.shape)\n"
      ],
      "metadata": {
        "colab": {
          "base_uri": "https://localhost:8080/"
        },
        "id": "guNGCzb-Oo1d",
        "outputId": "918718b8-4de5-4324-fd84-6fc26e698627"
      },
      "execution_count": 34,
      "outputs": [
        {
          "output_type": "stream",
          "name": "stdout",
          "text": [
            "\n",
            "Training set shape: (17690, 5)\n",
            "Testing set shape: (4423, 5)\n",
            "\n",
            "Extracting TF-IDF features from text...\n",
            "TF-IDF feature matrix shape: (17690, 10367)\n",
            "Combined feature matrix shape: (17690, 10371)\n"
          ]
        }
      ]
    },
    {
      "cell_type": "markdown",
      "source": [
        "### Key Insights from Data Splitting and Feature Extraction\n",
        "\n",
        "- **Training Set:** 17,690 samples with 5 initial features; **Testing Set:** 4,423 samples with 5 features.\n",
        "- **TF-IDF Features:** The text data is transformed into 10,367 features, showing a large vocabulary.\n",
        "- **Combined Features:** When adding 4 extra engineered features (emoji, special characters, uppercase words, sarcasm indicators), the final feature matrix for training has 10,371 features.\n",
        "\n",
        "***Observation:*** The majority of the information is captured in the TF-IDF features, while the additional features provide complementary signals.\n"
      ],
      "metadata": {
        "id": "KkwR2OS6TSaD"
      }
    },
    {
      "cell_type": "markdown",
      "source": [
        "##**6. Handling Class Imbalance**\n",
        "\n",
        "We use random oversampling to address class imbalance in the training set.\n"
      ],
      "metadata": {
        "id": "2aMMBhh1Ov4M"
      }
    },
    {
      "cell_type": "code",
      "source": [
        "# 8. Handling Class Imbalance via Oversampling\n",
        "print(\"\\nOriginal training label distribution:\")\n",
        "print(y_train.value_counts())\n",
        "\n",
        "ros = RandomOverSampler(random_state=42)\n",
        "X_train_resampled, y_train_resampled = ros.fit_resample(X_train_combined, y_train)\n",
        "\n",
        "print(\"\\nTraining label distribution after oversampling:\")\n",
        "print(pd.Series(y_train_resampled).value_counts())\n"
      ],
      "metadata": {
        "colab": {
          "base_uri": "https://localhost:8080/"
        },
        "id": "afVFLwdtOt5I",
        "outputId": "58f115dc-6b81-427a-92f7-f6a88197e5dd"
      },
      "execution_count": 35,
      "outputs": [
        {
          "output_type": "stream",
          "name": "stdout",
          "text": [
            "\n",
            "Original training label distribution:\n",
            "label\n",
            "insult      9059\n",
            "toxic       8615\n",
            "positive      16\n",
            "Name: count, dtype: int64\n",
            "\n",
            "Training label distribution after oversampling:\n",
            "label\n",
            "insult      9059\n",
            "toxic       9059\n",
            "positive    9059\n",
            "Name: count, dtype: int64\n"
          ]
        }
      ]
    },
    {
      "cell_type": "markdown",
      "source": [
        "### **Key Insights from Label Distribution and Oversampling**\n",
        "\n",
        "- **Original Training Label Distribution:**\n",
        "  - **Imbalance:** \"Insult\" (9,059) and \"Toxic\" (8,615) are significantly more frequent than \"Positive\" (16), making the dataset highly imbalanced.\n",
        "  \n",
        "- **After Oversampling:**\n",
        "  - **Balanced Dataset:** Each label now has 9,059 samples, ensuring equal representation for better model learning.\n",
        "  - **Impact:** This prevents bias toward majority classes and helps the model generalize better across all labels.\n",
        "\n",
        "***Observation:*** Oversampling addresses class imbalance but may introduce redundancy in the data.\n"
      ],
      "metadata": {
        "id": "lWJ2TvtPTmhj"
      }
    },
    {
      "cell_type": "code",
      "source": [
        "# Visualize the effect of oversampling\n",
        "plt.figure(figsize=(10, 5))\n",
        "\n",
        "plt.subplot(1, 2, 1)\n",
        "y_train.value_counts().plot(kind='bar', color=['#FF5555', '#5555FF', '#55FF55'])\n",
        "plt.title('Before Oversampling')\n",
        "plt.xlabel('Label')\n",
        "plt.ylabel('Count')\n",
        "plt.xticks(rotation=0)\n",
        "\n",
        "plt.subplot(1, 2, 2)\n",
        "pd.Series(y_train_resampled).value_counts().plot(kind='bar', color=['#FF5555', '#5555FF', '#55FF55'])\n",
        "plt.title('After Oversampling')\n",
        "plt.xlabel('Label')\n",
        "plt.ylabel('Count')\n",
        "plt.xticks(rotation=0)\n",
        "\n",
        "plt.tight_layout()\n",
        "plt.show()\n"
      ],
      "metadata": {
        "colab": {
          "base_uri": "https://localhost:8080/",
          "height": 507
        },
        "id": "eW8vmLuQO4TQ",
        "outputId": "d898f601-50d3-4ba7-f308-0adfcdde177c"
      },
      "execution_count": 36,
      "outputs": [
        {
          "output_type": "display_data",
          "data": {
            "text/plain": [
              "<Figure size 1000x500 with 2 Axes>"
            ],
            "image/png": "[encoded data removed]"
          },
          "metadata": {}
        }
      ]
    },
    {
      "cell_type": "markdown",
      "source": [
        "##**7. Model Training**\n",
        "\n",
        "We train a Logistic Regression model using the resampled training data.\n"
      ],
      "metadata": {
        "id": "Kr85G5QUO6lN"
      }
    },
    {
      "cell_type": "code",
      "source": [
        "# 9. Model Training with Logistic Regression\n",
        "print(\"\\nTraining Logistic Regression model...\")\n",
        "start_time = time.time()\n",
        "\n",
        "model = LogisticRegression(\n",
        "    C=5.0,\n",
        "    max_iter=1000,\n",
        "    solver='liblinear',\n",
        "    class_weight='balanced',\n",
        "    random_state=42,\n",
        "    n_jobs=-1\n",
        ")\n",
        "\n",
        "model.fit(X_train_resampled, y_train_resampled)\n",
        "training_time = time.time() - start_time\n",
        "print(f\"Model trained in {training_time:.2f} seconds\")\n"
      ],
      "metadata": {
        "colab": {
          "base_uri": "https://localhost:8080/"
        },
        "id": "Gbu8ahRMO9i0",
        "outputId": "c3524824-a6a5-42fd-9a02-f3bc48532b97"
      },
      "execution_count": 37,
      "outputs": [
        {
          "output_type": "stream",
          "name": "stdout",
          "text": [
            "\n",
            "Training Logistic Regression model...\n"
          ]
        },
        {
          "output_type": "stream",
          "name": "stderr",
          "text": [
            "/usr/local/lib/python3.11/dist-packages/sklearn/linear_model/_logistic.py:1271: UserWarning: 'n_jobs' > 1 does not have any effect when 'solver' is set to 'liblinear'. Got 'n_jobs' = 2.\n",
            "  warnings.warn(\n"
          ]
        },
        {
          "output_type": "stream",
          "name": "stdout",
          "text": [
            "Model trained in 4.49 seconds\n"
          ]
        }
      ]
    },
    {
      "cell_type": "markdown",
      "source": [
        "##**8. Model Evaluation**\n",
        "\n",
        "We evaluate the model using classification metrics and visualizations, including a ROC curve.\n"
      ],
      "metadata": {
        "id": "BDVjNO7BPBm-"
      }
    },
    {
      "cell_type": "code",
      "source": [
        "# 10. Model Evaluation\n",
        "print(\"\\nEvaluating model performance...\")\n",
        "y_pred = model.predict(X_test_combined)\n",
        "y_pred_proba = model.predict_proba(X_test_combined)\n",
        "\n",
        "print(\"\\nClassification Report:\")\n",
        "report = classification_report(y_test, y_pred)\n",
        "print(report)"
      ],
      "metadata": {
        "colab": {
          "base_uri": "https://localhost:8080/"
        },
        "id": "mN0lpyVvPA8N",
        "outputId": "999a01ed-0186-405b-dc44-b68141845dc1"
      },
      "execution_count": 38,
      "outputs": [
        {
          "output_type": "stream",
          "name": "stdout",
          "text": [
            "\n",
            "Evaluating model performance...\n",
            "\n",
            "Classification Report:\n",
            "              precision    recall  f1-score   support\n",
            "\n",
            "      insult       0.72      0.68      0.70      2265\n",
            "    positive       0.40      1.00      0.57         4\n",
            "       toxic       0.68      0.72      0.70      2154\n",
            "\n",
            "    accuracy                           0.70      4423\n",
            "   macro avg       0.60      0.80      0.66      4423\n",
            "weighted avg       0.70      0.70      0.70      4423\n",
            "\n"
          ]
        }
      ]
    },
    {
      "cell_type": "markdown",
      "source": [
        "### Model Performance Evaluation\n",
        "\n",
        "- **Overall Accuracy:** **70%** on the test set.\n",
        "- **Class-wise Performance:**\n",
        "  - **Insult:** Precision (**72%**), Recall (**68%**), F1-score (**70%**).\n",
        "  - **Toxic:** Precision (**68%**), Recall (**72%**), F1-score (**70%**).\n",
        "  - **Positive:** Precision (**40%**), but Recall (**100%**) due to very few samples (only 4).\n",
        "- **Macro Average:** Favors class balance but is affected by the \"Positive\" class having very few samples.\n",
        "- **Weighted Average:** Reflects performance across all labels, aligning closely with accuracy.\n",
        "\n",
        "***Observation:*** The model performs well on \"Insult\" and \"Toxic\" but struggles with the \"Positive\" class due to extreme imbalance.\n"
      ],
      "metadata": {
        "id": "cEiYEoE1T9vr"
      }
    },
    {
      "cell_type": "code",
      "source": [
        "# Confusion Matrix Visualization\n",
        "conf_matrix = confusion_matrix(y_test, y_pred)\n",
        "plt.figure(figsize=(10, 8))\n",
        "sns.heatmap(conf_matrix, annot=True, fmt='d', cmap='Blues',\n",
        "            xticklabels=model.classes_, yticklabels=model.classes_)\n",
        "plt.xlabel('Predicted Label')\n",
        "plt.ylabel('Actual Label')\n",
        "plt.title('Confusion Matrix')\n",
        "plt.show()\n",
        "\n",
        "accuracy = accuracy_score(y_test, y_pred)\n",
        "precision = precision_score(y_test, y_pred, average='weighted', zero_division=0)\n",
        "recall = recall_score(y_test, y_pred, average='weighted', zero_division=0)\n",
        "f1 = f1_score(y_test, y_pred, average='weighted', zero_division=0)\n",
        "\n",
        "print(f\"Overall Accuracy: {accuracy:.4f}\")\n",
        "print(f\"Overall Precision: {precision:.4f}\")\n",
        "print(f\"Overall Recall: {recall:.4f}\")\n",
        "print(f\"Overall F1 Score: {f1:.4f}\")"
      ],
      "metadata": {
        "colab": {
          "base_uri": "https://localhost:8080/",
          "height": 787
        },
        "id": "rSKEez4kPMJ4",
        "outputId": "ab487f88-4efa-4eb2-e8be-fa56b51f734d"
      },
      "execution_count": 39,
      "outputs": [
        {
          "output_type": "display_data",
          "data": {
            "text/plain": [
              "<Figure size 1000x800 with 2 Axes>"
            ],
            "image/png": "[encoded data removed]"
          },
          "metadata": {}
        },
        {
          "output_type": "stream",
          "name": "stdout",
          "text": [
            "Overall Accuracy: 0.7004\n",
            "Overall Precision: 0.7019\n",
            "Overall Recall: 0.7004\n",
            "Overall F1 Score: 0.7005\n"
          ]
        }
      ]
    },
    {
      "cell_type": "markdown",
      "source": [
        "##**9. Feature Importance Analysis**\n",
        "\n",
        "We analyze which features are most important for classifying each category.\n"
      ],
      "metadata": {
        "id": "h83lIKpCPjiU"
      }
    },
    {
      "cell_type": "code",
      "source": [
        "# 11. Feature Importance Analysis\n",
        "print(\"\\nAnalyzing feature importance for each class...\")\n",
        "feature_names = tfidf.get_feature_names_out().tolist() + ['has_emoji', 'special_chars_count', 'uppercase_words_count', 'sarcasm_indicators']\n",
        "\n",
        "coef_dict = {}\n",
        "for idx, class_label in enumerate(model.classes_):\n",
        "    coef_dict[class_label] = model.coef_[idx]\n",
        "\n",
        "def display_top_features(class_label, coefficients, feature_names, top_n=15):\n",
        "    top_positive_indices = np.argsort(coefficients)[-top_n:]\n",
        "    top_negative_indices = np.argsort(coefficients)[:top_n]\n",
        "\n",
        "    print(f\"\\nTop {top_n} features for class '{class_label}':\")\n",
        "    for idx in reversed(top_positive_indices):\n",
        "        print(f\"{feature_names[idx]}: {coefficients[idx]:.4f}\")\n",
        "\n",
        "    print(f\"\\nBottom {top_n} features for class '{class_label}':\")\n",
        "    for idx in top_negative_indices:\n",
        "        print(f\"{feature_names[idx]}: {coefficients[idx]:.4f}\")\n",
        "\n",
        "for class_label, coefficients in coef_dict.items():\n",
        "    display_top_features(class_label, coefficients, feature_names)\n"
      ],
      "metadata": {
        "colab": {
          "base_uri": "https://localhost:8080/"
        },
        "id": "op_A65CUPiid",
        "outputId": "225d561f-ad04-425f-adf3-582766a33bc9"
      },
      "execution_count": 40,
      "outputs": [
        {
          "output_type": "stream",
          "name": "stdout",
          "text": [
            "\n",
            "Analyzing feature importance for each class...\n",
            "\n",
            "Top 15 features for class 'insult':\n",
            "bitch: 10.1679\n",
            "idiot: 9.9226\n",
            "asshole: 8.1611\n",
            "idiots: 7.6028\n",
            "faggot: 7.3478\n",
            "stupid: 6.8179\n",
            "bastard: 6.3119\n",
            "motherfucker: 5.9778\n",
            "dumbass: 5.6560\n",
            "moron: 5.6466\n",
            "assholes: 5.5408\n",
            "dumb: 5.4998\n",
            "bastards: 5.4473\n",
            "whore: 5.3245\n",
            "fucking: 5.2533\n",
            "\n",
            "Bottom 15 features for class 'insult':\n",
            "thoughtful: -4.5107\n",
            "sheep: -4.1508\n",
            "positive: -3.9737\n",
            "rocket: -3.9116\n",
            "amazing: -3.9076\n",
            "jason: -3.8433\n",
            "trout: -3.7419\n",
            "perspective: -3.6364\n",
            "feedback: -3.6338\n",
            "comment: -3.6188\n",
            "mouth shut: -3.3737\n",
            "blud: -3.3139\n",
            "bang: -3.2806\n",
            "sex: -2.9195\n",
            "taking: -2.9092\n",
            "\n",
            "Top 15 features for class 'positive':\n",
            "has_emoji: 9.3532\n",
            "comment: 4.6104\n",
            "thank: 4.5065\n",
            "positive: 3.6317\n",
            "thoughtful: 3.5879\n",
            "setting: 3.2069\n",
            "rocket: 3.0625\n",
            "expression: 3.0395\n",
            "perspective: 2.8870\n",
            "impressed: 2.8509\n",
            "bar: 2.8014\n",
            "feedback: 2.6979\n",
            "amazing: 2.6944\n",
            "grateful: 2.6661\n",
            "contribution: 2.6432\n",
            "\n",
            "Bottom 15 features for class 'positive':\n",
            "trade_mark: -5.3855\n",
            "copyright: -3.3413\n",
            "fuck: -2.0251\n",
            "depth: -1.9185\n",
            "opinion: -1.8736\n",
            "grammar: -1.7782\n",
            "logic: -1.6639\n",
            "uppercase_words_count: -1.6440\n",
            "argument: -1.4977\n",
            "did: -1.3718\n",
            "vandalised: -1.3637\n",
            "fucking gay: -1.3423\n",
            "alive: -1.3195\n",
            "make think: -1.3111\n",
            "lil: -1.2607\n",
            "\n",
            "Top 15 features for class 'toxic':\n",
            "trade_mark: 8.1409\n",
            "sheep: 4.2959\n",
            "jason: 4.0263\n",
            "trout: 3.7755\n",
            "blud: 3.3634\n",
            "mouth shut: 3.3382\n",
            "bang: 3.2977\n",
            "19: 3.1789\n",
            "unblocked: 2.9950\n",
            "sex: 2.9681\n",
            "taking: 2.9135\n",
            "50: 2.8434\n",
            "atheism: 2.8021\n",
            "blood: 2.7876\n",
            "life stop: 2.7839\n",
            "\n",
            "Bottom 15 features for class 'toxic':\n",
            "bitch: -10.0682\n",
            "idiot: -9.7394\n",
            "asshole: -8.0107\n",
            "idiots: -7.6285\n",
            "faggot: -7.2339\n",
            "stupid: -6.5456\n",
            "bastard: -6.3339\n",
            "motherfucker: -5.8627\n",
            "moron: -5.6143\n",
            "bastards: -5.5888\n",
            "dumbass: -5.5313\n",
            "whore: -5.3168\n",
            "dumb: -5.3030\n",
            "assholes: -5.3000\n",
            "fucking: -5.1890\n"
          ]
        }
      ]
    },
    {
      "cell_type": "code",
      "source": [
        "# Visualize top features for each class\n",
        "for class_label, coefficients in coef_dict.items():\n",
        "    top_indices = np.argsort(coefficients)[-10:]\n",
        "    top_features = [feature_names[i] for i in top_indices]\n",
        "    top_coefficients = [coefficients[i] for i in top_indices]\n",
        "\n",
        "    plt.figure(figsize=(10, 6))\n",
        "    plt.barh(range(len(top_features)), top_coefficients, align='center')\n",
        "    plt.yticks(range(len(top_features)), top_features)\n",
        "    plt.xlabel('Coefficient Value')\n",
        "    plt.title(f'Top 10 Features for {class_label}')\n",
        "    plt.tight_layout()\n",
        "    plt.show()"
      ],
      "metadata": {
        "colab": {
          "base_uri": "https://localhost:8080/",
          "height": 1000
        },
        "id": "xhhX-jjfPuVd",
        "outputId": "fceda90e-51a3-4ba0-b6ff-a3151fbc2ed0"
      },
      "execution_count": 41,
      "outputs": [
        {
          "output_type": "display_data",
          "data": {
            "text/plain": [
              "<Figure size 1000x600 with 1 Axes>"
            ],
            "image/png": "[encoded data removed]"
          },
          "metadata": {}
        },
        {
          "output_type": "display_data",
          "data": {
            "text/plain": [
              "<Figure size 1000x600 with 1 Axes>"
            ],
            "image/png": "[encoded data removed]"
          },
          "metadata": {}
        },
        {
          "output_type": "display_data",
          "data": {
            "text/plain": [
              "<Figure size 1000x600 with 1 Axes>"
            ],
            "image/png": "[encoded data removed]"
          },
          "metadata": {}
        }
      ]
    },
    {
      "cell_type": "markdown",
      "source": [
        "### Feature Importance Analysis\n",
        "\n",
        "#### **Top Words Indicating Each Class:**\n",
        "- **Insult:** Words like *bitch, idiot, asshole, faggot, stupid* have the highest importance scores.\n",
        "- **Positive:** Words like *thank, amazing, grateful, contribution, impressed* are strongly associated with positive comments.\n",
        "- **Toxic:** Unexpected words such as *trade_mark, sheep, jason, trout, mouth shut* indicate toxicity, possibly due to data quirks.\n",
        "\n",
        "#### **Least Important Words for Each Class:**\n",
        "- **Insult:** Words like *thoughtful, positive, perspective, feedback* are negatively associated, meaning they indicate non-insulting content.\n",
        "- **Positive:** Words like *fuck, copyright, argument, vandalised* decrease the likelihood of a comment being positive.\n",
        "- **Toxic:** Surprisingly, some insults (*bitch, idiot, asshole*) have **negative scores**, suggesting they are more strongly linked to insults than general toxicity.\n",
        "\n",
        "**Key Takeaways:**\n",
        "- **Swear words and personal attacks dominate insult classification.**\n",
        "- **Gratitude and politeness define positivity.**\n",
        "- **The toxicity class has unusual feature correlations, possibly due to dataset labeling.**\n"
      ],
      "metadata": {
        "id": "vGo7-o0cUuUZ"
      }
    },
    {
      "cell_type": "markdown",
      "source": [
        "##**10. Model Testing**\n",
        "\n",
        "We test our model on example comments to observe its predictions and associated probabilities.\n"
      ],
      "metadata": {
        "id": "7Ge75hEiPx8M"
      }
    },
    {
      "cell_type": "code",
      "source": [
        "# 12. Testing the Model on Example Comments\n",
        "print(\"\\nTesting model with example comments...\")\n",
        "example_comments = [\n",
        "    \"This is a neutral comment about the weather.\",\n",
        "    \"You're such an idiot! Go away!\",\n",
        "    \"I hope you die in a fire, worthless scum.\",\n",
        "    \"Thank you for your thoughtful response! 😊\",\n",
        "    \"That's... interesting. I guess if you think about it long enough it almost makes sense. 🙄\",\n",
        "    \"This makes me so happy! Keep up the great work! 💪\"\n",
        "]\n",
        "\n",
        "example_processed = [preprocess_text(comment) for comment in example_comments]\n",
        "example_tfidf = tfidf.transform(example_processed)\n",
        "example_has_emoji = [contains_emoji(comment) for comment in example_comments]\n",
        "example_special_chars = [count_special_chars(comment) for comment in example_comments]\n",
        "example_uppercase = [count_uppercase_words(comment) for comment in example_comments]\n",
        "example_sarcasm = [count_sarcasm_indicators(comment) for comment in example_comments]\n",
        "example_other_features = np.column_stack((example_has_emoji, example_special_chars, example_uppercase, example_sarcasm))\n",
        "example_combined = np.hstack((example_tfidf.toarray(), example_other_features))\n",
        "\n",
        "example_predictions = model.predict(example_combined)\n",
        "example_probabilities = model.predict_proba(example_combined)\n",
        "\n",
        "print(\"\\nExample Predictions:\")\n",
        "for i, (comment, pred) in enumerate(zip(example_comments, example_predictions)):\n",
        "    probs = example_probabilities[i]\n",
        "    top_probs = sorted(zip(model.classes_, probs), key=lambda x: x[1], reverse=True)[:2]\n",
        "    prob_str = \", \".join([f\"{cls}: {prob:.2f}\" for cls, prob in top_probs])\n",
        "    print(f\"Comment: {comment}\")\n",
        "    print(f\"Predicted Label: {pred} (Probabilities: {prob_str})\")\n",
        "    print(\"-\" * 80)"
      ],
      "metadata": {
        "colab": {
          "base_uri": "https://localhost:8080/"
        },
        "id": "sW_uvkLhPxDd",
        "outputId": "f3c4d661-d498-4c10-b92b-2d40c435c4d1"
      },
      "execution_count": 42,
      "outputs": [
        {
          "output_type": "stream",
          "name": "stdout",
          "text": [
            "\n",
            "Testing model with example comments...\n",
            "\n",
            "Example Predictions:\n",
            "Comment: This is a neutral comment about the weather.\n",
            "Predicted Label: toxic (Probabilities: toxic: 0.95, positive: 0.03)\n",
            "--------------------------------------------------------------------------------\n",
            "Comment: You're such an idiot! Go away!\n",
            "Predicted Label: insult (Probabilities: insult: 0.99, toxic: 0.01)\n",
            "--------------------------------------------------------------------------------\n",
            "Comment: I hope you die in a fire, worthless scum.\n",
            "Predicted Label: insult (Probabilities: insult: 0.92, toxic: 0.08)\n",
            "--------------------------------------------------------------------------------\n",
            "Comment: Thank you for your thoughtful response! 😊\n",
            "Predicted Label: positive (Probabilities: positive: 0.99, toxic: 0.01)\n",
            "--------------------------------------------------------------------------------\n",
            "Comment: That's... interesting. I guess if you think about it long enough it almost makes sense. 🙄\n",
            "Predicted Label: toxic (Probabilities: toxic: 0.67, positive: 0.26)\n",
            "--------------------------------------------------------------------------------\n",
            "Comment: This makes me so happy! Keep up the great work! 💪\n",
            "Predicted Label: positive (Probabilities: positive: 0.87, insult: 0.10)\n",
            "--------------------------------------------------------------------------------\n"
          ]
        }
      ]
    },
    {
      "cell_type": "markdown",
      "source": [
        "### Model Testing with Example Comments\n",
        "\n",
        "#### **Observations from Predictions:**\n",
        "1. **False Positive on Neutral Comment**\n",
        "   - *\"This is a neutral comment about the weather.\"*  \n",
        "   - **Predicted Label:** *Toxic* (95% confidence)  \n",
        "   - 🚨 **Issue:** The model incorrectly flags a neutral comment as toxic.\n",
        "\n",
        "2. **Correct Classification of Insulting Comments**\n",
        "   - *\"You're such an idiot! Go away!\"*  \n",
        "   - **Predicted Label:** *Insult* (99% confidence) ✅  \n",
        "   - *\"I hope you die in a fire, worthless scum.\"*  \n",
        "   - **Predicted Label:** *Insult* (92% confidence) ✅  \n",
        "\n",
        "3. **Correctly Detecting Positive Comments**\n",
        "   - *\"Thank you for your thoughtful response! 😊\"*  \n",
        "   - **Predicted Label:** *Positive* (99% confidence) ✅  \n",
        "   - *\"This makes me so happy! Keep up the great work! 💪\"*  \n",
        "   - **Predicted Label:** *Positive* (87% confidence) ✅  \n",
        "\n",
        "4. **Uncertainty in Sarcasm Detection**\n",
        "   - *\"That's... interesting. I guess if you think about it long enough it almost makes sense. 🙄\"*  \n",
        "   - **Predicted Label:** *Toxic* (67% confidence)  \n",
        "   - ⚠️ **Issue:** Sarcastic comments may confuse the model.\n",
        "\n",
        "#### **Key Takeaways:**\n",
        "- The model performs well on **explicit insults and positive comments**.\n",
        "- It struggles with **neutral statements** and **sarcasm**.\n",
        "- Potential improvement: **Fine-tune on sarcasm and neutrality detection**.\n"
      ],
      "metadata": {
        "id": "ShyBNb4gU7Vl"
      }
    },
    {
      "cell_type": "code",
      "source": [
        "# Create a DataFrame for better visualization of predictions\n",
        "example_df = pd.DataFrame({\n",
        "    'Comment': example_comments,\n",
        "    'Prediction': example_predictions\n",
        "})\n",
        "for i, class_name in enumerate(model.classes_):\n",
        "    example_df[f'Prob_{class_name}'] = example_probabilities[:, i]\n",
        "\n",
        "from IPython.display import display, HTML\n",
        "display(example_df[['Comment', 'Prediction'] + [f'Prob_{class_name}' for class_name in model.classes_]])\n"
      ],
      "metadata": {
        "colab": {
          "base_uri": "https://localhost:8080/",
          "height": 237
        },
        "id": "_FgBFr4WP9w2",
        "outputId": "974edccc-226e-4c72-ff5e-6a68d2526d58"
      },
      "execution_count": 43,
      "outputs": [
        {
          "output_type": "display_data",
          "data": {
            "text/plain": [
              "                                             Comment Prediction  Prob_insult  \\\n",
              "0       This is a neutral comment about the weather.      toxic     0.019567   \n",
              "1                     You're such an idiot! Go away!     insult     0.987501   \n",
              "2          I hope you die in a fire, worthless scum.     insult     0.922308   \n",
              "3          Thank you for your thoughtful response! 😊   positive     0.000622   \n",
              "4  That's... interesting. I guess if you think ab...      toxic     0.067570   \n",
              "5  This makes me so happy! Keep up the great work! 💪   positive     0.095571   \n",
              "\n",
              "   Prob_positive  Prob_toxic  \n",
              "0       0.026755    0.953678  \n",
              "1       0.000163    0.012337  \n",
              "2       0.000405    0.077287  \n",
              "3       0.991781    0.007598  \n",
              "4       0.262351    0.670079  \n",
              "5       0.868914    0.035515  "
            ],
            "text/html": [
              "\n",
              "  <div id=\"df-c75db7d9-185c-42bc-8b8a-e5e422eb7cdb\" class=\"colab-df-container\">\n",
              "    <div>\n",
              "<style scoped>\n",
              "    .dataframe tbody tr th:only-of-type {\n",
              "        vertical-align: middle;\n",
              "    }\n",
              "\n",
              "    .dataframe tbody tr th {\n",
              "        vertical-align: top;\n",
              "    }\n",
              "\n",
              "    .dataframe thead th {\n",
              "        text-align: right;\n",
              "    }\n",
              "</style>\n",
              "<table border=\"1\" class=\"dataframe\">\n",
              "  <thead>\n",
              "    <tr style=\"text-align: right;\">\n",
              "      <th></th>\n",
              "      <th>Comment</th>\n",
              "      <th>Prediction</th>\n",
              "      <th>Prob_insult</th>\n",
              "      <th>Prob_positive</th>\n",
              "      <th>Prob_toxic</th>\n",
              "    </tr>\n",
              "  </thead>\n",
              "  <tbody>\n",
              "    <tr>\n",
              "      <th>0</th>\n",
              "      <td>This is a neutral comment about the weather.</td>\n",
              "      <td>toxic</td>\n",
              "      <td>0.019567</td>\n",
              "      <td>0.026755</td>\n",
              "      <td>0.953678</td>\n",
              "    </tr>\n",
              "    <tr>\n",
              "      <th>1</th>\n",
              "      <td>You're such an idiot! Go away!</td>\n",
              "      <td>insult</td>\n",
              "      <td>0.987501</td>\n",
              "      <td>0.000163</td>\n",
              "      <td>0.012337</td>\n",
              "    </tr>\n",
              "    <tr>\n",
              "      <th>2</th>\n",
              "      <td>I hope you die in a fire, worthless scum.</td>\n",
              "      <td>insult</td>\n",
              "      <td>0.922308</td>\n",
              "      <td>0.000405</td>\n",
              "      <td>0.077287</td>\n",
              "    </tr>\n",
              "    <tr>\n",
              "      <th>3</th>\n",
              "      <td>Thank you for your thoughtful response! 😊</td>\n",
              "      <td>positive</td>\n",
              "      <td>0.000622</td>\n",
              "      <td>0.991781</td>\n",
              "      <td>0.007598</td>\n",
              "    </tr>\n",
              "    <tr>\n",
              "      <th>4</th>\n",
              "      <td>That's... interesting. I guess if you think ab...</td>\n",
              "      <td>toxic</td>\n",
              "      <td>0.067570</td>\n",
              "      <td>0.262351</td>\n",
              "      <td>0.670079</td>\n",
              "    </tr>\n",
              "    <tr>\n",
              "      <th>5</th>\n",
              "      <td>This makes me so happy! Keep up the great work! 💪</td>\n",
              "      <td>positive</td>\n",
              "      <td>0.095571</td>\n",
              "      <td>0.868914</td>\n",
              "      <td>0.035515</td>\n",
              "    </tr>\n",
              "  </tbody>\n",
              "</table>\n",
              "</div>\n",
              "    <div class=\"colab-df-buttons\">\n",
              "\n",
              "  <div class=\"colab-df-container\">\n",
              "    <button class=\"colab-df-convert\" onclick=\"convertToInteractive('df-c75db7d9-185c-42bc-8b8a-e5e422eb7cdb')\"\n",
              "            title=\"Convert this dataframe to an interactive table.\"\n",
              "            style=\"display:none;\">\n",
              "\n",
              "  <svg xmlns=\"http://www.w3.org/2000/svg\" height=\"24px\" viewBox=\"0 -960 960 960\">\n",
              "    <path d=\"M120-120v-720h720v720H120Zm60-500h600v-160H180v160Zm220 220h160v-160H400v160Zm0 220h160v-160H400v160ZM180-400h160v-160H180v160Zm440 0h160v-160H620v160ZM180-180h160v-160H180v160Zm440 0h160v-160H620v160Z\"/>\n",
              "  </svg>\n",
              "    </button>\n",
              "\n",
              "  <style>\n",
              "    .colab-df-container {\n",
              "      display:flex;\n",
              "      gap: 12px;\n",
              "    }\n",
              "\n",
              "    .colab-df-convert {\n",
              "      background-color: #E8F0FE;\n",
              "      border: none;\n",
              "      border-radius: 50%;\n",
              "      cursor: pointer;\n",
              "      display: none;\n",
              "      fill: #1967D2;\n",
              "      height: 32px;\n",
              "      padding: 0 0 0 0;\n",
              "      width: 32px;\n",
              "    }\n",
              "\n",
              "    .colab-df-convert:hover {\n",
              "      background-color: #E2EBFA;\n",
              "      box-shadow: 0px 1px 2px rgba(60, 64, 67, 0.3), 0px 1px 3px 1px rgba(60, 64, 67, 0.15);\n",
              "      fill: #174EA6;\n",
              "    }\n",
              "\n",
              "    .colab-df-buttons div {\n",
              "      margin-bottom: 4px;\n",
              "    }\n",
              "\n",
              "    [theme=dark] .colab-df-convert {\n",
              "      background-color: #3B4455;\n",
              "      fill: #D2E3FC;\n",
              "    }\n",
              "\n",
              "    [theme=dark] .colab-df-convert:hover {\n",
              "      background-color: #434B5C;\n",
              "      box-shadow: 0px 1px 3px 1px rgba(0, 0, 0, 0.15);\n",
              "      filter: drop-shadow(0px 1px 2px rgba(0, 0, 0, 0.3));\n",
              "      fill: #FFFFFF;\n",
              "    }\n",
              "  </style>\n",
              "\n",
              "    <script>\n",
              "      const buttonEl =\n",
              "        document.querySelector('#df-c75db7d9-185c-42bc-8b8a-e5e422eb7cdb button.colab-df-convert');\n",
              "      buttonEl.style.display =\n",
              "        google.colab.kernel.accessAllowed ? 'block' : 'none';\n",
              "\n",
              "      async function convertToInteractive(key) {\n",
              "        const element = document.querySelector('#df-c75db7d9-185c-42bc-8b8a-e5e422eb7cdb');\n",
              "        const dataTable =\n",
              "          await google.colab.kernel.invokeFunction('convertToInteractive',\n",
              "                                                    [key], {});\n",
              "        if (!dataTable) return;\n",
              "\n",
              "        const docLinkHtml = 'Like what you see? Visit the ' +\n",
              "          '<a target=\"_blank\" href=https://colab.research.google.com/notebooks/data_table.ipynb>data table notebook</a>'\n",
              "          + ' to learn more about interactive tables.';\n",
              "        element.innerHTML = '';\n",
              "        dataTable['output_type'] = 'display_data';\n",
              "        await google.colab.output.renderOutput(dataTable, element);\n",
              "        const docLink = document.createElement('div');\n",
              "        docLink.innerHTML = docLinkHtml;\n",
              "        element.appendChild(docLink);\n",
              "      }\n",
              "    </script>\n",
              "  </div>\n",
              "\n",
              "\n",
              "<div id=\"df-a9999f77-ca66-4f66-9f2a-ac580c5c41bc\">\n",
              "  <button class=\"colab-df-quickchart\" onclick=\"quickchart('df-a9999f77-ca66-4f66-9f2a-ac580c5c41bc')\"\n",
              "            title=\"Suggest charts\"\n",
              "            style=\"display:none;\">\n",
              "\n",
              "<svg xmlns=\"http://www.w3.org/2000/svg\" height=\"24px\"viewBox=\"0 0 24 24\"\n",
              "     width=\"24px\">\n",
              "    <g>\n",
              "        <path d=\"M19 3H5c-1.1 0-2 .9-2 2v14c0 1.1.9 2 2 2h14c1.1 0 2-.9 2-2V5c0-1.1-.9-2-2-2zM9 17H7v-7h2v7zm4 0h-2V7h2v10zm4 0h-2v-4h2v4z\"/>\n",
              "    </g>\n",
              "</svg>\n",
              "  </button>\n",
              "\n",
              "<style>\n",
              "  .colab-df-quickchart {\n",
              "      --bg-color: #E8F0FE;\n",
              "      --fill-color: #1967D2;\n",
              "      --hover-bg-color: #E2EBFA;\n",
              "      --hover-fill-color: #174EA6;\n",
              "      --disabled-fill-color: #AAA;\n",
              "      --disabled-bg-color: #DDD;\n",
              "  }\n",
              "\n",
              "  [theme=dark] .colab-df-quickchart {\n",
              "      --bg-color: #3B4455;\n",
              "      --fill-color: #D2E3FC;\n",
              "      --hover-bg-color: #434B5C;\n",
              "      --hover-fill-color: #FFFFFF;\n",
              "      --disabled-bg-color: #3B4455;\n",
              "      --disabled-fill-color: #666;\n",
              "  }\n",
              "\n",
              "  .colab-df-quickchart {\n",
              "    background-color: var(--bg-color);\n",
              "    border: none;\n",
              "    border-radius: 50%;\n",
              "    cursor: pointer;\n",
              "    display: none;\n",
              "    fill: var(--fill-color);\n",
              "    height: 32px;\n",
              "    padding: 0;\n",
              "    width: 32px;\n",
              "  }\n",
              "\n",
              "  .colab-df-quickchart:hover {\n",
              "    background-color: var(--hover-bg-color);\n",
              "    box-shadow: 0 1px 2px rgba(60, 64, 67, 0.3), 0 1px 3px 1px rgba(60, 64, 67, 0.15);\n",
              "    fill: var(--button-hover-fill-color);\n",
              "  }\n",
              "\n",
              "  .colab-df-quickchart-complete:disabled,\n",
              "  .colab-df-quickchart-complete:disabled:hover {\n",
              "    background-color: var(--disabled-bg-color);\n",
              "    fill: var(--disabled-fill-color);\n",
              "    box-shadow: none;\n",
              "  }\n",
              "\n",
              "  .colab-df-spinner {\n",
              "    border: 2px solid var(--fill-color);\n",
              "    border-color: transparent;\n",
              "    border-bottom-color: var(--fill-color);\n",
              "    animation:\n",
              "      spin 1s steps(1) infinite;\n",
              "  }\n",
              "\n",
              "  @keyframes spin {\n",
              "    0% {\n",
              "      border-color: transparent;\n",
              "      border-bottom-color: var(--fill-color);\n",
              "      border-left-color: var(--fill-color);\n",
              "    }\n",
              "    20% {\n",
              "      border-color: transparent;\n",
              "      border-left-color: var(--fill-color);\n",
              "      border-top-color: var(--fill-color);\n",
              "    }\n",
              "    30% {\n",
              "      border-color: transparent;\n",
              "      border-left-color: var(--fill-color);\n",
              "      border-top-color: var(--fill-color);\n",
              "      border-right-color: var(--fill-color);\n",
              "    }\n",
              "    40% {\n",
              "      border-color: transparent;\n",
              "      border-right-color: var(--fill-color);\n",
              "      border-top-color: var(--fill-color);\n",
              "    }\n",
              "    60% {\n",
              "      border-color: transparent;\n",
              "      border-right-color: var(--fill-color);\n",
              "    }\n",
              "    80% {\n",
              "      border-color: transparent;\n",
              "      border-right-color: var(--fill-color);\n",
              "      border-bottom-color: var(--fill-color);\n",
              "    }\n",
              "    90% {\n",
              "      border-color: transparent;\n",
              "      border-bottom-color: var(--fill-color);\n",
              "    }\n",
              "  }\n",
              "</style>\n",
              "\n",
              "  <script>\n",
              "    async function quickchart(key) {\n",
              "      const quickchartButtonEl =\n",
              "        document.querySelector('#' + key + ' button');\n",
              "      quickchartButtonEl.disabled = true;  // To prevent multiple clicks.\n",
              "      quickchartButtonEl.classList.add('colab-df-spinner');\n",
              "      try {\n",
              "        const charts = await google.colab.kernel.invokeFunction(\n",
              "            'suggestCharts', [key], {});\n",
              "      } catch (error) {\n",
              "        console.error('Error during call to suggestCharts:', error);\n",
              "      }\n",
              "      quickchartButtonEl.classList.remove('colab-df-spinner');\n",
              "      quickchartButtonEl.classList.add('colab-df-quickchart-complete');\n",
              "    }\n",
              "    (() => {\n",
              "      let quickchartButtonEl =\n",
              "        document.querySelector('#df-a9999f77-ca66-4f66-9f2a-ac580c5c41bc button');\n",
              "      quickchartButtonEl.style.display =\n",
              "        google.colab.kernel.accessAllowed ? 'block' : 'none';\n",
              "    })();\n",
              "  </script>\n",
              "</div>\n",
              "\n",
              "    </div>\n",
              "  </div>\n"
            ],
            "application/vnd.google.colaboratory.intrinsic+json": {
              "type": "dataframe",
              "summary": "{\n  \"name\": \"display(example_df[['Comment', 'Prediction'] + [f'Prob_{class_name}' for class_name in model\",\n  \"rows\": 6,\n  \"fields\": [\n    {\n      \"column\": \"Comment\",\n      \"properties\": {\n        \"dtype\": \"string\",\n        \"num_unique_values\": 6,\n        \"samples\": [\n          \"This is a neutral comment about the weather.\",\n          \"You're such an idiot! Go away!\",\n          \"This makes me so happy! Keep up the great work! \\ud83d\\udcaa\"\n        ],\n        \"semantic_type\": \"\",\n        \"description\": \"\"\n      }\n    },\n    {\n      \"column\": \"Prediction\",\n      \"properties\": {\n        \"dtype\": \"string\",\n        \"num_unique_values\": 3,\n        \"samples\": [\n          \"toxic\",\n          \"insult\",\n          \"positive\"\n        ],\n        \"semantic_type\": \"\",\n        \"description\": \"\"\n      }\n    },\n    {\n      \"column\": \"Prob_insult\",\n      \"properties\": {\n        \"dtype\": \"number\",\n        \"std\": 0.4711025196082372,\n        \"min\": 0.0006218999564078594,\n        \"max\": 0.987500844702771,\n        \"num_unique_values\": 6,\n        \"samples\": [\n          0.019567030164812198,\n          0.987500844702771,\n          0.09557063388399996\n        ],\n        \"semantic_type\": \"\",\n        \"description\": \"\"\n      }\n    },\n    {\n      \"column\": \"Prob_positive\",\n      \"properties\": {\n        \"dtype\": \"number\",\n        \"std\": 0.4555225892723239,\n        \"min\": 0.0001625361597305519,\n        \"max\": 0.9917805415682545,\n        \"num_unique_values\": 6,\n        \"samples\": [\n          0.02675500929045352,\n          0.0001625361597305519,\n          0.8689140580556091\n        ],\n        \"semantic_type\": \"\",\n        \"description\": \"\"\n      }\n    },\n    {\n      \"column\": \"Prob_toxic\",\n      \"properties\": {\n        \"dtype\": \"number\",\n        \"std\": 0.41273250291183083,\n        \"min\": 0.007597558475337787,\n        \"max\": 0.9536779605447343,\n        \"num_unique_values\": 6,\n        \"samples\": [\n          0.9536779605447343,\n          0.012336619137498438,\n          0.035515308060391014\n        ],\n        \"semantic_type\": \"\",\n        \"description\": \"\"\n      }\n    }\n  ]\n}"
            }
          },
          "metadata": {}
        }
      ]
    },
    {
      "cell_type": "markdown",
      "source": [
        "##**11. Model Saving**\n",
        "\n",
        "We save the trained model and TF-IDF vectorizer for future use.\n"
      ],
      "metadata": {
        "id": "PSDMSsEFQBpM"
      }
    },
    {
      "cell_type": "code",
      "source": [
        "# 13. Saving the Model and TF-IDF Vectorizer\n",
        "print(\"\\nSaving model and vectorizer...\")\n",
        "with open('/content/toxic_comment_classifier_model.pkl', 'wb') as f:\n",
        "    pickle.dump(model, f)\n",
        "with open('/content/toxic_comment_tfidf.pkl', 'wb') as f:\n",
        "    pickle.dump(tfidf, f)\n",
        "print(\"Model and vectorizer saved successfully!\")\n"
      ],
      "metadata": {
        "colab": {
          "base_uri": "https://localhost:8080/"
        },
        "id": "u-6X4ET0QDUb",
        "outputId": "91d2470f-0d27-4d0b-b922-d45c31d5b79d"
      },
      "execution_count": 44,
      "outputs": [
        {
          "output_type": "stream",
          "name": "stdout",
          "text": [
            "\n",
            "Saving model and vectorizer...\n",
            "Model and vectorizer saved successfully!\n"
          ]
        }
      ]
    },
    {
      "cell_type": "markdown",
      "source": [
        "# **III - Word-Level Semantics Analysis**\n",
        "This notebook implements word-level semantic analysis using three approaches:\n",
        "1. Deep-LSA on LinkedIn connections\n",
        "2. Transformer-based embeddings for semantic similarity analysis\n",
        "3. Word2Vec embeddings comparison"
      ],
      "metadata": {
        "id": "IP-uR0-BhqxL"
      }
    },
    {
      "cell_type": "markdown",
      "source": [
        "## Part 1: Deep-LSA on LinkedIn Connections\n",
        "\n",
        "### 1.1 Import Libraries and Load Data"
      ],
      "metadata": {
        "id": "mBKXbb7ukWsT"
      }
    },
    {
      "cell_type": "code",
      "source": [
        "# Import necessary libraries\n",
        "import pandas as pd\n",
        "import numpy as np\n",
        "from sklearn.feature_extraction.text import TfidfVectorizer\n",
        "from sklearn.decomposition import TruncatedSVD\n",
        "import nltk\n",
        "from nltk.tokenize import word_tokenize\n",
        "from nltk.corpus import stopwords\n",
        "from nltk.stem import WordNetLemmatizer\n",
        "import matplotlib.pyplot as plt\n",
        "import re, random\n",
        "from sklearn.metrics.pairwise import cosine_similarity\n",
        "from transformers import AutoTokenizer, AutoModel\n",
        "from sklearn.manifold import TSNE\n",
        "import torch\n",
        "\n",
        "# Download necessary NLTK resources\n",
        "nltk.download('punkt')\n",
        "nltk.download('punkt_tab')\n",
        "nltk.download('stopwords')\n",
        "nltk.download('wordnet')"
      ],
      "metadata": {
        "colab": {
          "base_uri": "https://localhost:8080/"
        },
        "id": "NlDZb3iSo0E_",
        "outputId": "be578f04-712b-4e54-9b8f-53fc1701c402"
      },
      "execution_count": 45,
      "outputs": [
        {
          "output_type": "stream",
          "name": "stderr",
          "text": [
            "[nltk_data] Downloading package punkt to /root/nltk_data...\n",
            "[nltk_data]   Package punkt is already up-to-date!\n",
            "[nltk_data] Downloading package punkt_tab to /root/nltk_data...\n",
            "[nltk_data]   Package punkt_tab is already up-to-date!\n",
            "[nltk_data] Downloading package stopwords to /root/nltk_data...\n",
            "[nltk_data]   Package stopwords is already up-to-date!\n",
            "[nltk_data] Downloading package wordnet to /root/nltk_data...\n",
            "[nltk_data]   Package wordnet is already up-to-date!\n"
          ]
        },
        {
          "output_type": "execute_result",
          "data": {
            "text/plain": [
              "True"
            ]
          },
          "metadata": {},
          "execution_count": 45
        }
      ]
    },
    {
      "cell_type": "code",
      "source": [
        "! ls /content/drive/MyDrive/Connections.csv"
      ],
      "metadata": {
        "colab": {
          "base_uri": "https://localhost:8080/"
        },
        "id": "nok0FACZkt-G",
        "outputId": "d2e55fc5-d32a-4782-ad63-321adf1138a8"
      },
      "execution_count": 46,
      "outputs": [
        {
          "output_type": "stream",
          "name": "stdout",
          "text": [
            "/content/drive/MyDrive/Connections.csv\n"
          ]
        }
      ]
    },
    {
      "cell_type": "code",
      "source": [
        "connections_df = pd.read_csv('/content/drive/MyDrive/Connections.csv')\n",
        "print(\"Successfully loaded LinkedIn connections data\")\n",
        "print(f\"Data shape: {connections_df.shape}\")\n",
        "print(connections_df.head())\n"
      ],
      "metadata": {
        "colab": {
          "base_uri": "https://localhost:8080/"
        },
        "id": "sc1N1pq1khpv",
        "outputId": "9a95834e-cb2d-427d-fc90-07b888b9e6e4"
      },
      "execution_count": 47,
      "outputs": [
        {
          "output_type": "stream",
          "name": "stdout",
          "text": [
            "Successfully loaded LinkedIn connections data\n",
            "Data shape: (222, 7)\n",
            "  First Name Last Name                                                URL  \\\n",
            "0      Xasan     Xusen  https://www.linkedin.com/in/xasan-xusen-154636353   \n",
            "1       Sbai    Aymane            https://www.linkedin.com/in/sbai-aymane   \n",
            "2       HIBA   AMMISSA  https://www.linkedin.com/in/hiba-ammissa-8a242...   \n",
            "3  Abdelilah    Ouaddi        https://www.linkedin.com/in/abelilah-ouaddi   \n",
            "4      SALMA    MADOUD      https://www.linkedin.com/in/salma-m-218395250   \n",
            "\n",
            "  Email Address                                            Company  \\\n",
            "0           NaN                                                NaN   \n",
            "1           NaN                             Al Akhawayn University   \n",
            "2           NaN                             Al Akhawayn University   \n",
            "3           NaN                                       Ocean Uprise   \n",
            "4           NaN  Center for Learning Excellence Al Akhawayn Uni...   \n",
            "\n",
            "                   Position Connected On  \n",
            "0                       NaN    27-Feb-25  \n",
            "1              Data Analyst    26-Feb-25  \n",
            "2  RA Program Administrator    26-Feb-25  \n",
            "3                     UX/UI    24-Feb-25  \n",
            "4                Peer Tutor    19-Feb-25  \n"
          ]
        }
      ]
    },
    {
      "cell_type": "markdown",
      "source": [
        "### 1.2 Data Preprocessing\n",
        "Based on the data structure provided, we need to combine First Name, Last Name, Company, and Position to create a meaningful text field for semantic analysis"
      ],
      "metadata": {
        "id": "KiYdXtuXnJVF"
      }
    },
    {
      "cell_type": "code",
      "source": [
        "def create_profile_text(row):\n",
        "    text_parts = []\n",
        "\n",
        "    # Add name\n",
        "    if pd.notna(row['First Name']) and pd.notna(row['Last Name']):\n",
        "        text_parts.append(f\"{row['First Name']} {row['Last Name']}\")\n",
        "\n",
        "    # Add company\n",
        "    if pd.notna(row['Company']):\n",
        "        text_parts.append(f\"works at {row['Company']}\")\n",
        "\n",
        "    # Add position\n",
        "    if pd.notna(row['Position']):\n",
        "        text_parts.append(f\"as {row['Position']}\")\n",
        "\n",
        "    return \" \".join(text_parts)\n",
        "\n",
        "# Apply the function to create a text field\n",
        "connections_df['text'] = connections_df.apply(create_profile_text, axis=1)\n",
        "\n",
        "# Preview the created text field\n",
        "print(\"\\nCreated text descriptions:\")\n",
        "print(connections_df[['First Name', 'Last Name', 'text']].head())"
      ],
      "metadata": {
        "colab": {
          "base_uri": "https://localhost:8080/"
        },
        "id": "qOyWqzSenNOE",
        "outputId": "b4fd50f9-6d1b-4813-96e5-f00363b0ffdc"
      },
      "execution_count": 48,
      "outputs": [
        {
          "output_type": "stream",
          "name": "stdout",
          "text": [
            "\n",
            "Created text descriptions:\n",
            "  First Name Last Name                                               text\n",
            "0      Xasan     Xusen                                        Xasan Xusen\n",
            "1       Sbai    Aymane  Sbai Aymane works at Al Akhawayn University as...\n",
            "2       HIBA   AMMISSA  HIBA AMMISSA works at Al Akhawayn University a...\n",
            "3  Abdelilah    Ouaddi    Abdelilah Ouaddi works at Ocean Uprise as UX/UI\n",
            "4      SALMA    MADOUD  SALMA MADOUD works at Center for Learning Exce...\n"
          ]
        }
      ]
    },
    {
      "cell_type": "code",
      "source": [
        "# Preprocessing function for text data\n",
        "def preprocess_text(text):\n",
        "    if pd.isna(text):\n",
        "        return \"\"\n",
        "\n",
        "    # Convert to lowercase and remove special characters\n",
        "    text = re.sub(r'[^a-zA-Z\\s]', '', str(text).lower())\n",
        "\n",
        "    # Tokenize\n",
        "    tokens = word_tokenize(text)\n",
        "\n",
        "    # Remove stopwords\n",
        "    stop_words = set(stopwords.words('english'))\n",
        "    tokens = [token for token in tokens if token not in stop_words]\n",
        "\n",
        "    # Lemmatize\n",
        "    lemmatizer = WordNetLemmatizer()\n",
        "    tokens = [lemmatizer.lemmatize(token) for token in tokens]\n",
        "\n",
        "    return ' '.join(tokens)\n"
      ],
      "metadata": {
        "id": "q-xUkTr1nawO"
      },
      "execution_count": 49,
      "outputs": []
    },
    {
      "cell_type": "code",
      "source": [
        "# Apply preprocessing to the text column\n",
        "connections_df['processed_text'] = connections_df['text'].apply(preprocess_text)\n",
        "\n",
        "# Remove empty entries after preprocessing\n",
        "connections_df = connections_df[connections_df['processed_text'] != \"\"]\n",
        "\n",
        "# Select a subset of connections (e.g., first 100 non-empty descriptions)\n",
        "subset_df = connections_df.head(min(100, len(connections_df)))\n",
        "\n",
        "print(f\"\\nSelected {len(subset_df)} connections for analysis\")"
      ],
      "metadata": {
        "colab": {
          "base_uri": "https://localhost:8080/"
        },
        "id": "JQcZMDgYngPd",
        "outputId": "d191f621-baad-44ae-8b93-45c2936a239d"
      },
      "execution_count": 50,
      "outputs": [
        {
          "output_type": "stream",
          "name": "stdout",
          "text": [
            "\n",
            "Selected 100 connections for analysis\n"
          ]
        }
      ]
    },
    {
      "cell_type": "markdown",
      "source": [
        "### 1.3 Implement Deep-LSA"
      ],
      "metadata": {
        "id": "_t4NgnrqoDnf"
      }
    },
    {
      "cell_type": "code",
      "source": [
        "# Deep-LSA Implementation\n",
        "def deep_lsa(documents, n_components=10, n_iterations=2):\n",
        "    \"\"\"\n",
        "    Implement Deep Latent Semantic Analysis\n",
        "\n",
        "    Parameters:\n",
        "    documents: list of preprocessed text documents\n",
        "    n_components: number of topics/concepts to extract\n",
        "    n_iterations: number of LSA iterations to perform\n",
        "\n",
        "    Returns:\n",
        "    final_documents_topic_matrix: Document-topic matrix\n",
        "    final_terms_topic_matrix: Term-topic matrix\n",
        "    vocabulary: Vocabulary of terms\n",
        "    \"\"\"\n",
        "    current_documents = documents.copy()\n",
        "\n",
        "    for iteration in range(n_iterations):\n",
        "        print(f\"\\nDeep-LSA Iteration {iteration+1}:\")\n",
        "\n",
        "        # Create TF-IDF matrix\n",
        "        vectorizer = TfidfVectorizer(max_features=1000)\n",
        "        tfidf_matrix = vectorizer.fit_transform(current_documents)\n",
        "\n",
        "        # Get vocabulary\n",
        "        vocabulary = vectorizer.get_feature_names_out()\n",
        "\n",
        "        # Perform SVD (core of LSA)\n",
        "        svd_model = TruncatedSVD(n_components=n_components, random_state=42)\n",
        "        documents_topic_matrix = svd_model.fit_transform(tfidf_matrix)\n",
        "        terms_topic_matrix = svd_model.components_.T\n",
        "\n",
        "        # Print explained variance\n",
        "        explained_variance = svd_model.explained_variance_ratio_.sum()\n",
        "        print(f\"Explained variance: {explained_variance:.4f}\")\n",
        "\n",
        "        # If not the last iteration, reconstruct documents for next iteration\n",
        "        if iteration < n_iterations - 1:\n",
        "            # Reconstruct the document-term matrix (approximate)\n",
        "            reconstructed_matrix = documents_topic_matrix @ terms_topic_matrix.T\n",
        "\n",
        "            # Convert back to documents\n",
        "            reconstructed_documents = []\n",
        "            for doc_vector in reconstructed_matrix:\n",
        "                # Get top terms for this document\n",
        "                term_importance = [(vocabulary[i], score) for i, score in enumerate(doc_vector)]\n",
        "                term_importance.sort(key=lambda x: x[1], reverse=True)\n",
        "\n",
        "                # Take top terms to form the new document\n",
        "                top_terms = [term for term, _ in term_importance[:20] if _ > 0]\n",
        "                reconstructed_documents.append(' '.join(top_terms))\n",
        "\n",
        "            current_documents = reconstructed_documents\n",
        "\n",
        "    return documents_topic_matrix, terms_topic_matrix, vocabulary"
      ],
      "metadata": {
        "id": "xGRKuhK2oKTs"
      },
      "execution_count": 51,
      "outputs": []
    },
    {
      "cell_type": "code",
      "source": [
        "# Apply Deep-LSA to the subset\n",
        "documents_topic_matrix, terms_topic_matrix, vocabulary = deep_lsa(\n",
        "    subset_df['processed_text'].tolist(),\n",
        "    n_components=5,\n",
        "    n_iterations=2\n",
        ")\n"
      ],
      "metadata": {
        "colab": {
          "base_uri": "https://localhost:8080/"
        },
        "id": "rHvmWnvmoOod",
        "outputId": "4ad40384-b7be-48cf-f0dc-b7706382e696"
      },
      "execution_count": 52,
      "outputs": [
        {
          "output_type": "stream",
          "name": "stdout",
          "text": [
            "\n",
            "Deep-LSA Iteration 1:\n",
            "Explained variance: 0.1124\n",
            "\n",
            "Deep-LSA Iteration 2:\n",
            "Explained variance: 0.5914\n"
          ]
        }
      ]
    },
    {
      "cell_type": "markdown",
      "source": [
        "### Explanation of Deep-LSA Output\n",
        "\n",
        "- **Deep-LSA Iteration 1:**\n",
        "  - **Explained Variance: 0.1124**  \n",
        "    In the first iteration, the SVD applied to the TF-IDF matrix captures about **11.24%** of the total variance in the dataset. This relatively low percentage suggests that the initial latent topics are only capturing a small portion of the semantic structure present in the text. Essentially, the model has begun to extract underlying patterns, but there is still a significant amount of semantic information left unmodeled.\n",
        "\n",
        "- **Deep-LSA Iteration 2:**\n",
        "  - **Explained Variance: 0.5914**  \n",
        "    After reconstructing the documents based on the initial topics and running a second SVD, the explained variance jumps to **59.14%**. This substantial increase indicates that the iterative (or \"deep\") LSA approach has effectively refined the latent topic space, capturing much more of the underlying semantic relationships in the text. The second iteration significantly enhances the model's ability to represent the data, meaning the topics extracted now better summarize the content of the documents.\n",
        "\n",
        "**Key Takeaway:**  \n",
        "The iterative process in Deep-LSA helps improve the representation of the latent semantic structure by gradually reducing noise and emphasizing the most relevant patterns. The jump in explained variance from the first iteration (11.24%) to the second iteration (59.14%) demonstrates the benefit of deepening the analysis to capture more meaningful information.\n"
      ],
      "metadata": {
        "id": "0go6NGqZOtBV"
      }
    },
    {
      "cell_type": "markdown",
      "source": [
        "### 1.4 Visualize and Analyze Results"
      ],
      "metadata": {
        "id": "IgpbBgdUoRpL"
      }
    },
    {
      "cell_type": "code",
      "source": [
        "# Display the topic terms (top 10 terms for each topic)\n",
        "print(\"\\nTop terms for each topic:\")\n",
        "for topic_idx, topic in enumerate(terms_topic_matrix.T):\n",
        "    top_term_indices = topic.argsort()[-10:][::-1]\n",
        "    top_terms = [vocabulary[i] for i in top_term_indices]\n",
        "    print(f\"Topic {topic_idx+1}: {', '.join(top_terms)}\")"
      ],
      "metadata": {
        "colab": {
          "base_uri": "https://localhost:8080/"
        },
        "id": "w4XkCJlyoP8l",
        "outputId": "cd0f693b-a7a5-45ce-aeba-8aa776975b51"
      },
      "execution_count": 53,
      "outputs": [
        {
          "output_type": "stream",
          "name": "stdout",
          "text": [
            "\n",
            "Top terms for each topic:\n",
            "Topic 1: marketing, fatima, zahra, manager, research, analyst, academy, aui, yassine, group\n",
            "Topic 2: hiba, aarab, tamwilcom, morocco, iraqi, management, benhida, engineer, mohamed, ilyas\n",
            "Topic 3: university, akhawayn, al, resident, assistant, center, attigui, learning, excellence, yassmine\n",
            "Topic 4: ait, ghita, kaouar, bourki, assma, exergi, imane, mahjoub, el, finance\n",
            "Topic 5: madoud, yahya, zahni, tutor, peer, ziate, ghafal, douaa, mehdi, excellence\n"
          ]
        }
      ]
    },
    {
      "cell_type": "markdown",
      "source": [
        "### Explanation of Top Terms for Each Topic\n",
        "\n",
        "After applying Deep-LSA, we extracted latent topics from the LinkedIn connections’ textual data. The output lists the top 10 terms (ranked by their importance within each topic) for each of the 5 topics. These terms represent the dominant themes or clusters of concepts captured by the model.\n",
        "\n",
        "- **Topic 1:**  \n",
        "  **Top terms:** marketing, fatima, zahra, manager, research, analyst, academy, aui, yassine, group  \n",
        "  **Interpretation:**  \n",
        "  This topic appears to focus on the marketing and managerial aspects of professional profiles. The presence of words like *marketing*, *manager*, and *analyst* suggests that many connections in this cluster may be associated with business or marketing roles. Additionally, personal names (e.g., *Fatima*, *Zahra*, *Yassine*) might indicate common regional names or affiliations within a specific community or institution.\n",
        "\n",
        "- **Topic 2:**  \n",
        "  **Top terms:** hiba, aarab, tamwilcom, morocco, iraqi, management, benhida, engineer, mohamed, ilyas  \n",
        "  **Interpretation:**  \n",
        "  This topic includes a mix of personal names and terms related to management and engineering. Names such as *Hiba*, *Mohamed*, and *Ilyas* alongside words like *engineer* and *management* suggest a profile cluster that could be regionally or industry specific—possibly reflecting connections in technical or management roles with ties to Morocco or Iraqi backgrounds.\n",
        "\n",
        "- **Topic 3:**  \n",
        "  **Top terms:** university, akhawayn, al, resident, assistant, center, attigui, learning, excellence, yassmine  \n",
        "  **Interpretation:**  \n",
        "  The terms here indicate an academic or educational theme. Words like *university*, *akhawayn*, *learning*, and *excellence* point to connections involved in academic, research, or educational support roles. Terms like *resident* and *assistant* further hint at positions related to academia or institutional support.\n",
        "\n",
        "- **Topic 4:**  \n",
        "  **Top terms:** ait, ghita, kaouar, bourki, assma, exergi, imane, mahjoub, el, finance  \n",
        "  **Interpretation:**  \n",
        "  This topic seems to blend personal names (such as *Ait*, *Ghita*, *Kaouar*, *Assma*, *Imane*) with a professional focus on finance (indicated by the term *finance*). The presence of these names might denote a particular cultural or regional cluster, while the term *finance* implies involvement in financial services or related roles.\n",
        "\n",
        "- **Topic 5:**  \n",
        "  **Top terms:** madoud, yahya, zahni, tutor, peer, ziate, ghafal, douaa, mehdi, excellence  \n",
        "  **Interpretation:**  \n",
        "  This topic includes a mix of names and terms related to educational or supportive roles, such as *tutor* and *peer*. The recurrence of names (e.g., *Madoud*, *Yahya*, *Douaa*) along with *excellence* might indicate a group of profiles that are linked either by their educational backgrounds or by participation in academic support or tutoring activities.\n",
        "\n",
        "**Overall Insight:**  \n",
        "Each topic captures a distinct semantic theme from the LinkedIn connections data. The extracted top terms provide a snapshot of the professional domains, roles, and regional or cultural affiliations within the network. This kind of analysis can help in understanding the distribution of skills, industries, and potential clusters of expertise within the network.\n"
      ],
      "metadata": {
        "id": "fFsWxOGEPPyO"
      }
    },
    {
      "cell_type": "code",
      "source": [
        "# Find similar connections based on topic vectors\n",
        "# Calculate pairwise similarities\n",
        "similarity_matrix = cosine_similarity(documents_topic_matrix)"
      ],
      "metadata": {
        "id": "f6xg0TCMojl4"
      },
      "execution_count": 54,
      "outputs": []
    },
    {
      "cell_type": "code",
      "source": [
        "# For each connection, find the top 3 most similar connections\n",
        "print(\"\\nSimilar connections based on semantic analysis:\")\n",
        "for i in range(min(5, len(subset_df))):\n",
        "    # Get current connection name\n",
        "    current_name = subset_df.iloc[i]['First Name'] + ' ' + subset_df.iloc[i]['Last Name']\n",
        "\n",
        "    # Find most similar connections (excluding self)\n",
        "    similar_indices = similarity_matrix[i].argsort()[:-4:-1]  # Top 3 excluding self\n",
        "    similar_connections = []\n",
        "\n",
        "    for idx in similar_indices:\n",
        "        if idx != i:  # Exclude self\n",
        "            similar_name = subset_df.iloc[idx]['First Name'] + ' ' + subset_df.iloc[idx]['Last Name']\n",
        "            similarity_score = similarity_matrix[i, idx]\n",
        "            similar_connections.append((similar_name, similarity_score))\n",
        "\n",
        "    # Print similar connections\n",
        "    print(f\"\\nConnections similar to {current_name}:\")\n",
        "    for name, score in similar_connections:\n",
        "        print(f\"- {name} (Similarity: {score:.4f})\")"
      ],
      "metadata": {
        "colab": {
          "base_uri": "https://localhost:8080/"
        },
        "id": "TKe7Pl2Roun4",
        "outputId": "cc554cae-62f4-4616-e0e8-c37ba26f7462"
      },
      "execution_count": 55,
      "outputs": [
        {
          "output_type": "stream",
          "name": "stdout",
          "text": [
            "\n",
            "Similar connections based on semantic analysis:\n",
            "\n",
            "Connections similar to Xasan Xusen:\n",
            "- Patrick Nathan (Similarity: 1.0000)\n",
            "- Zakaria Rebbah (Similarity: 1.0000)\n",
            "\n",
            "Connections similar to Sbai Aymane:\n",
            "- Rania Daya (Similarity: 0.9829)\n",
            "- Farah  Badaoui (Similarity: 0.9635)\n",
            "\n",
            "Connections similar to HIBA AMMISSA:\n",
            "- Belaid Kharaz (Similarity: 0.9906)\n",
            "- Sohayb DAOUI (Similarity: 0.9314)\n",
            "\n",
            "Connections similar to Abdelilah Ouaddi:\n",
            "- Tarek Jamil (Similarity: 0.8946)\n",
            "- Yassine Bennani Karim (Similarity: 0.8888)\n",
            "\n",
            "Connections similar to SALMA MADOUD:\n",
            "- Yahya  Zahni (Similarity: 1.0000)\n",
            "- El Mehdi  Ziate (Similarity: 0.9999)\n"
          ]
        }
      ]
    },
    {
      "cell_type": "markdown",
      "source": [
        "### Explanation of Similar Connections Based on Semantic Analysis\n",
        "\n",
        "The output above shows the top similar connections for each selected LinkedIn profile based on the cosine similarity of their Deep-LSA topic vectors. Here’s how to interpret these results:\n",
        "\n",
        "- **Cosine Similarity Scores:**  \n",
        "  Each similarity score (ranging from 0 to 1) indicates how closely related two connection profiles are, in terms of their semantic content. Scores closer to 1 suggest that the profiles share very similar latent semantic structures.\n",
        "\n",
        "- **Examples from the Output:**\n",
        "  - **Xasan Xusen:**  \n",
        "    - *Patrick Nathan* and *Zakaria Rebbah* both have a similarity score of **1.0000** with Xasan, meaning their profile representations are nearly identical. This may indicate they share similar roles, industries, or textual descriptions.\n",
        "  \n",
        "  - **Sbai Aymane:**  \n",
        "    - *Rania Daya* (Similarity: 0.9829) and *Farah Badaoui* (Similarity: 0.9635) are very close to Sbai in the semantic topic space. Their high scores suggest they likely work in related fields or have similar professional focuses.\n",
        "  \n",
        "  - **HIBA AMMISSA:**  \n",
        "    - The similarity scores with *Belaid Kharaz* (0.9906) and *Sohayb DAOUI* (0.9314) indicate strong semantic alignment, which may reflect shared expertise or industry involvement.\n",
        "  \n",
        "  - **Abdelilah Ouaddi:**  \n",
        "    - With *Tarek Jamil* (0.8946) and *Yassine Bennani Karim* (0.8888) showing the highest similarities, these connections likely have comparable job functions or similar professional descriptors.\n",
        "  \n",
        "  - **SALMA MADOUD:**  \n",
        "    - The profiles of *Yahya Zahni* (1.0000) and *El Mehdi Ziate* (0.9999) are almost identical in the latent topic space, suggesting a very high degree of similarity in their professional profiles.\n",
        "\n",
        "- **Overall Insight:**  \n",
        "  These high similarity scores indicate that the Deep-LSA model has effectively captured key semantic attributes of each profile. The resulting similar connections can provide insights into clusters or communities within your LinkedIn network that share common professional themes or roles.\n",
        "\n",
        "**Note:**  \n",
        "Perfect or near-perfect similarity (e.g., scores of 1.0000) may warrant further inspection to ensure that these results are not due to duplicate or nearly identical data entries. In practice, such analyses help in understanding the distribution of expertise and the clustering of similar profiles within a professional network.\n"
      ],
      "metadata": {
        "id": "WtsxMasbPoxG"
      }
    },
    {
      "cell_type": "markdown",
      "source": [
        "## Part 2: Using Transformer-based Embeddings for Comment Similarity Analysis\n",
        "\n",
        "### 2.1 Import Libraries and Create Dataset"
      ],
      "metadata": {
        "id": "3XSgQ74Ro39V"
      }
    },
    {
      "cell_type": "code",
      "source": [
        "# Define the provided datasets\n",
        "positive_comments = [\n",
        "    \"You're setting the bar high! Keep pushing boundaries! 💪🔥💡\",\n",
        "    \"This is absolutely brilliant! Thank you for sharing your insights! 👏\",\n",
        "    \"What a thoughtful analysis! I learned so much from this 🙌\",\n",
        "    \"Your perspective is refreshing and valuable! 😊 Thank you!\",\n",
        "    \"Amazing work! You've clearly put a lot of thought into this 👍\",\n",
        "    \"This comment made my day brighter! ☀️ Thank you!\",\n",
        "    \"I'm impressed by your knowledge and clarity of expression! 💯\",\n",
        "    \"Such a positive contribution to the discussion! 🌟\",\n",
        "    \"I appreciate your optimism and constructive feedback! 💖\",\n",
        "    \"Your ideas are innovative and inspiring! 🚀\",\n",
        "    \"Thank you for this well-articulated and helpful comment! 🙏\",\n",
        "    \"You've given me something new to consider, much appreciated! 💭\",\n",
        "    \"This is exactly the kind of positive dialogue we need! ✨\",\n",
        "    \"I value your perspective and the respectful way you share it! 🤝\",\n",
        "    \"What a delightful and insightful comment! 😄👍\",\n",
        "    \"You've brightened this thread with your kindness! 🌈\",\n",
        "    \"Such an eloquent and thoughtful contribution! 📚\",\n",
        "    \"Your comment shows real empathy and understanding! ❤️\",\n",
        "    \"I'm grateful for your positive energy and insights! 🌻\",\n",
        "    \"This is such a supportive and encouraging comment! 🌱\"\n",
        "]\n",
        "\n",
        "ambiguous_insults = [\n",
        "    \"This is... cute. Like a toddler trying to do math. 😂\",\n",
        "    \"Bless your heart for thinking this was good. 🙄\",\n",
        "    \"Wow, groundbreaking stuff here. I can't believe no one thought of this before. 😴\",\n",
        "    \"Are you always this articulate or is today special? 😉\",\n",
        "    \"I'm impressed you managed to type that with your limited intellectual capacity. 🤯\",\n",
        "    \"Your logic is almost as flawless as your grammar. 👌\",\n",
        "    \"Thanks for sharing your 'expertise' with all of us. 🧠\",\n",
        "    \"Did you come up with that all by yourself? How adorable. 🥺\",\n",
        "    \"I can explain it to you, but I can't understand it for you. 😅\",\n",
        "    \"When I want your opinion, I'll give it to you. 😘\",\n",
        "    \"I'd agree with you, but then we'd both be wrong. 🤷‍♂️\",\n",
        "    \"Your argument has all the depth of a puddle. 💦\",\n",
        "    \"Who hurt you to make you think that was a good point? 💔\",\n",
        "    \"Nice opinion. Did you get it on sale? 🛒\",\n",
        "    \"You're about as sharp as a marble, aren't you? 🔮\",\n",
        "    \"I'm trying to see things from your perspective, but I can't get my head that far up. 🙃\",\n",
        "    \"If ignorance is bliss, you must be the happiest person alive. 😊\",\n",
        "    \"I don't have the time or crayons to explain this to you. 🖍️\",\n",
        "    \"Not sure if you're trying to be funny or if this is your actual personality. 🤔\",\n",
        "    \"Oh honey, thinking isn't your strong suit, is it? 💭\"\n",
        "]\n",
        "\n",
        "# Create a DataFrame\n",
        "comments_data = {\n",
        "    'comment_text': positive_comments + ambiguous_insults,\n",
        "    'label': ['positive'] * len(positive_comments) + ['insult'] * len(ambiguous_insults)\n",
        "}\n",
        "\n",
        "comments_df = pd.DataFrame(comments_data)\n",
        "print(\"Created comments DataFrame with shape:\", comments_df.shape)\n",
        "print(comments_df.head())"
      ],
      "metadata": {
        "colab": {
          "base_uri": "https://localhost:8080/"
        },
        "id": "XQJn__VqpDp-",
        "outputId": "0a7db3ca-d628-4df0-f26a-f1b3fa56ee97"
      },
      "execution_count": 56,
      "outputs": [
        {
          "output_type": "stream",
          "name": "stdout",
          "text": [
            "Created comments DataFrame with shape: (40, 2)\n",
            "                                        comment_text     label\n",
            "0  You're setting the bar high! Keep pushing boun...  positive\n",
            "1  This is absolutely brilliant! Thank you for sh...  positive\n",
            "2  What a thoughtful analysis! I learned so much ...  positive\n",
            "3  Your perspective is refreshing and valuable! 😊...  positive\n",
            "4  Amazing work! You've clearly put a lot of thou...  positive\n"
          ]
        }
      ]
    },
    {
      "cell_type": "markdown",
      "source": [
        "### 2.2 Preprocess Comments Data"
      ],
      "metadata": {
        "id": "LKMo9NYWpKjc"
      }
    },
    {
      "cell_type": "code",
      "source": [
        "# Function to remove emojis\n",
        "def remove_emojis(text):\n",
        "    emoji_pattern = re.compile(\"[\"\n",
        "                               u\"\\U0001F600-\\U0001F64F\"  # emoticons\n",
        "                               u\"\\U0001F300-\\U0001F5FF\"  # symbols & pictographs\n",
        "                               u\"\\U0001F680-\\U0001F6FF\"  # transport & map symbols\n",
        "                               u\"\\U0001F700-\\U0001F77F\"  # alchemical symbols\n",
        "                               u\"\\U0001F780-\\U0001F7FF\"  # Geometric Shapes\n",
        "                               u\"\\U0001F800-\\U0001F8FF\"  # Supplemental Arrows-C\n",
        "                               u\"\\U0001F900-\\U0001F9FF\"  # Supplemental Symbols and Pictographs\n",
        "                               u\"\\U0001FA00-\\U0001FA6F\"  # Chess Symbols\n",
        "                               u\"\\U0001FA70-\\U0001FAFF\"  # Symbols and Pictographs Extended-A\n",
        "                               u\"\\U00002702-\\U000027B0\"  # Dingbats\n",
        "                               u\"\\U000024C2-\\U0001F251\"\n",
        "                               \"]+\", flags=re.UNICODE)\n",
        "    return emoji_pattern.sub(r'', text)"
      ],
      "metadata": {
        "id": "Qzv7h6xApJmG"
      },
      "execution_count": 57,
      "outputs": []
    },
    {
      "cell_type": "code",
      "source": [
        "# Preprocess by removing emojis\n",
        "comments_df['cleaned_text'] = comments_df['comment_text'].apply(remove_emojis)"
      ],
      "metadata": {
        "id": "IsC4m_PEpPv8"
      },
      "execution_count": 58,
      "outputs": []
    },
    {
      "cell_type": "markdown",
      "source": [
        "### 2.3 Generate Transformer-Based Embeddings"
      ],
      "metadata": {
        "id": "vyFUR8mZpVFI"
      }
    },
    {
      "cell_type": "code",
      "source": [
        "# Function to create embeddings using a transformer model\n",
        "def get_transformer_embeddings(texts, model_name=\"sentence-transformers/all-MiniLM-L6-v2\"):\n",
        "    # Load model and tokenizer\n",
        "    tokenizer = AutoTokenizer.from_pretrained(model_name)\n",
        "    model = AutoModel.from_pretrained(model_name)\n",
        "\n",
        "    # Move model to GPU if available\n",
        "    device = torch.device(\"cuda\" if torch.cuda.is_available() else \"cpu\")\n",
        "    model = model.to(device)\n",
        "\n",
        "    embeddings = []\n",
        "    batch_size = 8\n",
        "\n",
        "    # Process in batches to avoid memory issues\n",
        "    for i in range(0, len(texts), batch_size):\n",
        "        batch_texts = texts[i:i+batch_size]\n",
        "\n",
        "        # Tokenize\n",
        "        encoded_input = tokenizer(\n",
        "            batch_texts,\n",
        "            padding=True,\n",
        "            truncation=True,\n",
        "            max_length=512,\n",
        "            return_tensors='pt'\n",
        "        ).to(device)\n",
        "\n",
        "        # Get model output\n",
        "        with torch.no_grad():\n",
        "            model_output = model(**encoded_input)\n",
        "\n",
        "        # Mean Pooling - Take attention mask into account for averaging\n",
        "        attention_mask = encoded_input['attention_mask']\n",
        "        token_embeddings = model_output.last_hidden_state\n",
        "        input_mask_expanded = attention_mask.unsqueeze(-1).expand(token_embeddings.size()).float()\n",
        "        sum_embeddings = torch.sum(token_embeddings * input_mask_expanded, 1)\n",
        "        sum_mask = torch.clamp(input_mask_expanded.sum(1), min=1e-9)\n",
        "        batch_embeddings = (sum_embeddings / sum_mask).cpu().numpy()\n",
        "\n",
        "        embeddings.extend(batch_embeddings)\n",
        "\n",
        "    return np.array(embeddings)"
      ],
      "metadata": {
        "id": "UZqicozUpWBE"
      },
      "execution_count": 59,
      "outputs": []
    },
    {
      "cell_type": "code",
      "source": [
        "# Generate embeddings for all comments using transformer\n",
        "print(\"Generating transformer embeddings for all comments...\")\n",
        "transformer_embeddings = get_transformer_embeddings(comments_df['cleaned_text'].tolist())\n",
        "print(f\"Generated transformer embeddings with shape: {transformer_embeddings.shape}\")"
      ],
      "metadata": {
        "colab": {
          "base_uri": "https://localhost:8080/"
        },
        "id": "s3gR58K5prRe",
        "outputId": "a2a36b40-388d-4fed-d971-41d2527d99fb"
      },
      "execution_count": 60,
      "outputs": [
        {
          "output_type": "stream",
          "name": "stdout",
          "text": [
            "Generating transformer embeddings for all comments...\n"
          ]
        },
        {
          "output_type": "stream",
          "name": "stderr",
          "text": [
            "/usr/local/lib/python3.11/dist-packages/huggingface_hub/utils/_auth.py:94: UserWarning: \n",
            "The secret `HF_TOKEN` does not exist in your Colab secrets.\n",
            "To authenticate with the Hugging Face Hub, create a token in your settings tab (https://huggingface.co/settings/tokens), set it as secret in your Google Colab and restart your session.\n",
            "You will be able to reuse this secret in all of your notebooks.\n",
            "Please note that authentication is recommended but still optional to access public models or datasets.\n",
            "  warnings.warn(\n"
          ]
        },
        {
          "output_type": "stream",
          "name": "stdout",
          "text": [
            "Generated transformer embeddings with shape: (40, 384)\n"
          ]
        }
      ]
    },
    {
      "cell_type": "markdown",
      "source": [
        "### 2.4 Find Similar Comments Using Transformer Embeddings\n"
      ],
      "metadata": {
        "id": "WkNdJw51p0JX"
      }
    },
    {
      "cell_type": "code",
      "source": [
        "# Get unique labels\n",
        "unique_labels = comments_df['label'].unique()\n",
        "print(f\"Unique labels in the dataset: {unique_labels}\")"
      ],
      "metadata": {
        "colab": {
          "base_uri": "https://localhost:8080/"
        },
        "id": "WgUjT5wNp08U",
        "outputId": "1518adf3-2301-4606-d65d-c0f4a22497d3"
      },
      "execution_count": 61,
      "outputs": [
        {
          "output_type": "stream",
          "name": "stdout",
          "text": [
            "Unique labels in the dataset: ['positive' 'insult']\n"
          ]
        }
      ]
    },
    {
      "cell_type": "code",
      "source": [
        "# Select one comment from each label\n",
        "selected_comments = {}\n",
        "for label in unique_labels:\n",
        "    label_comments = comments_df[comments_df['label'] == label]\n",
        "    if not label_comments.empty:\n",
        "        # Randomly select one comment from this label\n",
        "        selected_index = random.choice(label_comments.index)\n",
        "        selected_comment = comments_df.loc[selected_index]\n",
        "        selected_comments[label] = (selected_index, selected_comment['comment_text'])\n",
        "\n",
        "print(\"\\nSelected comments (one from each label):\")\n",
        "for label, (idx, comment) in selected_comments.items():\n",
        "    print(f\"{label}: \\\"{comment}\\\"\")"
      ],
      "metadata": {
        "colab": {
          "base_uri": "https://localhost:8080/"
        },
        "id": "NQgkNzX3p9Mq",
        "outputId": "8172e069-37bb-4cfc-ba5d-6196f9e600de"
      },
      "execution_count": 62,
      "outputs": [
        {
          "output_type": "stream",
          "name": "stdout",
          "text": [
            "\n",
            "Selected comments (one from each label):\n",
            "positive: \"Such an eloquent and thoughtful contribution! 📚\"\n",
            "insult: \"Bless your heart for thinking this was good. 🙄\"\n"
          ]
        }
      ]
    },
    {
      "cell_type": "code",
      "source": [
        "# For each selected comment, find the top 5 most similar comments using transformer embeddings\n",
        "print(\"\\nFinding top 5 similar comments using transformer embeddings:\")\n",
        "for label, (selected_idx, selected_comment) in selected_comments.items():\n",
        "    print(f\"\\nFor {label} comment: \\\"{selected_comment}\\\"\")\n",
        "\n",
        "    # Get the embedding for the selected comment\n",
        "    selected_embedding = transformer_embeddings[selected_idx].reshape(1, -1)\n",
        "\n",
        "    # Calculate cosine similarity with all other comments\n",
        "    similarities = cosine_similarity(selected_embedding, transformer_embeddings)[0]\n",
        "\n",
        "    # Get indices of top 6 similar comments (including self)\n",
        "    top_indices = similarities.argsort()[::-1][:6]\n",
        "\n",
        "    # Print top 5 similar comments (excluding self if in top 5)\n",
        "    count = 0\n",
        "    for idx in top_indices:\n",
        "        if count >= 5:\n",
        "            break\n",
        "\n",
        "        # Skip if it's the same comment\n",
        "        if idx == selected_idx:\n",
        "            continue\n",
        "\n",
        "        sim_comment = comments_df.iloc[idx]['comment_text']\n",
        "        sim_label = comments_df.iloc[idx]['label']\n",
        "        sim_score = similarities[idx]\n",
        "\n",
        "        print(f\"{count+1}. \\\"{sim_comment}\\\" (Label: {sim_label}, Similarity: {sim_score:.4f})\")\n",
        "        count += 1\n"
      ],
      "metadata": {
        "colab": {
          "base_uri": "https://localhost:8080/"
        },
        "id": "BMuoDdBoqEef",
        "outputId": "6ec1eb1b-86e9-42c9-89bc-9a143cde6093"
      },
      "execution_count": 63,
      "outputs": [
        {
          "output_type": "stream",
          "name": "stdout",
          "text": [
            "\n",
            "Finding top 5 similar comments using transformer embeddings:\n",
            "\n",
            "For positive comment: \"Such an eloquent and thoughtful contribution! 📚\"\n",
            "1. \"Such a positive contribution to the discussion! 🌟\" (Label: positive, Similarity: 0.6284)\n",
            "2. \"What a thoughtful analysis! I learned so much from this 🙌\" (Label: positive, Similarity: 0.5180)\n",
            "3. \"What a delightful and insightful comment! 😄👍\" (Label: positive, Similarity: 0.5029)\n",
            "4. \"Your perspective is refreshing and valuable! 😊 Thank you!\" (Label: positive, Similarity: 0.4791)\n",
            "5. \"I'm grateful for your positive energy and insights! 🌻\" (Label: positive, Similarity: 0.4745)\n",
            "\n",
            "For insult comment: \"Bless your heart for thinking this was good. 🙄\"\n",
            "1. \"You've brightened this thread with your kindness! 🌈\" (Label: positive, Similarity: 0.3767)\n",
            "2. \"What a delightful and insightful comment! 😄👍\" (Label: positive, Similarity: 0.3727)\n",
            "3. \"This is exactly the kind of positive dialogue we need! ✨\" (Label: positive, Similarity: 0.3717)\n",
            "4. \"I'm grateful for your positive energy and insights! 🌻\" (Label: positive, Similarity: 0.3642)\n",
            "5. \"Wow, groundbreaking stuff here. I can't believe no one thought of this before. 😴\" (Label: insult, Similarity: 0.3560)\n"
          ]
        }
      ]
    },
    {
      "cell_type": "markdown",
      "source": [
        "## Part 3: Word2Vec Embeddings and Comparison with Transformer\n",
        "### 3.1 Generate Word2Vec Embeddings\n"
      ],
      "metadata": {
        "id": "asq_Smw9qMGU"
      }
    },
    {
      "cell_type": "code",
      "source": [
        "# Import additional library\n",
        "from gensim.models import Word2Vec\n",
        "\n",
        "# Preprocessing function for Word2Vec\n",
        "def preprocess_for_word2vec(text):\n",
        "    if pd.isna(text):\n",
        "        return []\n",
        "\n",
        "    # Convert to lowercase and remove special characters\n",
        "    text = re.sub(r'[^a-zA-Z\\s]', '', text.lower())\n",
        "\n",
        "    # Tokenize\n",
        "    tokens = word_tokenize(text)\n",
        "\n",
        "    # Remove stopwords\n",
        "    stop_words = set(stopwords.words('english'))\n",
        "    tokens = [token for token in tokens if token not in stop_words and len(token) > 1]\n",
        "\n",
        "    return tokens"
      ],
      "metadata": {
        "id": "w84JNhsjqLP0"
      },
      "execution_count": 64,
      "outputs": []
    },
    {
      "cell_type": "code",
      "source": [
        "# Preprocess all comments for Word2Vec\n",
        "print(\"Preprocessing comments for Word2Vec...\")\n",
        "comments_df['tokenized_text'] = comments_df['cleaned_text'].apply(preprocess_for_word2vec)\n",
        "tokenized_comments = comments_df['tokenized_text'].tolist()\n",
        "\n",
        "# Train Word2Vec model\n",
        "print(\"Training Word2Vec model...\")\n",
        "w2v_model = Word2Vec(\n",
        "    sentences=tokenized_comments,\n",
        "    vector_size=100,\n",
        "    window=5,\n",
        "    min_count=1,\n",
        "    workers=4,\n",
        "    sg=1  # Skip-gram model\n",
        ")"
      ],
      "metadata": {
        "colab": {
          "base_uri": "https://localhost:8080/"
        },
        "id": "xzHzXWgFqTSd",
        "outputId": "d4c30da1-c77e-4f3d-85c1-e5b1b6ec8366"
      },
      "execution_count": 65,
      "outputs": [
        {
          "output_type": "stream",
          "name": "stdout",
          "text": [
            "Preprocessing comments for Word2Vec...\n",
            "Training Word2Vec model...\n"
          ]
        }
      ]
    },
    {
      "cell_type": "code",
      "source": [
        "# Function to get document embeddings from Word2Vec\n",
        "def get_document_embedding(tokens, model):\n",
        "    # Get embeddings for each token\n",
        "    token_embeddings = []\n",
        "    for token in tokens:\n",
        "        if token in model.wv:\n",
        "            token_embeddings.append(model.wv[token])\n",
        "\n",
        "    # If no tokens have embeddings, return zeros\n",
        "    if not token_embeddings:\n",
        "        return np.zeros(model.vector_size)\n",
        "\n",
        "    # Average the token embeddings\n",
        "    return np.mean(token_embeddings, axis=0)"
      ],
      "metadata": {
        "id": "2AGoN3-AqeN-"
      },
      "execution_count": 66,
      "outputs": []
    },
    {
      "cell_type": "code",
      "source": [
        "# Generate document embeddings for all comments using Word2Vec\n",
        "print(\"Generating Word2Vec document embeddings...\")\n",
        "w2v_embeddings = []\n",
        "for tokens in tokenized_comments:\n",
        "    w2v_embeddings.append(get_document_embedding(tokens, w2v_model))\n",
        "w2v_embeddings = np.array(w2v_embeddings)\n",
        "\n",
        "print(f\"Generated Word2Vec embeddings with shape: {w2v_embeddings.shape}\")"
      ],
      "metadata": {
        "colab": {
          "base_uri": "https://localhost:8080/"
        },
        "id": "9PXqHLc4qktV",
        "outputId": "c4305ad7-5712-4e4e-afaf-114675235702"
      },
      "execution_count": 67,
      "outputs": [
        {
          "output_type": "stream",
          "name": "stdout",
          "text": [
            "Generating Word2Vec document embeddings...\n",
            "Generated Word2Vec embeddings with shape: (40, 100)\n"
          ]
        }
      ]
    },
    {
      "cell_type": "markdown",
      "source": [
        "### 3.2 Find Similar Comments Using Word2Vec Embeddings\n"
      ],
      "metadata": {
        "id": "mC_fgL2Bqna2"
      }
    },
    {
      "cell_type": "code",
      "source": [
        "# For each selected comment, find the top 5 most similar comments using Word2Vec\n",
        "print(\"\\nFinding top 5 similar comments using Word2Vec embeddings:\")\n",
        "for label, (selected_idx, selected_comment) in selected_comments.items():\n",
        "    print(f\"\\nFor {label} comment: \\\"{selected_comment}\\\"\")\n",
        "\n",
        "    # Get the embedding for the selected comment\n",
        "    selected_embedding = w2v_embeddings[selected_idx].reshape(1, -1)\n",
        "\n",
        "    # Calculate cosine similarity with all other comments\n",
        "    similarities = cosine_similarity(selected_embedding, w2v_embeddings)[0]\n",
        "\n",
        "    # Get indices of top 6 similar comments (including self)\n",
        "    top_indices = similarities.argsort()[::-1][:6]\n",
        "\n",
        "    # Print top 5 similar comments (excluding self if in top 5)\n",
        "    count = 0\n",
        "    for idx in top_indices:\n",
        "        if count >= 5:\n",
        "            break\n",
        "\n",
        "        # Skip if it's the same comment\n",
        "        if idx == selected_idx:\n",
        "            continue\n",
        "\n",
        "        sim_comment = comments_df.iloc[idx]['comment_text']\n",
        "        sim_label = comments_df.iloc[idx]['label']\n",
        "        sim_score = similarities[idx]\n",
        "\n",
        "        print(f\"{count+1}. \\\"{sim_comment}\\\" (Label: {sim_label}, Similarity: {sim_score:.4f})\")\n",
        "        count += 1"
      ],
      "metadata": {
        "colab": {
          "base_uri": "https://localhost:8080/"
        },
        "id": "7U5ES2sVqoWn",
        "outputId": "746aea48-9d77-44a7-f0bd-197ee91906b3"
      },
      "execution_count": 68,
      "outputs": [
        {
          "output_type": "stream",
          "name": "stdout",
          "text": [
            "\n",
            "Finding top 5 similar comments using Word2Vec embeddings:\n",
            "\n",
            "For positive comment: \"Such an eloquent and thoughtful contribution! 📚\"\n",
            "1. \"Such a positive contribution to the discussion! 🌟\" (Label: positive, Similarity: 0.3793)\n",
            "2. \"What a thoughtful analysis! I learned so much from this 🙌\" (Label: positive, Similarity: 0.2966)\n",
            "3. \"Are you always this articulate or is today special? 😉\" (Label: insult, Similarity: 0.2492)\n",
            "4. \"I value your perspective and the respectful way you share it! 🤝\" (Label: positive, Similarity: 0.2002)\n",
            "5. \"Your perspective is refreshing and valuable! 😊 Thank you!\" (Label: positive, Similarity: 0.1881)\n",
            "\n",
            "For insult comment: \"Bless your heart for thinking this was good. 🙄\"\n",
            "1. \"Who hurt you to make you think that was a good point? 💔\" (Label: insult, Similarity: 0.3749)\n",
            "2. \"Oh honey, thinking isn't your strong suit, is it? 💭\" (Label: insult, Similarity: 0.2901)\n",
            "3. \"Nice opinion. Did you get it on sale? 🛒\" (Label: insult, Similarity: 0.1649)\n",
            "4. \"Your argument has all the depth of a puddle. 💦\" (Label: insult, Similarity: 0.1069)\n",
            "5. \"I'm trying to see things from your perspective, but I can't get my head that far up. 🙃\" (Label: insult, Similarity: 0.0840)\n"
          ]
        }
      ]
    },
    {
      "cell_type": "markdown",
      "source": [
        "### Explanation of Word2Vec Similarity Results for Comments\n",
        "\n",
        "The output above shows the top 5 similar comments for two selected comments, as determined by computing the cosine similarity between their Word2Vec-based document embeddings. Here’s how to interpret these results:\n",
        "\n",
        "- **Cosine Similarity:**  \n",
        "  The similarity values (ranging from 0 to 1) indicate how close the embeddings of two comments are in the vector space. Higher values mean that the comments share more lexical and semantic features as captured by Word2Vec.\n",
        "\n",
        "- **For the Positive Comment (\"Your perspective is refreshing and valuable! 😊 Thank you!\"):**\n",
        "  - The top similar comment is \"I value your perspective and the respectful way you share it! 🤝\" with a similarity of **0.4057**, indicating a moderate level of semantic overlap.\n",
        "  - The second similar comment, \"I'm trying to see things from your perspective, but I can't get my head that far up. 🙃\" (similarity **0.4037**), comes from the insult category. This shows that some words (like \"perspective\") may be shared between comments of different labels, leading to a moderate similarity even if the overall sentiment differs.\n",
        "  - The remaining comments also have moderate similarity scores, with most being labeled as positive. This suggests that, despite some overlapping vocabulary across sentiments, the majority of the similar comments for this positive sample are indeed positive.\n",
        "\n",
        "- **For the Insult Comment (\"Thanks for sharing your 'expertise' with all of us. 🧠\"):**\n",
        "  - The top similar comment is \"This is absolutely brilliant! Thank you for sharing your insights! 👏\" (similarity **0.3248**), even though it is labeled as positive. This indicates that, in the Word2Vec semantic space, there is some overlap in the vocabulary or phrasing that transcends the sentiment distinction.\n",
        "  - The similarity scores for the insult comment are generally lower, and only one of the top five similar comments is also labeled as insult (\"Nice opinion. Did you get it on sale? 🛒\", similarity **0.1723**).\n",
        "  \n",
        "**Overall Insight:**  \n",
        "- **Word2Vec's Nature:** Word2Vec embeddings are largely based on local lexical context. As a result, they capture word-level similarities which might sometimes blur the line between different sentiment categories if similar words are used in both (for example, the word “perspective” in both a positive and a sarcastic/insulting comment).\n",
        "- **Interpretation of Scores:** The moderate similarity scores (ranging approximately from 0.12 to 0.41) indicate that while there is some degree of shared language, the semantic overlap isn’t very strong. This suggests that additional modeling or fine-tuning might be necessary for a more robust separation of sentiment categories.\n",
        "- **Label Mixing:** The appearance of comments from the opposite sentiment (e.g., an insult comment appearing among the top similar ones for a positive comment) highlights that Word2Vec captures lexical similarity without necessarily understanding the contextual sentiment.\n",
        "\n",
        "These results demonstrate the strengths and limitations of using Word2Vec for semantic similarity on short texts. While it is effective in capturing basic lexical relationships, its performance in distinguishing sentiment-specific nuances might be improved by using context-aware models or further fine-tuning.\n"
      ],
      "metadata": {
        "id": "GUhO-6jgQFom"
      }
    },
    {
      "cell_type": "markdown",
      "source": [
        "### 3.3 Compare Transformer vs Word2Vec Embeddings\n"
      ],
      "metadata": {
        "id": "Cv0GpC1cqwVF"
      }
    },
    {
      "cell_type": "code",
      "source": [
        "# Function to evaluate the similarity of comments within the same label\n",
        "def evaluate_label_coherence(embeddings, labels):\n",
        "    unique_labels = set(labels)\n",
        "    label_coherence = {}\n",
        "\n",
        "    for label in unique_labels:\n",
        "        # Get indices of comments with this label\n",
        "        indices = [i for i, l in enumerate(labels) if l == label]\n",
        "\n",
        "        if len(indices) <= 1:\n",
        "            # Skip labels with only one comment\n",
        "            continue\n",
        "\n",
        "        # Calculate pairwise similarities between comments with the same label\n",
        "        label_embeddings = embeddings[indices]\n",
        "        similarities = cosine_similarity(label_embeddings)\n",
        "\n",
        "        # Calculate average similarity (excluding self-similarity)\n",
        "        total_sim = 0\n",
        "        count = 0\n",
        "        for i in range(len(indices)):\n",
        "            for j in range(i+1, len(indices)):\n",
        "                total_sim += similarities[i, j]\n",
        "                count += 1\n",
        "\n",
        "        # Calculate average similarity\n",
        "        avg_similarity = total_sim / count if count > 0 else 0\n",
        "        label_coherence[label] = avg_similarity\n",
        "\n",
        "    return label_coherence"
      ],
      "metadata": {
        "id": "wfDK4_HarG-Q"
      },
      "execution_count": 69,
      "outputs": []
    },
    {
      "cell_type": "code",
      "source": [
        "# Calculate label coherence for both embedding methods\n",
        "transformer_coherence = evaluate_label_coherence(transformer_embeddings, comments_df['label'].tolist())\n",
        "w2v_coherence = evaluate_label_coherence(w2v_embeddings, comments_df['label'].tolist())\n",
        "\n",
        "# Print results\n",
        "print(\"\\nAverage cosine similarity between comments with the same label:\")\n",
        "print(\"\\nTransformer embeddings:\")\n",
        "for label, coherence in transformer_coherence.items():\n",
        "    print(f\"{label}: {coherence:.4f}\")\n",
        "\n",
        "print(\"\\nWord2Vec embeddings:\")\n",
        "for label, coherence in w2v_coherence.items():\n",
        "    print(f\"{label}: {coherence:.4f}\")"
      ],
      "metadata": {
        "id": "QrhQJ3tKrKQO",
        "outputId": "b5f164f9-c6cb-4711-f3de-ae307436a5f3",
        "colab": {
          "base_uri": "https://localhost:8080/"
        }
      },
      "execution_count": 70,
      "outputs": [
        {
          "output_type": "stream",
          "name": "stdout",
          "text": [
            "\n",
            "Average cosine similarity between comments with the same label:\n",
            "\n",
            "Transformer embeddings:\n",
            "positive: 0.3651\n",
            "insult: 0.1712\n",
            "\n",
            "Word2Vec embeddings:\n",
            "positive: 0.0532\n",
            "insult: 0.0166\n"
          ]
        }
      ]
    },
    {
      "cell_type": "markdown",
      "source": [
        "### Explanation of Average Cosine Similarity Within Labels\n",
        "\n",
        "The average cosine similarity values provide insight into how consistently the embedding models capture semantic similarity among comments sharing the same label.\n",
        "\n",
        "- **Transformer Embeddings:**\n",
        "  - **Insult:** 0.1712\n",
        "  - **Positive:** 0.3651\n",
        "\n",
        "- **Word2Vec Embeddings:**\n",
        "  - **Insult:** 0.0166\n",
        "  - **Positive:** 0.0532\n",
        "\n",
        "**Interpretation:**\n",
        "\n",
        "- **Transformer Embeddings:**  \n",
        "  The relatively higher average cosine similarity for positive comments (0.3651) suggests that the transformer model captures the semantic features of these comments more consistently. The lower but still notable value for insults (0.1712) indicates that even though there's some variation, the transformer model still manages to group similar insult comments together better than Word2Vec.\n",
        "\n",
        "- **Word2Vec Embeddings:**  \n",
        "  The much lower similarity values for both labels (0.0166 for insult and 0.0532 for positive) indicate that the Word2Vec model produces embeddings that are more dispersed. This dispersion might be due to Word2Vec's focus on local word contexts rather than the overall semantic meaning of an entire comment. As a result, comments within the same label are not as closely clustered together in the embedding space.\n",
        "\n",
        "**Key Takeaway:**  \n",
        "The higher intra-label similarity in transformer embeddings suggests they are more effective at capturing the nuanced semantic relationships among comments with the same sentiment. In contrast, Word2Vec embeddings, while capturing word-level similarities, may not provide as coherent a representation for grouping similar sentiment comments.\n"
      ],
      "metadata": {
        "id": "a_hAcUFFQYo8"
      }
    },
    {
      "cell_type": "code",
      "source": [
        "# Compare which method better separates different labels\n",
        "def evaluate_label_separation(embeddings, labels):\n",
        "    unique_labels = list(set(labels))\n",
        "\n",
        "    # Calculate centroid for each label\n",
        "    centroids = {}\n",
        "    for label in unique_labels:\n",
        "        indices = [i for i, l in enumerate(labels) if l == label]\n",
        "        label_embeddings = embeddings[indices]\n",
        "        centroid = np.mean(label_embeddings, axis=0)\n",
        "        centroids[label] = centroid\n",
        "\n",
        "    # Calculate distances between centroids\n",
        "    label_distances = {}\n",
        "    for i, label1 in enumerate(unique_labels):\n",
        "        for j, label2 in enumerate(unique_labels):\n",
        "            if i < j:  # Only calculate each pair once\n",
        "                centroid1 = centroids[label1]\n",
        "                centroid2 = centroids[label2]\n",
        "\n",
        "                # Calculate cosine similarity\n",
        "                similarity = cosine_similarity([centroid1], [centroid2])[0][0]\n",
        "                label_distances[(label1, label2)] = similarity\n",
        "\n",
        "    return label_distances"
      ],
      "metadata": {
        "id": "dMpIO89LLJGg"
      },
      "execution_count": 71,
      "outputs": []
    },
    {
      "cell_type": "code",
      "source": [
        "transformer_separation = evaluate_label_separation(transformer_embeddings, comments_df['label'].tolist())\n",
        "w2v_separation = evaluate_label_separation(w2v_embeddings, comments_df['label'].tolist())\n",
        "\n",
        "# Print results\n",
        "print(\"\\nCosine similarity between label centroids:\")\n",
        "print(\"\\nTransformer embeddings:\")\n",
        "for label_pair, similarity in transformer_separation.items():\n",
        "    print(f\"{label_pair[0]} vs {label_pair[1]}: {similarity:.4f}\")\n",
        "\n",
        "print(\"\\nWord2Vec embeddings:\")\n",
        "for label_pair, similarity in w2v_separation.items():\n",
        "    print(f\"{label_pair[0]} vs {label_pair[1]}: {similarity:.4f}\")\n"
      ],
      "metadata": {
        "colab": {
          "base_uri": "https://localhost:8080/"
        },
        "id": "gNV5viKYLPZ-",
        "outputId": "eaa008fe-b483-4253-9fb5-fd33f4dc28a1"
      },
      "execution_count": 72,
      "outputs": [
        {
          "output_type": "stream",
          "name": "stdout",
          "text": [
            "\n",
            "Cosine similarity between label centroids:\n",
            "\n",
            "Transformer embeddings:\n",
            "positive vs insult: 0.6419\n",
            "\n",
            "Word2Vec embeddings:\n",
            "positive vs insult: 0.1337\n"
          ]
        }
      ]
    },
    {
      "cell_type": "markdown",
      "source": [
        "### Explanation of Cosine Similarity Between Label Centroids\n",
        "\n",
        "The cosine similarity between label centroids is calculated by averaging the embeddings for all comments in each label and then measuring the cosine similarity between these average vectors. This metric gives an indication of how distinct the overall semantic representations are for each label.\n",
        "\n",
        "- **Transformer Embeddings (insult vs positive: 0.6419):**  \n",
        "  A cosine similarity of **0.6419** indicates that the centroids (average representations) for insult and positive comments are quite similar in the transformer embedding space. Despite transformer embeddings often showing good intra-label coherence (i.e., comments within the same label are closer together), the high similarity between the average vectors of the two labels suggests that, on a global level, the semantic content of the two classes overlaps considerably.\n",
        "\n",
        "- **Word2Vec Embeddings (insult vs positive: 0.1337):**  \n",
        "  A cosine similarity of **0.1337** between the centroids implies that the average representations for insult and positive comments are much more distinct in the Word2Vec embedding space. This lower similarity means that, overall, the two classes are well separated when considering their mean semantic content.\n",
        "\n",
        "**Key Takeaways:**\n",
        "\n",
        "- **Transformer Embeddings:**  \n",
        "  Even though transformer embeddings may capture more nuanced semantic details at the individual comment level (as seen in their intra-label coherence), the global (average) representations for different sentiment classes are less distinct, resulting in a higher centroid similarity.\n",
        "\n",
        "- **Word2Vec Embeddings:**  \n",
        "  Word2Vec produces more dispersed embeddings, which leads to centroids that are far apart. This lower cosine similarity between the centroids of insult and positive comments suggests that, overall, Word2Vec captures a clearer distinction between these two sentiment classes.\n",
        "\n",
        "**Overall Interpretation:**  \n",
        "While a lower centroid similarity is often desirable as it indicates better class separation, it’s important to consider this metric alongside others (like intra-label coherence). In this case, transformer embeddings show higher intra-label similarity but less separation between class centroids, whereas Word2Vec embeddings exhibit very low centroid similarity, indicating more distinct global representations for each sentiment.\n"
      ],
      "metadata": {
        "id": "0Kkx0Or9Q0F1"
      }
    },
    {
      "cell_type": "markdown",
      "source": [
        "### 3.4 Final Analysis and Conclusion\n"
      ],
      "metadata": {
        "id": "IG2r8pSiMNcr"
      }
    },
    {
      "cell_type": "code",
      "source": [
        "# Overall comparison\n",
        "print(\"\\n--- FINAL ANALYSIS ---\")\n",
        "print(\"\\nTransformer Embeddings Advantages:\")\n",
        "print(\"1. Better at understanding context and nuance in sarcastic/ambiguous insults\")\n",
        "print(\"2. More effective at capturing subtle differences between positive and insult comments\")\n",
        "print(\"3. Better at handling emoji-laden text after preprocessing\")\n",
        "print(\"4. Pre-trained on large corpora, so works well with this smaller dataset\")\n",
        "\n",
        "print(\"\\nWord2Vec Advantages:\")\n",
        "print(\"1. Computationally less expensive and faster to train\")\n",
        "print(\"2. Still captures semantic relationships between similar comments\")\n",
        "print(\"3. Good at identifying key terms that distinguish between comment types\")\n",
        "print(\"4. Can be effective when working with domain-specific terminology\")"
      ],
      "metadata": {
        "colab": {
          "base_uri": "https://localhost:8080/"
        },
        "id": "SBLgbMkWMLWw",
        "outputId": "317669e7-a10f-4dbc-a6f7-5bda44b6c982"
      },
      "execution_count": 73,
      "outputs": [
        {
          "output_type": "stream",
          "name": "stdout",
          "text": [
            "\n",
            "--- FINAL ANALYSIS ---\n",
            "\n",
            "Transformer Embeddings Advantages:\n",
            "1. Better at understanding context and nuance in sarcastic/ambiguous insults\n",
            "2. More effective at capturing subtle differences between positive and insult comments\n",
            "3. Better at handling emoji-laden text after preprocessing\n",
            "4. Pre-trained on large corpora, so works well with this smaller dataset\n",
            "\n",
            "Word2Vec Advantages:\n",
            "1. Computationally less expensive and faster to train\n",
            "2. Still captures semantic relationships between similar comments\n",
            "3. Good at identifying key terms that distinguish between comment types\n",
            "4. Can be effective when working with domain-specific terminology\n"
          ]
        }
      ]
    },
    {
      "cell_type": "code",
      "source": [
        "# Determine which method performed better at separating the labels\n",
        "transformer_insult_positive = None\n",
        "w2v_insult_positive = None\n",
        "for pair, sim in transformer_separation.items():\n",
        "    if 'insult' in pair and 'positive' in pair:\n",
        "        transformer_insult_positive = sim\n",
        "for pair, sim in w2v_separation.items():\n",
        "    if 'insult' in pair and 'positive' in pair:\n",
        "        w2v_insult_positive = sim\n",
        "\n",
        "if transformer_insult_positive is not None and w2v_insult_positive is not None:\n",
        "    if transformer_insult_positive < w2v_insult_positive:\n",
        "        print(\"\\nConclusion: Transformer embeddings provide better separation between positive comments and insults.\")\n",
        "    else:\n",
        "        print(\"\\nConclusion: Word2Vec embeddings provide better separation between positive comments and insults.\")\n",
        "    print(f\"Transformer similarity between centroids: {transformer_insult_positive:.4f}\")\n",
        "    print(f\"Word2Vec similarity between centroids: {w2v_insult_positive:.4f}\")\n",
        "    print(\"Lower similarity indicates better separation between the classes.\")"
      ],
      "metadata": {
        "colab": {
          "base_uri": "https://localhost:8080/"
        },
        "id": "s1WBb0ZqMWuf",
        "outputId": "65b2e25c-c4ea-49a9-e677-d412358285b6"
      },
      "execution_count": 74,
      "outputs": [
        {
          "output_type": "stream",
          "name": "stdout",
          "text": [
            "\n",
            "Conclusion: Word2Vec embeddings provide better separation between positive comments and insults.\n",
            "Transformer similarity between centroids: 0.6419\n",
            "Word2Vec similarity between centroids: 0.1337\n",
            "Lower similarity indicates better separation between the classes.\n"
          ]
        }
      ]
    }
  ]
}